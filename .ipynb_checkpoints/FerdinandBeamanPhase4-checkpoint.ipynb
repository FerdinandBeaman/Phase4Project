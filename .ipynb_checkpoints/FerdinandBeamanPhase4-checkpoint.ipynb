{
 "cells": [
  {
   "cell_type": "markdown",
   "metadata": {},
   "source": [
    "# Ferdinand Beaman Phase 4 Project"
   ]
  },
  {
   "cell_type": "markdown",
   "metadata": {},
   "source": [
    "For this project, I attempted to take about ten thousand curated tweets categorize them by their positivity. Thankfully, they have already been labeled by the helpful people here: https://data.world/crowdflower/brands-and-product-emotions\n",
    "\n",
    "My hypothetical business problem: The organizers of South by Southwest contacted me to collect public opinion about what they did right at a given year's festival in order for them to know what to emphasize next time.\n",
    "\n",
    "I considered building a ternary instead of binary classifier (positive, neutral, and then also negative), but considering both the small size of the third class and my own time remaining in the program, I decided against it.\n",
    "\n",
    "There was a class imbalance (2:1), but my research suggests that it's only moderate and not strong enough for me to intervene. With that in mind and seeing no other reasons to have special sensitivity for false negatives/positives, I predominately used accuracy scores to rank models' performances. However, if there did happen to be some major issue with either recall/precision regarding the minority class, I would take that into account.\n",
    "\n",
    "I went with a Naive Bayes classifier because it appears to be approximately as accurate as the more complex classifier while being significantly easier on both my computer and my mind.\n",
    "\n",
    "Midway, I ran into an unexpected surprise: a message in Spanish. So I spent an embarrassingly long time trying to figure out how to manage non-English languages. I searched for messages that contained no English stopwords and/or messages that contained any stopwords in common languages (excluding stopwords in those languages that are also in the English list). Ultimately, it was all for naught. I realized that either the messages would be so rare as to be essentially thrown out by the process which means they're not worth deleting *or* the messages will be common enough to matter. With that whole subsection gone, this paragraph is mostly here in memoriam."
   ]
  },
  {
   "cell_type": "markdown",
   "metadata": {},
   "source": [
    "## Exploratory phase"
   ]
  },
  {
   "cell_type": "markdown",
   "metadata": {},
   "source": [
    "As one might expect, here are the libraries I used and a preview of the database:"
   ]
  },
  {
   "cell_type": "code",
   "execution_count": 1,
   "metadata": {
    "ExecuteTime": {
     "end_time": "2024-04-05T08:22:14.761006Z",
     "start_time": "2024-04-05T08:22:13.200127Z"
    }
   },
   "outputs": [
    {
     "name": "stderr",
     "output_type": "stream",
     "text": [
      "[nltk_data] Downloading package wordnet to /Users/ferdi/nltk_data...\n",
      "[nltk_data]   Package wordnet is already up-to-date!\n"
     ]
    }
   ],
   "source": [
    "import pandas as pd\n",
    "import matplotlib.pyplot as plt\n",
    "import numpy as np\n",
    "%matplotlib inline\n",
    "\n",
    "import nltk\n",
    "from nltk import FreqDist\n",
    "from nltk.corpus import stopwords\n",
    "from nltk.tokenize import RegexpTokenizer\n",
    "from nltk.stem.wordnet import WordNetLemmatizer\n",
    "nltk.download('wordnet')\n",
    "from nltk.collocations import *\n",
    "import string\n",
    "import re\n",
    "import matplotlib.pyplot as plt\n",
    "\n",
    "from sklearn.model_selection import train_test_split, GridSearchCV\n",
    "from sklearn.feature_extraction.text import CountVectorizer\n",
    "from sklearn.feature_extraction.text import TfidfVectorizer\n",
    "from sklearn.naive_bayes import MultinomialNB\n",
    "from sklearn.metrics import accuracy_score, confusion_matrix\n",
    "from sklearn.metrics import ConfusionMatrixDisplay"
   ]
  },
  {
   "cell_type": "code",
   "execution_count": 2,
   "metadata": {
    "ExecuteTime": {
     "end_time": "2024-04-05T08:22:14.796185Z",
     "start_time": "2024-04-05T08:22:14.762239Z"
    },
    "scrolled": false
   },
   "outputs": [
    {
     "data": {
      "text/html": [
       "<div>\n",
       "<style scoped>\n",
       "    .dataframe tbody tr th:only-of-type {\n",
       "        vertical-align: middle;\n",
       "    }\n",
       "\n",
       "    .dataframe tbody tr th {\n",
       "        vertical-align: top;\n",
       "    }\n",
       "\n",
       "    .dataframe thead th {\n",
       "        text-align: right;\n",
       "    }\n",
       "</style>\n",
       "<table border=\"1\" class=\"dataframe\">\n",
       "  <thead>\n",
       "    <tr style=\"text-align: right;\">\n",
       "      <th></th>\n",
       "      <th>tweet_text</th>\n",
       "      <th>emotion_in_tweet_is_directed_at</th>\n",
       "      <th>is_there_an_emotion_directed_at_a_brand_or_product</th>\n",
       "    </tr>\n",
       "  </thead>\n",
       "  <tbody>\n",
       "    <tr>\n",
       "      <th>0</th>\n",
       "      <td>.@wesley83 I have a 3G iPhone. After 3 hrs twe...</td>\n",
       "      <td>iPhone</td>\n",
       "      <td>Negative emotion</td>\n",
       "    </tr>\n",
       "    <tr>\n",
       "      <th>1</th>\n",
       "      <td>@jessedee Know about @fludapp ? Awesome iPad/i...</td>\n",
       "      <td>iPad or iPhone App</td>\n",
       "      <td>Positive emotion</td>\n",
       "    </tr>\n",
       "    <tr>\n",
       "      <th>2</th>\n",
       "      <td>@swonderlin Can not wait for #iPad 2 also. The...</td>\n",
       "      <td>iPad</td>\n",
       "      <td>Positive emotion</td>\n",
       "    </tr>\n",
       "    <tr>\n",
       "      <th>3</th>\n",
       "      <td>@sxsw I hope this year's festival isn't as cra...</td>\n",
       "      <td>iPad or iPhone App</td>\n",
       "      <td>Negative emotion</td>\n",
       "    </tr>\n",
       "    <tr>\n",
       "      <th>4</th>\n",
       "      <td>@sxtxstate great stuff on Fri #SXSW: Marissa M...</td>\n",
       "      <td>Google</td>\n",
       "      <td>Positive emotion</td>\n",
       "    </tr>\n",
       "  </tbody>\n",
       "</table>\n",
       "</div>"
      ],
      "text/plain": [
       "                                          tweet_text  \\\n",
       "0  .@wesley83 I have a 3G iPhone. After 3 hrs twe...   \n",
       "1  @jessedee Know about @fludapp ? Awesome iPad/i...   \n",
       "2  @swonderlin Can not wait for #iPad 2 also. The...   \n",
       "3  @sxsw I hope this year's festival isn't as cra...   \n",
       "4  @sxtxstate great stuff on Fri #SXSW: Marissa M...   \n",
       "\n",
       "  emotion_in_tweet_is_directed_at  \\\n",
       "0                          iPhone   \n",
       "1              iPad or iPhone App   \n",
       "2                            iPad   \n",
       "3              iPad or iPhone App   \n",
       "4                          Google   \n",
       "\n",
       "  is_there_an_emotion_directed_at_a_brand_or_product  \n",
       "0                                   Negative emotion  \n",
       "1                                   Positive emotion  \n",
       "2                                   Positive emotion  \n",
       "3                                   Negative emotion  \n",
       "4                                   Positive emotion  "
      ]
     },
     "execution_count": 2,
     "metadata": {},
     "output_type": "execute_result"
    }
   ],
   "source": [
    "df = pd.read_csv(\"BrandsAndProductEmotions.csv\", encoding='unicode_escape')\n",
    "df.head()"
   ]
  },
  {
   "cell_type": "markdown",
   "metadata": {},
   "source": [
    "The words following \"@\" are probably useless, and nearly all of them will be removed by the tokenization process in the future. \"Swxw\" ends up being added to the stopwords list and the rest are mostly names which will be filtered out for being too rare."
   ]
  },
  {
   "cell_type": "markdown",
   "metadata": {},
   "source": [
    "My first edits were to the column names. Also, the last row in the DataFrame is definitely not made for human eyes so I'll just cut it right away."
   ]
  },
  {
   "cell_type": "code",
   "execution_count": 3,
   "metadata": {
    "ExecuteTime": {
     "end_time": "2024-04-05T08:22:14.802399Z",
     "start_time": "2024-04-05T08:22:14.798010Z"
    }
   },
   "outputs": [],
   "source": [
    "df.columns = [\"text\", \"product\", \"emotion\"]\n",
    "df.drop(df.index[9092], inplace = True)"
   ]
  },
  {
   "cell_type": "markdown",
   "metadata": {},
   "source": [
    "Is there anything interesting from a macro level?"
   ]
  },
  {
   "cell_type": "code",
   "execution_count": 4,
   "metadata": {
    "ExecuteTime": {
     "end_time": "2024-04-05T08:22:14.810444Z",
     "start_time": "2024-04-05T08:22:14.804213Z"
    },
    "scrolled": true
   },
   "outputs": [
    {
     "name": "stdout",
     "output_type": "stream",
     "text": [
      "Emotion\n",
      "No emotion toward brand or product    5388\n",
      "Positive emotion                      2978\n",
      "Negative emotion                       570\n",
      "I can't tell                           156\n",
      "Name: emotion, dtype: int64\n",
      "\n",
      "Products\n",
      "iPad                               946\n",
      "Apple                              661\n",
      "iPad or iPhone App                 470\n",
      "Google                             430\n",
      "iPhone                             297\n",
      "Other Google product or service    293\n",
      "Android App                         81\n",
      "Android                             78\n",
      "Other Apple product or service      35\n",
      "Name: product, dtype: int64\n"
     ]
    }
   ],
   "source": [
    "#Value counts for the two categorical columns\n",
    "print(\"Emotion\")\n",
    "print(df.emotion.value_counts())\n",
    "print(\"\\nProducts\")\n",
    "print(df[\"product\"].value_counts())"
   ]
  },
  {
   "cell_type": "markdown",
   "metadata": {},
   "source": [
    "Here's a visualization of our target variable:"
   ]
  },
  {
   "cell_type": "code",
   "execution_count": 5,
   "metadata": {
    "ExecuteTime": {
     "end_time": "2024-04-05T08:22:14.913329Z",
     "start_time": "2024-04-05T08:22:14.811463Z"
    },
    "scrolled": true
   },
   "outputs": [
    {
     "data": {
      "text/plain": [
       "''"
      ]
     },
     "execution_count": 5,
     "metadata": {},
     "output_type": "execute_result"
    },
    {
     "data": {
      "image/png": "[encoded data removed]",
      "text/plain": [
       "<Figure size 432x288 with 1 Axes>"
      ]
     },
     "metadata": {
      "needs_background": "light"
     },
     "output_type": "display_data"
    }
   ],
   "source": [
    "keys = [\"No emotion\", \"Positive\", \"Negative\", \"I can't tell\"]\n",
    "values = [df[\"emotion\"].value_counts()[0], df[\"emotion\"].value_counts()[1],\n",
    "         df[\"emotion\"].value_counts()[2], df[\"emotion\"].value_counts()[3]]\n",
    "plt.barh(keys, values)\n",
    "plt.suptitle(\"Tweets per Category\", fontsize=13)\n",
    "plt.xlabel(\"Number of Tweets\", fontsize=11)\n",
    "plt.ylabel(\"Emotional Category\", fontsize=11)\n",
    ";"
   ]
  },
  {
   "cell_type": "markdown",
   "metadata": {
    "ExecuteTime": {
     "end_time": "2024-02-14T06:41:19.164476Z",
     "start_time": "2024-02-14T06:41:19.157031Z"
    }
   },
   "source": [
    "The \"Negative emotion\" class has only about 10% of the entries of the neutral class, and only 6% overall. Obviously in a real world setting I wouldn't be able to retroactively adjust my business problem, but for ease's sake it was here that I decided to probably go with a binary classifier between \"positive emotion\" and \"not positive emotion\"."
   ]
  },
  {
   "cell_type": "code",
   "execution_count": 6,
   "metadata": {
    "ExecuteTime": {
     "end_time": "2024-04-05T08:22:14.923506Z",
     "start_time": "2024-04-05T08:22:14.914607Z"
    }
   },
   "outputs": [
    {
     "name": "stdout",
     "output_type": "stream",
     "text": [
      "(9092, 3)\n",
      "\n",
      "\n",
      "<class 'pandas.core.frame.DataFrame'>\n",
      "Int64Index: 9092 entries, 0 to 9091\n",
      "Data columns (total 3 columns):\n",
      " #   Column   Non-Null Count  Dtype \n",
      "---  ------   --------------  ----- \n",
      " 0   text     9091 non-null   object\n",
      " 1   product  3291 non-null   object\n",
      " 2   emotion  9092 non-null   object\n",
      "dtypes: object(3)\n",
      "memory usage: 284.1+ KB\n",
      "None\n"
     ]
    }
   ],
   "source": [
    "print(df.shape)\n",
    "print(\"\\n\")\n",
    "print(df.info())"
   ]
  },
  {
   "cell_type": "markdown",
   "metadata": {},
   "source": [
    "2/3s of the entries are missing a product label. Also, somehow, one of the text entries is null. Suppose that's something I'll get used to the longer I work in the field."
   ]
  },
  {
   "cell_type": "code",
   "execution_count": 7,
   "metadata": {
    "ExecuteTime": {
     "end_time": "2024-04-05T08:22:14.930090Z",
     "start_time": "2024-04-05T08:22:14.924712Z"
    },
    "scrolled": true
   },
   "outputs": [
    {
     "data": {
      "text/html": [
       "<div>\n",
       "<style scoped>\n",
       "    .dataframe tbody tr th:only-of-type {\n",
       "        vertical-align: middle;\n",
       "    }\n",
       "\n",
       "    .dataframe tbody tr th {\n",
       "        vertical-align: top;\n",
       "    }\n",
       "\n",
       "    .dataframe thead th {\n",
       "        text-align: right;\n",
       "    }\n",
       "</style>\n",
       "<table border=\"1\" class=\"dataframe\">\n",
       "  <thead>\n",
       "    <tr style=\"text-align: right;\">\n",
       "      <th></th>\n",
       "      <th>text</th>\n",
       "      <th>product</th>\n",
       "      <th>emotion</th>\n",
       "    </tr>\n",
       "  </thead>\n",
       "  <tbody>\n",
       "    <tr>\n",
       "      <th>6</th>\n",
       "      <td>NaN</td>\n",
       "      <td>NaN</td>\n",
       "      <td>No emotion toward brand or product</td>\n",
       "    </tr>\n",
       "  </tbody>\n",
       "</table>\n",
       "</div>"
      ],
      "text/plain": [
       "  text product                             emotion\n",
       "6  NaN     NaN  No emotion toward brand or product"
      ]
     },
     "execution_count": 7,
     "metadata": {},
     "output_type": "execute_result"
    }
   ],
   "source": [
    "#Before I forget, let me look at that null entry\n",
    "df[df[\"text\"].isnull()]"
   ]
  },
  {
   "cell_type": "markdown",
   "metadata": {},
   "source": [
    "Predictably, this was useless."
   ]
  },
  {
   "cell_type": "code",
   "execution_count": 8,
   "metadata": {
    "ExecuteTime": {
     "end_time": "2024-04-05T08:22:14.937012Z",
     "start_time": "2024-04-05T08:22:14.933243Z"
    }
   },
   "outputs": [],
   "source": [
    "df.drop(df.index[6], inplace = True)\n",
    "df.reset_index(drop=True, inplace = True)"
   ]
  },
  {
   "cell_type": "markdown",
   "metadata": {},
   "source": [
    "What about tweets just missing product labels? Below is an arbitrary sample."
   ]
  },
  {
   "cell_type": "code",
   "execution_count": 9,
   "metadata": {
    "ExecuteTime": {
     "end_time": "2024-04-05T08:22:14.941719Z",
     "start_time": "2024-04-05T08:22:14.938726Z"
    }
   },
   "outputs": [
    {
     "data": {
      "text/plain": [
       "'Some Verizon iPhone customers complained their time fell back an hour this weekend.  Of course they were the New Yorkers who attended #SXSW.'"
      ]
     },
     "execution_count": 9,
     "metadata": {},
     "output_type": "execute_result"
    }
   ],
   "source": [
    "df.iloc[9090][\"text\"]"
   ]
  },
  {
   "cell_type": "markdown",
   "metadata": {},
   "source": [
    "Yeah, this is fairly generic. How did this end up here? My assumption is that the csv file is just made up of tweets that were scraped from a specific time, possibly even from a specific area if that's possible. "
   ]
  },
  {
   "cell_type": "markdown",
   "metadata": {},
   "source": [
    "The above tweet was also pretty emotionless. Are all of the ones with missing product labels equally drab?"
   ]
  },
  {
   "cell_type": "code",
   "execution_count": 10,
   "metadata": {
    "ExecuteTime": {
     "end_time": "2024-04-05T08:22:14.948095Z",
     "start_time": "2024-04-05T08:22:14.942685Z"
    },
    "scrolled": true
   },
   "outputs": [
    {
     "data": {
      "text/plain": [
       "No emotion toward brand or product    5296\n",
       "Positive emotion                       306\n",
       "I can't tell                           147\n",
       "Negative emotion                        51\n",
       "Name: emotion, dtype: int64"
      ]
     },
     "execution_count": 10,
     "metadata": {},
     "output_type": "execute_result"
    }
   ],
   "source": [
    "df[df[\"product\"].isnull()][\"emotion\"].value_counts()"
   ]
  },
  {
   "cell_type": "markdown",
   "metadata": {},
   "source": [
    "No, there are emotional statements in here. This seems to be *somewhat* similar to the rest of the dataset except for a big dropoff for positive tweets."
   ]
  },
  {
   "cell_type": "markdown",
   "metadata": {},
   "source": [
    "# Preprocessing"
   ]
  },
  {
   "cell_type": "markdown",
   "metadata": {},
   "source": [
    "Before the more routine preprocessing tasks, there are two things I had to get out of the way: seeing if entries with NaN in the \"emotion\" column are worth keeping, and investigating the \"I can't tell\"s."
   ]
  },
  {
   "cell_type": "markdown",
   "metadata": {},
   "source": [
    "## Unclear Labels"
   ]
  },
  {
   "cell_type": "markdown",
   "metadata": {},
   "source": [
    "Below are 10 sample messages from those with NaN as the product, presumably directed at nothing in particular:"
   ]
  },
  {
   "cell_type": "code",
   "execution_count": 11,
   "metadata": {
    "ExecuteTime": {
     "end_time": "2024-04-05T08:22:14.957205Z",
     "start_time": "2024-04-05T08:22:14.949566Z"
    }
   },
   "outputs": [
    {
     "name": "stdout",
     "output_type": "stream",
     "text": [
      "RT Hiring marketers, designers, creatives, social media pros... Come see #Aquent booth 1415 #SXSW trade show. Might win iPad 2\n",
      "\n",
      "\n",
      "RT @mention Full #SXSW #touchingstories presentation: {link}\n",
      "\n",
      "\n",
      "RT @mention #SXSW Interactive Award: Music Category goes to &quot;Wilderness Downtown&quot;. Congrats shared with @mention @mention @mention #winning\n",
      "\n",
      "\n",
      "One guy stakes out the Austin Apple popup shop at #SXSW for his #iPad 2 {link} #SXSWi\n",
      "\n",
      "\n",
      "RT @mention RT @mention Google set to launch new social network #Circles today at #sxsw\n",
      "\n",
      "\n",
      "hey @mention heard you're at #sxsw. Come by to the @mention grille and make your comic into a iPhone case? What do you say? :]\n",
      "\n",
      "\n",
      "Too bad I don't have a _ button!\n",
      "RT @mention I know its #SXSW time when I have an abnormal amount of app updates on my iPhone.\n",
      "\n",
      "\n",
      "RT @mention &quot;my kids will not grow up thinking the New York Times and Google are in separate industries&quot; @mention #bvj #SXSW\n",
      "\n",
      "\n",
      "packing for #sxsw = iPad, iPhone, BlackBerry, laptop, and video camera. Need a stylish belt-clip-gadget-holster. Or is that an oxymoron? #in\n",
      "\n",
      "\n",
      "The line outside the #SXSW Apple pop-up store. #wasteoftimeatsxsw {link}\n",
      "\n",
      "\n"
     ]
    }
   ],
   "source": [
    "null_prod_s = df[df[\"product\"].isnull() == True].sample(n=10, random_state =2)\n",
    "for i in range(10):\n",
    "    print(null_prod_s[\"text\"].iloc[i])\n",
    "    print(\"\\n\")"
   ]
  },
  {
   "cell_type": "markdown",
   "metadata": {},
   "source": [
    "This was where I went from fairly certain to truly certain concerning the origin of the cvs file. It's just a collection of tweets that contain tech-company keywords in them. Since they do have relevant emotional words and I can assume that this is exactly the kind of data I would be working with outside of school, I kept them in the dataframe. "
   ]
  },
  {
   "cell_type": "markdown",
   "metadata": {},
   "source": [
    "What about those where the emotional label is \"I can't tell\"?"
   ]
  },
  {
   "cell_type": "code",
   "execution_count": 12,
   "metadata": {
    "ExecuteTime": {
     "end_time": "2024-04-05T08:22:14.964239Z",
     "start_time": "2024-04-05T08:22:14.958465Z"
    },
    "scrolled": true
   },
   "outputs": [
    {
     "name": "stdout",
     "output_type": "stream",
     "text": [
      "Comprando mi iPad 2 en el #SXSW (@mention Apple Store, SXSW w/ 62 others) {link}\n",
      "\n",
      "\n",
      "The queue at the Apple Store in Austin is FOUR blocks long. Crazy stuff! #sxsw\n",
      "\n",
      "\n",
      "RT @mention Demo of Google Hotpot at #bettersearch panel: still pull search, but personalized. Not yet serendipitous? #SXSW\n",
      "\n",
      "\n",
      "Why Barry Diller thinks iPad only content is nuts @mention #SXSW {link}\n",
      "\n",
      "\n",
      "Like @mention I've now seen most of Austin in Google Streetview checking out apartments for #sxsw. Austin is not easy on the click.\n",
      "\n",
      "\n",
      "Anyone know status of iPad 2s in Austin pop-up store? Sold out? Getting more? #ipad2 #sxsw\n",
      "\n",
      "\n",
      "Reports of @mention introducing a new social media platform at #SXSW were premature, but hopefully not overly optimistic {link}\n",
      "\n",
      "\n",
      "DANG RT @mention Confirmed! Apple store 2 week popup in Austin for #SXSW {link} (via @mention who gave us no credit! )\n",
      "\n",
      "\n",
      "At the Team Android party. Can't find it on Gowalla or Foursquare, so um, there you go. #sxsw\n",
      "\n",
      "\n",
      "Line for Source Code is even longer than for iPad 2. Take that, Apple. #sxsw\n",
      "\n",
      "\n"
     ]
    }
   ],
   "source": [
    "#Another 10-tweet sample\n",
    "ict_emo_s = df[df[\"emotion\"] == \"I can't tell\"].sample(n=10, random_state =2)\n",
    "for i in range(10):\n",
    "    print(ict_emo_s[\"text\"].iloc[i])\n",
    "    print(\"\\n\")"
   ]
  },
  {
   "cell_type": "markdown",
   "metadata": {},
   "source": [
    "I can see why these messages were left out. Any categorization that I put on them is likely to not have any inter-rater reliability. Thankfully, there aren't that many of them so I removed them below."
   ]
  },
  {
   "cell_type": "code",
   "execution_count": 13,
   "metadata": {
    "ExecuteTime": {
     "end_time": "2024-04-05T08:22:14.970113Z",
     "start_time": "2024-04-05T08:22:14.965847Z"
    }
   },
   "outputs": [],
   "source": [
    "df = df.drop(df[\"emotion\"].loc[df[\"emotion\"]==\"I can't tell\"].index)\n",
    "df.reset_index(drop = True, inplace = True)\n",
    "#https://stackoverflow.com/questions/53182464/\n",
    "#pandas-delete-a-row-in-a-dataframe-based-on-a-value"
   ]
  },
  {
   "cell_type": "code",
   "execution_count": 14,
   "metadata": {
    "ExecuteTime": {
     "end_time": "2024-04-05T08:22:14.974653Z",
     "start_time": "2024-04-05T08:22:14.971019Z"
    },
    "scrolled": true
   },
   "outputs": [
    {
     "data": {
      "text/plain": [
       "No emotion toward brand or product    5387\n",
       "Positive emotion                      2978\n",
       "Negative emotion                       570\n",
       "Name: emotion, dtype: int64"
      ]
     },
     "execution_count": 14,
     "metadata": {},
     "output_type": "execute_result"
    }
   ],
   "source": [
    "df.emotion.value_counts()"
   ]
  },
  {
   "cell_type": "markdown",
   "metadata": {},
   "source": [
    "If I moved forward from here, I would likely not have enough negative tweets to create a proper ternary classifier. The classes are just too imbalanced. Perhaps I could have used up/downsampling, but instead I just  grouped them in with the neutrals."
   ]
  },
  {
   "cell_type": "code",
   "execution_count": 15,
   "metadata": {
    "ExecuteTime": {
     "end_time": "2024-04-05T08:22:14.981006Z",
     "start_time": "2024-04-05T08:22:14.975525Z"
    }
   },
   "outputs": [],
   "source": [
    "df.loc[df['emotion'] == \"No emotion toward brand or product\", \"emotion\"\n",
    "      ] = \"Not positive\" #\"Not positive\" is not synonymous with negative!\n",
    "\n",
    "df.loc[df['emotion'] == \"Negative emotion\", \"emotion\"] = \"Not positive\"\n",
    "\n",
    "df.loc[df['emotion'] == \"Positive emotion\", \"emotion\"] = \"Positive\""
   ]
  },
  {
   "cell_type": "code",
   "execution_count": 16,
   "metadata": {
    "ExecuteTime": {
     "end_time": "2024-04-05T08:22:14.986019Z",
     "start_time": "2024-04-05T08:22:14.982040Z"
    },
    "scrolled": true
   },
   "outputs": [
    {
     "data": {
      "text/plain": [
       "Not positive    5957\n",
       "Positive        2978\n",
       "Name: emotion, dtype: int64"
      ]
     },
     "execution_count": 16,
     "metadata": {},
     "output_type": "execute_result"
    }
   ],
   "source": [
    "df.emotion.value_counts()"
   ]
  },
  {
   "cell_type": "markdown",
   "metadata": {},
   "source": [
    "That should be a comfortable enough imbalance to move forward, at least according to anything I could find on the subject."
   ]
  },
  {
   "cell_type": "markdown",
   "metadata": {},
   "source": [
    "## Preprocessing: Text Features"
   ]
  },
  {
   "cell_type": "markdown",
   "metadata": {},
   "source": [
    "In addition to the Flatiron Approved preprocessing steps (lower case, remove punctuation, lemmatize), I'll also expand the contractions. It's possible that all of those words shrunk by the apostrophe are stopwords, but after seeing someone else take the extra step I figured I shouldn't take any chances."
   ]
  },
  {
   "cell_type": "code",
   "execution_count": 17,
   "metadata": {
    "ExecuteTime": {
     "end_time": "2024-04-05T08:22:14.999170Z",
     "start_time": "2024-04-05T08:22:14.986992Z"
    },
    "scrolled": true
   },
   "outputs": [],
   "source": [
    "import contractions"
   ]
  },
  {
   "cell_type": "code",
   "execution_count": 18,
   "metadata": {
    "ExecuteTime": {
     "end_time": "2024-04-05T08:22:16.076328Z",
     "start_time": "2024-04-05T08:22:15.000732Z"
    },
    "scrolled": true
   },
   "outputs": [],
   "source": [
    "df[\"processed_text\"] = \"\" \n",
    "for i in range(len(df)):\n",
    "    exp_text = []\n",
    "    for word in df[\"text\"].iloc[i].split():\n",
    "        exp_text.append(contractions.fix(word))\n",
    "    exp_text = \" \".join(exp_text)\n",
    "    df[\"processed_text\"].iloc[i] = exp_text\n",
    "    \n",
    "df.drop(\"text\", axis = 1, inplace = True)"
   ]
  },
  {
   "cell_type": "code",
   "execution_count": 19,
   "metadata": {
    "ExecuteTime": {
     "end_time": "2024-04-05T08:22:16.079412Z",
     "start_time": "2024-04-05T08:22:16.077186Z"
    },
    "scrolled": true
   },
   "outputs": [
    {
     "data": {
      "text/plain": [
       "'@jessedee Know about @fludapp ? Awesome iPad/iPhone app that you will likely appreciate for its design. Also, they are giving free Ts at #SXSW'"
      ]
     },
     "execution_count": 19,
     "metadata": {},
     "output_type": "execute_result"
    }
   ],
   "source": [
    "df.processed_text[1]"
   ]
  },
  {
   "cell_type": "markdown",
   "metadata": {},
   "source": [
    "\"You'll\" became \"you will\". Success!\n",
    "\n",
    "Now to both tokenize the text and force it all to be lowercase. Note: If this sample was taken today, more emotional information might actually be lost compared to what I actually have. Why? Because writing text LiKe thIS To DEnOtE sARCaSm is a new thing."
   ]
  },
  {
   "cell_type": "code",
   "execution_count": 20,
   "metadata": {
    "ExecuteTime": {
     "end_time": "2024-04-05T08:22:16.794415Z",
     "start_time": "2024-04-05T08:22:16.080222Z"
    },
    "scrolled": true
   },
   "outputs": [],
   "source": [
    "# Much of this cell was taken directly from earlier in the course\n",
    "\n",
    "basic_token_pattern = r\"(?u)\\b\\w\\w+\\b\"\n",
    "\n",
    "tokenizer = RegexpTokenizer(basic_token_pattern)\n",
    "for i in range(len(df)):\n",
    "    df.processed_text.iloc[i] = \" \".join(tokenizer.tokenize(\n",
    "        df.processed_text.iloc[i]))"
   ]
  },
  {
   "cell_type": "code",
   "execution_count": 21,
   "metadata": {
    "ExecuteTime": {
     "end_time": "2024-04-05T08:22:16.801390Z",
     "start_time": "2024-04-05T08:22:16.795331Z"
    }
   },
   "outputs": [],
   "source": [
    "df[\"processed_text\"] = df[\"processed_text\"].str.lower()"
   ]
  },
  {
   "cell_type": "code",
   "execution_count": 22,
   "metadata": {
    "ExecuteTime": {
     "end_time": "2024-04-05T08:22:16.806606Z",
     "start_time": "2024-04-05T08:22:16.802278Z"
    },
    "scrolled": true
   },
   "outputs": [
    {
     "data": {
      "text/html": [
       "<div>\n",
       "<style scoped>\n",
       "    .dataframe tbody tr th:only-of-type {\n",
       "        vertical-align: middle;\n",
       "    }\n",
       "\n",
       "    .dataframe tbody tr th {\n",
       "        vertical-align: top;\n",
       "    }\n",
       "\n",
       "    .dataframe thead th {\n",
       "        text-align: right;\n",
       "    }\n",
       "</style>\n",
       "<table border=\"1\" class=\"dataframe\">\n",
       "  <thead>\n",
       "    <tr style=\"text-align: right;\">\n",
       "      <th></th>\n",
       "      <th>product</th>\n",
       "      <th>emotion</th>\n",
       "      <th>processed_text</th>\n",
       "    </tr>\n",
       "  </thead>\n",
       "  <tbody>\n",
       "    <tr>\n",
       "      <th>0</th>\n",
       "      <td>iPhone</td>\n",
       "      <td>Not positive</td>\n",
       "      <td>wesley83 have 3g iphone after hrs tweeting at ...</td>\n",
       "    </tr>\n",
       "    <tr>\n",
       "      <th>1</th>\n",
       "      <td>iPad or iPhone App</td>\n",
       "      <td>Positive</td>\n",
       "      <td>jessedee know about fludapp awesome ipad iphon...</td>\n",
       "    </tr>\n",
       "    <tr>\n",
       "      <th>2</th>\n",
       "      <td>iPad</td>\n",
       "      <td>Positive</td>\n",
       "      <td>swonderlin can not wait for ipad also they sho...</td>\n",
       "    </tr>\n",
       "    <tr>\n",
       "      <th>3</th>\n",
       "      <td>iPad or iPhone App</td>\n",
       "      <td>Not positive</td>\n",
       "      <td>sxsw hope this year festival is not as crashy ...</td>\n",
       "    </tr>\n",
       "    <tr>\n",
       "      <th>4</th>\n",
       "      <td>Google</td>\n",
       "      <td>Positive</td>\n",
       "      <td>sxtxstate great stuff on fri sxsw marissa maye...</td>\n",
       "    </tr>\n",
       "  </tbody>\n",
       "</table>\n",
       "</div>"
      ],
      "text/plain": [
       "              product       emotion  \\\n",
       "0              iPhone  Not positive   \n",
       "1  iPad or iPhone App      Positive   \n",
       "2                iPad      Positive   \n",
       "3  iPad or iPhone App  Not positive   \n",
       "4              Google      Positive   \n",
       "\n",
       "                                      processed_text  \n",
       "0  wesley83 have 3g iphone after hrs tweeting at ...  \n",
       "1  jessedee know about fludapp awesome ipad iphon...  \n",
       "2  swonderlin can not wait for ipad also they sho...  \n",
       "3  sxsw hope this year festival is not as crashy ...  \n",
       "4  sxtxstate great stuff on fri sxsw marissa maye...  "
      ]
     },
     "execution_count": 22,
     "metadata": {},
     "output_type": "execute_result"
    }
   ],
   "source": [
    "df.head()"
   ]
  },
  {
   "cell_type": "markdown",
   "metadata": {},
   "source": [
    "Everything looks alright so far. Hopefully there's nothing extremely weird and new for me to handle next...."
   ]
  },
  {
   "cell_type": "markdown",
   "metadata": {},
   "source": [
    "## Weird Duplicates"
   ]
  },
  {
   "cell_type": "markdown",
   "metadata": {},
   "source": [
    "True duplicates are easy to find. But the strings that have caught my attention don't tend to be true duplicates. Twitter is a place where people append single names or words to messages and then pass them along, which seems to have ballooned the size of my dataset. Many of them differ by just \"rt\" or \"link\" tucked away somewhere. Or a typo.\n",
    "\n",
    "Luckily, after quite a lot of searching, I was able to find a library that handles near-duplicates. It's \"thefuzz\" (previously called fuzzywuzzy). Through its \"ratio\" method it shows you how much you would have to edit one message to create another through. This allows us to compare the similarity of two different messages, which will then be used to draw a line for where the messages can be categorized as close-enough, and can therefore be removed."
   ]
  },
  {
   "cell_type": "code",
   "execution_count": 23,
   "metadata": {
    "ExecuteTime": {
     "end_time": "2024-04-05T08:22:18.768492Z",
     "start_time": "2024-04-05T08:22:16.810860Z"
    }
   },
   "outputs": [
    {
     "name": "stdout",
     "output_type": "stream",
     "text": [
      "Requirement already satisfied: thefuzz in /Users/ferdi/opt/anaconda3/envs/learn-env/lib/python3.8/site-packages (0.22.1)\n",
      "Requirement already satisfied: rapidfuzz<4.0.0,>=3.0.0 in /Users/ferdi/opt/anaconda3/envs/learn-env/lib/python3.8/site-packages (from thefuzz) (3.6.1)\n",
      "Requirement already satisfied: rapidfuzz in /Users/ferdi/opt/anaconda3/envs/learn-env/lib/python3.8/site-packages (3.6.1)\n"
     ]
    }
   ],
   "source": [
    "!pip install thefuzz\n",
    "!pip install rapidfuzz"
   ]
  },
  {
   "cell_type": "code",
   "execution_count": 24,
   "metadata": {
    "ExecuteTime": {
     "end_time": "2024-04-05T08:22:18.867875Z",
     "start_time": "2024-04-05T08:22:18.773410Z"
    }
   },
   "outputs": [],
   "source": [
    "from thefuzz import fuzz\n",
    "from thefuzz import process"
   ]
  },
  {
   "cell_type": "markdown",
   "metadata": {},
   "source": [
    "With that out of the way, the following messages seem like a typical example of an original tweet and a retweet:"
   ]
  },
  {
   "cell_type": "code",
   "execution_count": 25,
   "metadata": {
    "ExecuteTime": {
     "end_time": "2024-04-05T08:22:18.871618Z",
     "start_time": "2024-04-05T08:22:18.868760Z"
    }
   },
   "outputs": [
    {
     "name": "stdout",
     "output_type": "stream",
     "text": [
      "samsung sony follow apple hp lead mention link austin atx sxsw\n",
      "samsung sony follow apple hp lead mention link austin atx sxsw via mention rg\n"
     ]
    },
    {
     "data": {
      "text/plain": [
       "89"
      ]
     },
     "execution_count": 25,
     "metadata": {},
     "output_type": "execute_result"
    }
   ],
   "source": [
    "print(df[\"processed_text\"][130])\n",
    "print(df[\"processed_text\"][131])\n",
    "# This is the percent similarity, rounded to the nearest whole\n",
    "fuzz.ratio(df[\"processed_text\"][130], df[\"processed_text\"][131])"
   ]
  },
  {
   "cell_type": "markdown",
   "metadata": {
    "ExecuteTime": {
     "end_time": "2024-02-19T06:23:19.751714Z",
     "start_time": "2024-02-19T06:23:19.745902Z"
    }
   },
   "source": [
    "With this  example of 89% similarity, I assumeed I could expand my scope a bit. It's just a couple of extra words, right? But I wasn't sure how deep to look. where. On a whim, I tried 75%.\n",
    "\n",
    "Also, just for this section of the project, I'm only  collecting \"identical\" tweets if they are adjacent to one another in the dataframe. There are plenty to work with still, but it ended up saving a lot of time. Later on I'll remove the identical tweets regardless of position."
   ]
  },
  {
   "cell_type": "code",
   "execution_count": 26,
   "metadata": {
    "ExecuteTime": {
     "end_time": "2024-04-05T08:22:18.943352Z",
     "start_time": "2024-04-05T08:22:18.872413Z"
    },
    "scrolled": true
   },
   "outputs": [],
   "source": [
    "dup_above_75 = []\n",
    "\n",
    "for x in range(len(df)-2):\n",
    "    tweet1 = df[\"processed_text\"][x] #Just a tweet and the one right after.\n",
    "    tweet2  = df[\"processed_text\"][x+1]\n",
    "    if fuzz.ratio(tweet1, tweet2) >75:\n",
    "        dup_above_75.append(x+1)"
   ]
  },
  {
   "cell_type": "code",
   "execution_count": 27,
   "metadata": {
    "ExecuteTime": {
     "end_time": "2024-04-05T08:22:18.945897Z",
     "start_time": "2024-04-05T08:22:18.944268Z"
    }
   },
   "outputs": [
    {
     "name": "stdout",
     "output_type": "stream",
     "text": [
      "778\n"
     ]
    }
   ],
   "source": [
    "print(len(dup_above_75))"
   ]
  },
  {
   "cell_type": "markdown",
   "metadata": {},
   "source": [
    "778 duplicates, just for adjacent tweets. That's a pretty big fraction. If there were a lot of duplicates scattered about the DF it seemed possible that I might end up removing a thousand messages, maybe even 2 thousand. A scary thought, concerning the robustness of my data, but thankfully it didn't quite come true.\n",
    "\n",
    "In any case, it struck me that just a couple of extra words at the end of a message could change the meaning. So how many of these duplicates have different emotional categorizations?"
   ]
  },
  {
   "cell_type": "code",
   "execution_count": 28,
   "metadata": {
    "ExecuteTime": {
     "end_time": "2024-04-05T08:22:21.641001Z",
     "start_time": "2024-04-05T08:22:18.946788Z"
    },
    "scrolled": true
   },
   "outputs": [
    {
     "data": {
      "text/plain": [
       "(57.898058154945986, 100.0)"
      ]
     },
     "execution_count": 28,
     "metadata": {},
     "output_type": "execute_result"
    },
    {
     "data": {
      "image/png": "[encoded data removed]",
      "text/plain": [
       "<Figure size 432x288 with 1 Axes>"
      ]
     },
     "metadata": {
      "needs_background": "light"
     },
     "output_type": "display_data"
    }
   ],
   "source": [
    "# Preparing a graph, relating the similarity of tweets to the likelihood\n",
    "#of them being categorized the same way\n",
    "Y_axis = []\n",
    "X_axis = []\n",
    "for percent in range(40,101, 3):\n",
    "    diff_emo = 0\n",
    "    dupes = 0\n",
    "    for x in range(len(df)-2):\n",
    "        tweet1 = df[\"processed_text\"][x]\n",
    "        tweet2  = df[\"processed_text\"][x+1]\n",
    "        emo1 = df[\"emotion\"][x]\n",
    "        emo2 = df[\"emotion\"][x+1]\n",
    "        ratio = fuzz.ratio(tweet1, tweet2)\n",
    "        if (ratio >= percent) & (emo1 == emo2):\n",
    "            dupes += 1\n",
    "            diff_emo += 1\n",
    "        elif ratio >= percent:\n",
    "            dupes += 1\n",
    "        else:\n",
    "            pass\n",
    "    X_axis.append(percent)\n",
    "    Y_axis.append(100*(diff_emo/dupes))\n",
    "\n",
    "plt.plot(X_axis, Y_axis, \"b\")\n",
    "plt.grid(which=\"both\")\n",
    "plt.xlabel(\"Identical Text Percentage\", fontsize = 12)\n",
    "plt.ylabel(\"Chance of Shared Label\", fontsize = 12)\n",
    "plt.suptitle(\"Ambiguity: Text Overlap x Label Overlap\", fontsize = 14)\n",
    "plt.ylim(top = 100)"
   ]
  },
  {
   "cell_type": "markdown",
   "metadata": {},
   "source": [
    "This was wildly unexpected. Even identical tweets are only matching about 82% of the time! How is that possible?"
   ]
  },
  {
   "cell_type": "code",
   "execution_count": 29,
   "metadata": {
    "ExecuteTime": {
     "end_time": "2024-04-05T08:22:21.768537Z",
     "start_time": "2024-04-05T08:22:21.641958Z"
    }
   },
   "outputs": [
    {
     "name": "stdout",
     "output_type": "stream",
     "text": [
      "at sxsw apple schools the marketing experts link\n",
      "at sxsw apple schools the marketing experts link\n",
      "Positive\n",
      "Not positive\n",
      "100\n",
      "\n",
      "\n",
      "does your smallbiz need reviews to play on google places we got an app for that link seo sxsw\n",
      "does your smallbiz need reviews to play on google places we got an app for that link seo sxsw\n",
      "Positive\n",
      "Not positive\n",
      "100\n",
      "\n",
      "\n",
      "at sxsw apple schools the marketing experts link\n",
      "at sxsw apple schools the marketing experts link\n",
      "Not positive\n",
      "Positive\n",
      "100\n",
      "\n",
      "\n",
      "mention google will connect the digital amp physical worlds through mobile link sxsw rt mention\n",
      "mention google will connect the digital amp physical worlds through mobile link sxsw rt mention\n",
      "Positive\n",
      "Not positive\n",
      "100\n",
      "\n",
      "\n",
      "win free ipad from webdoc com sxsw rt\n",
      "win free ipad from webdoc com sxsw rt\n",
      "Not positive\n",
      "Positive\n",
      "100\n",
      "\n",
      "\n",
      "rt mention what is going on at sxsw today share photos video with ireport link or through cnn iphone app\n",
      "rt mention what is going on at sxsw today share photos video with ireport link or through cnn iphone app\n",
      "Positive\n",
      "Not positive\n",
      "100\n",
      "\n",
      "\n",
      "rt mention marissa mayer google will connect the digital amp physical worlds through mobile link sxsw\n",
      "rt mention marissa mayer google will connect the digital amp physical worlds through mobile link sxsw\n",
      "Positive\n",
      "Not positive\n",
      "100\n",
      "\n",
      "\n",
      "rt mention marissa mayer google will connect the digital amp physical worlds through mobile link sxsw\n",
      "rt mention marissa mayer google will connect the digital amp physical worlds through mobile link sxsw\n",
      "Not positive\n",
      "Positive\n",
      "100\n",
      "\n",
      "\n",
      "rt mention marissa mayer google will connect the digital amp physical worlds through mobile link sxsw\n",
      "rt mention marissa mayer google will connect the digital amp physical worlds through mobile link sxsw\n",
      "Positive\n",
      "Not positive\n",
      "100\n",
      "\n",
      "\n",
      "rt mention marissa mayer google will connect the digital amp physical worlds through mobile link sxsw\n",
      "rt mention marissa mayer google will connect the digital amp physical worlds through mobile link sxsw\n",
      "Not positive\n",
      "Positive\n",
      "100\n",
      "\n",
      "\n",
      "rt mention marissa mayer google will connect the digital amp physical worlds through mobile link sxsw\n",
      "rt mention marissa mayer google will connect the digital amp physical worlds through mobile link sxsw\n",
      "Positive\n",
      "Not positive\n",
      "100\n",
      "\n",
      "\n",
      "rt mention rt mention it is not rumor apple is opening up temporary store in downtown austin for sxsw and the ipad2 launch link\n",
      "rt mention rt mention it is not rumor apple is opening up temporary store in downtown austin for sxsw and the ipad launch link\n",
      "Not positive\n",
      "Positive\n",
      "100\n",
      "\n",
      "\n",
      "rt mention rt mention it is not rumor apple is opening up temporary store in downtown austin for sxsw and the ipad launch link\n",
      "rt mention rt mention it is not rumor apple is opening up temporary store in downtown austin for sxsw and the ipad launch link\n",
      "Positive\n",
      "Not positive\n",
      "100\n",
      "\n",
      "\n",
      "score free am going to tshirt outside the sxsw apple store today at 15 pm amp check out am going to app for the ipad link sxsw ipad2\n",
      "score free am going to tshirt outside the sxsw apple store today at 15 pm amp check out am going to app for the ipad link sxsw ipad2\n",
      "Not positive\n",
      "Positive\n",
      "100\n",
      "\n",
      "\n",
      "apple set to open popup shop in core of sxsw action in downtown austin link ipad\n",
      "apple set to open popup shop in core of sxsw action in downtown austin link ipad\n",
      "Not positive\n",
      "Positive\n",
      "100\n",
      "\n",
      "\n"
     ]
    }
   ],
   "source": [
    "# Collecting just the identical ones\n",
    "for x in range(len(df)-2):\n",
    "    tweet1 = df[\"processed_text\"][x]\n",
    "    tweet2  = df[\"processed_text\"][x+1]\n",
    "    emo1 = df[\"emotion\"][x]\n",
    "    emo2 = df[\"emotion\"][x+1]\n",
    "    ratio = fuzz.ratio(tweet1, tweet2)\n",
    "    if (ratio == 100) & (emo1 != emo2):\n",
    "        print(tweet1) # Verifying that the text is the same\n",
    "        print(tweet2)\n",
    "        print(emo1) # Verifying that the emotions are different\n",
    "        print(emo2)\n",
    "        print(ratio)\n",
    "        print(\"\\n\")"
   ]
  },
  {
   "cell_type": "markdown",
   "metadata": {},
   "source": [
    "My first reaction to these identical tweets getting two different scores was to panic. But, looking at them more, I think that these are tweets that perhaps should have been labeled with \"I can't tell\", if only the raters were less confident in their own abilities. The fact that two different people (or the same person twice) rated them differently is a bit annoying. But I can see how this would happen.\n",
    "\n",
    "To untangle this, I found a semi-arbitrary cutoff where any difference in categorization was likely to be because of the difference in text as opposed to a difference in interpretation. Anything more similar than that cutoff will be taken out of the population. Hopefully, this means my NLP algorithm will be dealing with less ambiguous data."
   ]
  },
  {
   "cell_type": "code",
   "execution_count": 30,
   "metadata": {
    "ExecuteTime": {
     "end_time": "2024-04-05T08:22:22.247184Z",
     "start_time": "2024-04-05T08:22:21.769652Z"
    }
   },
   "outputs": [
    {
     "name": "stdout",
     "output_type": "stream",
     "text": [
      "\n",
      "\n",
      "80\n",
      "40 of google maps usage is mobile now has 150 million mobile users sxsw via mention\n",
      "40 of google maps usage is mobile wow mention sxsw via mention\n",
      "\n",
      "\n",
      "rt mention quot google before you tweet is the new think before you speak quot belinsky of digital democracy sxsw 911tweets\n",
      "rt mention quot google before you tweet quot is the new quot think before you speak quot mark belinsky sxsw\n",
      "\n",
      "\n",
      "rt mention rt mention google set to launch new social network circles today at sxsw\n",
      "rt mention rt mention google to launch social network circles at sxsw link who is excited\n",
      "\n",
      "\n",
      "\n",
      "\n",
      "82\n",
      "ûï mention apple store downtown austin open til midnight sxsw mention there is still time\n",
      "ûï mention apple store downtown austin open til midnight sxsw any ipad2 left in stock\n",
      "\n",
      "\n",
      "apple set to open popup shop in core of sxsw action link sxsw apple ipad retail\n",
      "apple set to open popup shop in core of sxsw action link sxsw apple apple set to open popup sh link\n",
      "\n",
      "\n",
      "rt mention apple popup store at sxsw link\n",
      "rt mention apple popup store at sxsw link sat am at opening\n",
      "\n",
      "\n",
      "rt mention apple to open temporary store for sxsw at 6th and congress link atx\n",
      "rt mention apple to open temporary store for sxsw interesting link\n",
      "\n",
      "\n",
      "rt mention at sxsw apple schools the marketing experts link sxsw\n",
      "rt mention at sxsw apple schools the marketing experts link via mention sxsw apple marketing\n",
      "\n",
      "\n",
      "\n",
      "\n",
      "84\n",
      "google to launch major new social network called circles possibly today link sxsw gt gt should be good\n",
      "google to launch major new social network called circles possibly today link sxsw of course another social network\n",
      "\n",
      "\n",
      "apple set to open popup shop in core of sxsw action link ipad2 on the ground\n",
      "apple set to open popup shop in core of sxsw action link geeks need ipad2 love\n",
      "\n",
      "\n",
      "at sxsw apple schools the marketing experts link apple jobsco sxsw\n",
      "at sxsw apple schools the marketing experts link sxsw essdub\n",
      "\n",
      "\n",
      "the next big thing hmmm rt mention google to launch major new social network called circles possibly today link sxsw\n",
      "could be big gt gt google to launch major new social network called circles possibly today link tech sxsw\n",
      "\n",
      "\n",
      "40 of google maps use is mobile marissamayer sxsw\n",
      "40 of google maps use is mobile says mention sxsw\n",
      "\n",
      "\n",
      "\n",
      "\n",
      "86\n",
      "at sxsw apple schools the marketing experts sxsw cnet blogs link\n",
      "at sxsw apple schools the marketing experts link\n",
      "\n",
      "\n",
      "google to launch new social network at sxsw link google sxsw\n",
      "google to launch new social network at sxsw cnet news link sxsw\n",
      "\n",
      "\n",
      "the ipad design panel in hilton salon is filling up quickly no surprises there tapworthy sxsw\n",
      "the ipad design panel in hilton salon is filling up quickly no surprises there tapworthy sxsw it is more fun with the ipad2\n",
      "\n",
      "\n",
      "rt mention come party down with mention amp google tonight at sxsw link bands food art interactive maps\n",
      "rt mention come party mention and google tonight at sxsw link bands food art ice cream nifty interactive maps\n",
      "\n",
      "\n",
      "rt mention google to launch major new social network called circles possibly today link sxsw gt gt should be good\n",
      "rt mention google to launch major new social network called circles possibly today link rt mention sxsw\n",
      "\n",
      "\n",
      "\n",
      "\n",
      "88\n",
      "ûï mention google to launch major new social network called circles possibly today link sxsw super interesting\n",
      "ûï mention google to launch major new social network called circles possibly today link rt mention sxsw\n",
      "\n",
      "\n",
      "google to launch major new social network called circles possibly today link sxsw pakistan cwc2011\n",
      "google to launch major new social network called circles possibly today link sxsw lb via mention\n",
      "\n",
      "\n",
      "google to launch major new social network called circles possibly today link sxsw mention\n",
      "google to launch major new social network called circles possibly today link sxsw gt gt should be good\n",
      "\n",
      "\n",
      "google to launch new social network at sxsw cnet news link sxsw\n",
      "google to launch new social network at sxsw link aclu sxsw\n",
      "\n",
      "\n",
      "finally yeaayyy rt mention new ubersocial for iphone now in the app store includes uberguide to sxsw sponsored by mashable\n",
      "akhirnya ûï mention new ubersocial for iphone now in the app store includes uberguide to sxsw sponsored by link\n",
      "\n",
      "\n",
      "\n",
      "\n",
      "90\n",
      "google to launch major new social network called circles possibly today updated at sxsw link\n",
      "google to launch major new social network called circles possibly today updated by mention link sxsw\n",
      "\n",
      "\n",
      "google to launch major new social network called circles possibly today link\n",
      "google to launch major new social network called circles possibly today link via mention sxsw\n",
      "\n",
      "\n",
      "google to launch major new social network called circles possibly today link sxsw mention\n",
      "google to launch major new social network called circles possibly today link sxsw pakistan cwc2011\n",
      "\n",
      "\n",
      "check out the free mention sampler on itunes link sxsw\n",
      "check out the free sxsw sampler on itunes link sxsw\n",
      "\n",
      "\n",
      "marissa mayer google will connect the digital amp physical worlds through mobile link mobile sxsw\n",
      "marissa mayer google will connect the digital amp physical worlds through mobile link google sxsw mobile hotpot\n",
      "\n",
      "\n",
      "\n",
      "\n",
      "92\n",
      "ûï mention google to launch major new social network called circles possibly today link sxsw mention\n",
      "ûï mention google to launch major new social network called circles possibly today link sxsw mention bigger than gaga\n",
      "\n",
      "\n",
      "google to launch major new social network called circles link sxsw via mention\n",
      "google to launch major new social network called circles link sxsw\n",
      "\n",
      "\n",
      "check out this video to get glimpse at what the action was like the ipad ipad sxsw gadgets link\n",
      "check out this video to get glimpse at what the action was like the ipad ipad sxsw gadgets link could not resist\n",
      "\n",
      "\n",
      "apple set to open popup shop in core of sxsw action link sxsw apple\n",
      "apple set to open popup shop in core of sxsw action link sxsw apple ipad retail\n",
      "\n",
      "\n",
      "rt mention quot google before you tweet quot is the new quot think before you speak quot mark belinsky sxsw\n",
      "rt mention quot google before you tweet quot is the new quot think before you speak quot mark belinsky 911tweets panel at sxsw\n",
      "\n",
      "\n",
      "\n",
      "\n",
      "94\n",
      "kawasaki quot pagemaker saved apple quot oh those were the days sxsw jwtatl enchantment\n",
      "kawasaki quot pagemaker saved apple quot oh those were the days sxsw jwtatl enchantment via mention\n",
      "\n",
      "\n",
      "new post iphone apps we will be using at south by southwest interactive link sxsw sxswi\n",
      "new post iphone apps we will be using at south by southwest interactive sxsw sxswi link\n",
      "\n",
      "\n",
      "google to launch major new social network called circles possibly today link sxsw lb via mention\n",
      "google to launch major new social network called circles possibly today link sxsw rt mention via mention\n",
      "\n",
      "\n",
      "google to launch major new social network called circles possibly today link sxsw rt mention via mention\n",
      "google to launch major new social network called circles possibly today link sxsw via mention\n",
      "\n",
      "\n",
      "google to launch major new social network called circles possibly today link sxsw\n",
      "google to launch major new social network called circles link possibly today sxsw\n",
      "\n",
      "\n"
     ]
    }
   ],
   "source": [
    "# Getting samples for tweets at various high similarity scores\n",
    "for percent in range(80,96,2):\n",
    "    counter = 0\n",
    "    print(\"\\n\")\n",
    "    print(percent)\n",
    "    for x in range(len(df)-2):\n",
    "        if counter == 5: # Taking no more than 5 pairs of tweets per %\n",
    "            counter = 0\n",
    "            break #\n",
    "        else:\n",
    "            tweet1 = df[\"processed_text\"][x]\n",
    "            tweet2  = df[\"processed_text\"][x+1]\n",
    "            emo1 = df[\"emotion\"][x]\n",
    "            emo2 = df[\"emotion\"][x+1]\n",
    "            ratio = fuzz.ratio(tweet1, tweet2)\n",
    "            if (ratio == percent) & (emo1 != emo2):\n",
    "                print(tweet1)\n",
    "                print(tweet2)\n",
    "                print(\"\\n\")\n",
    "                counter += 1\n",
    "            else:\n",
    "                pass"
   ]
  },
  {
   "cell_type": "markdown",
   "metadata": {},
   "source": [
    "It seems like new useful information peters out in the high 80s with raw text. It's subjective, but that's what I have to go off of. \n",
    "\n",
    "But does that remain true if we remove all the stopwords and lemmatize the text? If stopwords are removed, that should mean that the more meaningful words are making up more of the differences between messages. So it's time to do that."
   ]
  },
  {
   "cell_type": "markdown",
   "metadata": {},
   "source": [
    "### Tokenize and Lemmatize"
   ]
  },
  {
   "cell_type": "markdown",
   "metadata": {},
   "source": [
    "A new column out of processed_text so just the most popular (and hopefully useful) word pieces will be left behind. I left processed_text alone so I can still read something coherent.\n",
    "\n",
    "First steps: setting up the regex filter and creating an empty column."
   ]
  },
  {
   "cell_type": "code",
   "execution_count": 31,
   "metadata": {
    "ExecuteTime": {
     "end_time": "2024-04-05T08:22:22.856686Z",
     "start_time": "2024-04-05T08:22:22.248812Z"
    }
   },
   "outputs": [],
   "source": [
    "# Another filter from earlier in the course\n",
    "pattern = \"([a-zA-Z]+(?:'[a-z]+)?)\"\n",
    "df[\"tokens\"] = \"\"\n",
    "for i in range(len(df)):\n",
    "    df[\"tokens\"][i] = nltk.regexp_tokenize(df[\"processed_text\"][i], pattern)"
   ]
  },
  {
   "cell_type": "markdown",
   "metadata": {},
   "source": [
    "Next, removing stopwords. I already jumped ahead and saw which words show up most often in the FreqDist, so I added those to the stopwords list at the end."
   ]
  },
  {
   "cell_type": "code",
   "execution_count": 32,
   "metadata": {
    "ExecuteTime": {
     "end_time": "2024-04-05T08:22:23.936201Z",
     "start_time": "2024-04-05T08:22:22.858204Z"
    }
   },
   "outputs": [],
   "source": [
    "stopwords_list = stopwords.words(\"english\")\n",
    "stopwords_list += list(string.punctuation)\n",
    "stopwords_list += [str(i) for i in range(10)]\n",
    "stopwords_list += [\"sxsw\", \"link\", \"mention\"] #The top words by far\n",
    "\n",
    "for i in range(len(df)):\n",
    "    df[\"tokens\"][i] = [w for w in df[\"tokens\"][i] if w not in stopwords_list]"
   ]
  },
  {
   "cell_type": "markdown",
   "metadata": {},
   "source": [
    "Now, to reduce each word to its lemma, if possible."
   ]
  },
  {
   "cell_type": "code",
   "execution_count": 33,
   "metadata": {
    "ExecuteTime": {
     "end_time": "2024-04-05T08:22:23.939567Z",
     "start_time": "2024-04-05T08:22:23.937739Z"
    }
   },
   "outputs": [],
   "source": [
    "lemmatizer = WordNetLemmatizer()"
   ]
  },
  {
   "cell_type": "code",
   "execution_count": 34,
   "metadata": {
    "ExecuteTime": {
     "end_time": "2024-04-05T08:22:25.623652Z",
     "start_time": "2024-04-05T08:22:23.940832Z"
    }
   },
   "outputs": [],
   "source": [
    "for i in range(len(df)-1):\n",
    "    new_sentence = []\n",
    "    for word in df[\"tokens\"][i]:\n",
    "        new_sentence.append(lemmatizer.lemmatize(word))\n",
    "    df[\"tokens\"][i] = new_sentence"
   ]
  },
  {
   "cell_type": "code",
   "execution_count": 35,
   "metadata": {
    "ExecuteTime": {
     "end_time": "2024-04-05T08:22:25.718418Z",
     "start_time": "2024-04-05T08:22:25.624764Z"
    }
   },
   "outputs": [
    {
     "data": {
      "text/plain": [
       "[('ipad', 2961),\n",
       " ('rt', 2935),\n",
       " ('google', 2616),\n",
       " ('apple', 2309),\n",
       " ('quot', 1657),\n",
       " ('iphone', 1559)]"
      ]
     },
     "execution_count": 35,
     "metadata": {},
     "output_type": "execute_result"
    }
   ],
   "source": [
    "all_tokens = []\n",
    "for i in range(len(df)-1):\n",
    "    for w in df[\"tokens\"][i]:\n",
    "        all_tokens.append(w)\n",
    "\n",
    "freq = FreqDist(all_tokens)\n",
    "freq.most_common(6)"
   ]
  },
  {
   "cell_type": "markdown",
   "metadata": {},
   "source": [
    "I decided to leave \"quot\" and \"rt\" in case people link to things, quote people, or retweet more often based on a particular emotional reaction to those things.\n",
    "\n",
    "Now how often do similar texts have different categories?"
   ]
  },
  {
   "cell_type": "code",
   "execution_count": 36,
   "metadata": {
    "ExecuteTime": {
     "end_time": "2024-04-05T08:22:28.322280Z",
     "start_time": "2024-04-05T08:22:25.719569Z"
    },
    "scrolled": true
   },
   "outputs": [
    {
     "name": "stdout",
     "output_type": "stream",
     "text": [
      "85%ers match 0.7779751332149201 of the time\n",
      "86%ers match 0.7807971014492754 of the time\n",
      "87%ers match 0.7844990548204159 of the time\n",
      "88%ers match 0.7883495145631068 of the time\n",
      "89%ers match 0.7814432989690722 of the time\n",
      "90%ers match 0.7871396895787139 of the time\n",
      "91%ers match 0.789838337182448 of the time\n",
      "92%ers match 0.7878787878787878 of the time\n",
      "93%ers match 0.7890173410404624 of the time\n",
      "94%ers match 0.7917981072555205 of the time\n",
      "95%ers match 0.7842465753424658 of the time\n",
      "96%ers match 0.7887931034482759 of the time\n",
      "97%ers match 0.791907514450867 of the time\n",
      "98%ers match 0.8035714285714286 of the time\n",
      "99%ers match 0.8035714285714286 of the time\n",
      "100%ers match 0.8035714285714286 of the time\n"
     ]
    }
   ],
   "source": [
    "# Just like before, but more granularly\n",
    "for percent in range(85,101):\n",
    "    diff_emo = 0\n",
    "    dupes = 0\n",
    "    for x in range(len(df)-2):\n",
    "        tweet1 = df[\"tokens\"][x]\n",
    "        tweet2  = df[\"tokens\"][x+1]\n",
    "        emo1 = df[\"emotion\"][x]\n",
    "        emo2 = df[\"emotion\"][x+1]\n",
    "        ratio = fuzz.ratio(tweet1, tweet2)\n",
    "        if (ratio >= percent) & (emo1 == emo2):\n",
    "            dupes += 1\n",
    "            diff_emo += 1\n",
    "        elif ratio >= percent:\n",
    "            dupes += 1\n",
    "        else:\n",
    "            pass\n",
    "    print(str(percent) + \"%ers match \" + str(diff_emo/dupes) + \" of the time\")"
   ]
  },
  {
   "cell_type": "code",
   "execution_count": 39,
   "metadata": {
    "ExecuteTime": {
     "end_time": "2024-04-05T08:24:36.184742Z",
     "start_time": "2024-04-05T08:24:36.175426Z"
    }
   },
   "outputs": [
    {
     "data": {
      "text/plain": [
       "['wesley',\n",
       " 'g',\n",
       " 'iphone',\n",
       " 'hr',\n",
       " 'tweeting',\n",
       " 'rise',\n",
       " 'austin',\n",
       " 'dead',\n",
       " 'need',\n",
       " 'upgrade',\n",
       " 'plugin',\n",
       " 'station']"
      ]
     },
     "execution_count": 39,
     "metadata": {},
     "output_type": "execute_result"
    }
   ],
   "source": [
    "df[\"tokens\"][0]"
   ]
  },
  {
   "cell_type": "markdown",
   "metadata": {},
   "source": [
    "Unfortunately, this seems to be about the same. Maybe a 1% improvement."
   ]
  },
  {
   "cell_type": "code",
   "execution_count": 37,
   "metadata": {
    "ExecuteTime": {
     "end_time": "2024-04-05T08:22:28.513858Z",
     "start_time": "2024-04-05T08:22:28.323437Z"
    }
   },
   "outputs": [
    {
     "name": "stdout",
     "output_type": "stream",
     "text": [
      "['line', 'apple', 'store', 'ipad']\n",
      "['line', 'apple', 'store', 'ipad', 'day']\n",
      "Not positive\n",
      "Positive\n",
      "89\n",
      "\n",
      "\n",
      "['apple', 'set', 'open', 'popup', 'shop', 'core', 'action', 'apple']\n",
      "['apple', 'set', 'open', 'popup', 'shop', 'core', 'action', 'apple', 'ipad', 'retail']\n",
      "Not positive\n",
      "Positive\n",
      "89\n",
      "\n",
      "\n",
      "['google', 'map', 'usage', 'mobile', 'yowza']\n",
      "['google', 'map', 'usage', 'mobile']\n",
      "Positive\n",
      "Not positive\n",
      "89\n",
      "\n",
      "\n",
      "['google', 'map', 'use', 'mobile']\n",
      "['google', 'map', 'use', 'mobile', 'marissamayer']\n",
      "Not positive\n",
      "Positive\n",
      "89\n",
      "\n",
      "\n",
      "['rt', 'presentation', 'demonstrates', 'pause', 'video', 'new', 'video', 'player', 'pick', 'spot', 'ipad', 'app', 'tveverywhere']\n",
      "['rt', 'preso', 'demonstrates', 'pause', 'video', 'new', 'video', 'player', 'amp', 'pick', 'spot', 'ipad', 'app', 'tveverywhere']\n",
      "Positive\n",
      "Not positive\n",
      "89\n",
      "\n",
      "\n",
      "['rt', 'new', 'ubersocial', 'iphone', 'app', 'store', 'includes', 'uberguide', 'got']\n",
      "['rt', 'new', 'ubersocial', 'iphone', 'app', 'store', 'includes', 'uberguide', 'sponsored']\n",
      "Positive\n",
      "Not positive\n",
      "89\n",
      "\n",
      "\n",
      "['rt', 'rt', 'google', 'launch', 'major', 'new', 'social', 'network', 'called', 'circle', 'possibly', 'today', 'cool']\n",
      "['rt', 'rt', 'google', 'launch', 'major', 'new', 'social', 'network', 'called', 'circle', 'possibly', 'today', 'via', 'pcbuzz']\n",
      "Not positive\n",
      "Positive\n",
      "89\n",
      "\n",
      "\n",
      "['rt', 'rt', 'google', 'launch', 'major', 'new', 'social', 'network', 'called', 'circle', 'possibly', 'today', 'via', 'pcbuzz']\n",
      "['rt', 'rt', 'google', 'launch', 'major', 'new', 'social', 'network', 'called', 'circle', 'possibly', 'today', 'sxswi']\n",
      "Positive\n",
      "Not positive\n",
      "89\n",
      "\n",
      "\n",
      "['rt', 'ipad', 'take', 'video', 'sxswi']\n",
      "['rt', 'ipad', 'take', 'video']\n",
      "Positive\n",
      "Not positive\n",
      "89\n",
      "\n",
      "\n",
      "['going', 'today', 'share', 'photo', 'video', 'ireport', 'cnn', 'iphone', 'app']\n",
      "['friend', 'going', 'today', 'share', 'photo', 'video', 'cnn', 'iphone', 'app']\n",
      "Positive\n",
      "Not positive\n",
      "89\n",
      "\n",
      "\n"
     ]
    }
   ],
   "source": [
    "# Here are all the adjacent 89s for reference.\n",
    "for x in range(len(df)-2):\n",
    "    tweet1 = df[\"tokens\"][x]\n",
    "    tweet2  = df[\"tokens\"][x+1]\n",
    "    emo1 = df[\"emotion\"][x]\n",
    "    emo2 = df[\"emotion\"][x+1]\n",
    "    ratio = fuzz.ratio(tweet1, tweet2)\n",
    "    if (ratio ==89) & (emo1 != emo2):\n",
    "        print(tweet1)\n",
    "        print(tweet2)\n",
    "        print(emo1)\n",
    "        print(emo2)\n",
    "        print(ratio)\n",
    "        print(\"\\n\")"
   ]
  },
  {
   "cell_type": "markdown",
   "metadata": {},
   "source": [
    "A lot of the difference is in just a word or two. Sometimes it makes sense (adding \"good\" to a message makes it positive) and other times it's just a transposition of letters or adding a name. So at this % range there's a mix of reasons why messages are different. To be fair, I'll set the bar at 90%."
   ]
  },
  {
   "cell_type": "markdown",
   "metadata": {},
   "source": [
    "### Splitting the dataset\n",
    "#### I am going to run an experiment: I'll train one model with the most \"ambiguous\" texts removed, and train one model without removing anything. My prediction is that the model that is trained without those edge cases will have an easier time differentiating one from another, even with a slightly smaller corpus to draw from."
   ]
  },
  {
   "cell_type": "markdown",
   "metadata": {},
   "source": [
    "Step 1: Identify the similar tweets and set their IDs aside.\n",
    "\n",
    "Step 2: In the interim, find out how many words show up more than once. If there are at least a few thousand, then those I'll remove words that show up only once.\n",
    "\n",
    "Step 3: Create a duplicate DF and remove the ambiguous tweets from just one of them."
   ]
  },
  {
   "cell_type": "code",
   "execution_count": 38,
   "metadata": {
    "ExecuteTime": {
     "end_time": "2024-04-05T08:24:28.401556Z",
     "start_time": "2024-04-05T08:22:28.515111Z"
    }
   },
   "outputs": [
    {
     "ename": "KeyboardInterrupt",
     "evalue": "",
     "output_type": "error",
     "traceback": [
      "\u001b[0;31m---------------------------------------------------------------------------\u001b[0m",
      "\u001b[0;31mKeyboardInterrupt\u001b[0m                         Traceback (most recent call last)",
      "\u001b[0;32m<ipython-input-38-408cd9b396a8>\u001b[0m in \u001b[0;36m<module>\u001b[0;34m\u001b[0m\n\u001b[1;32m      4\u001b[0m         \u001b[0mtweet1\u001b[0m \u001b[0;34m=\u001b[0m \u001b[0mdf\u001b[0m\u001b[0;34m[\u001b[0m\u001b[0;34m\"tokens\"\u001b[0m\u001b[0;34m]\u001b[0m\u001b[0;34m[\u001b[0m\u001b[0mx\u001b[0m\u001b[0;34m]\u001b[0m\u001b[0;34m\u001b[0m\u001b[0;34m\u001b[0m\u001b[0m\n\u001b[1;32m      5\u001b[0m         \u001b[0;32mfor\u001b[0m \u001b[0my\u001b[0m \u001b[0;32min\u001b[0m \u001b[0mrange\u001b[0m\u001b[0;34m(\u001b[0m\u001b[0mlen\u001b[0m\u001b[0;34m(\u001b[0m\u001b[0mdf\u001b[0m\u001b[0;34m)\u001b[0m\u001b[0;34m-\u001b[0m\u001b[0;36m1\u001b[0m\u001b[0;34m)\u001b[0m\u001b[0;34m:\u001b[0m\u001b[0;34m\u001b[0m\u001b[0;34m\u001b[0m\u001b[0m\n\u001b[0;32m----> 6\u001b[0;31m             \u001b[0mtweet2\u001b[0m \u001b[0;34m=\u001b[0m \u001b[0mdf\u001b[0m\u001b[0;34m[\u001b[0m\u001b[0;34m\"tokens\"\u001b[0m\u001b[0;34m]\u001b[0m\u001b[0;34m[\u001b[0m\u001b[0my\u001b[0m\u001b[0;34m]\u001b[0m\u001b[0;34m\u001b[0m\u001b[0;34m\u001b[0m\u001b[0m\n\u001b[0m\u001b[1;32m      7\u001b[0m             \u001b[0mratio\u001b[0m \u001b[0;34m=\u001b[0m \u001b[0mfuzz\u001b[0m\u001b[0;34m.\u001b[0m\u001b[0mratio\u001b[0m\u001b[0;34m(\u001b[0m\u001b[0mtweet1\u001b[0m\u001b[0;34m,\u001b[0m \u001b[0mtweet2\u001b[0m\u001b[0;34m)\u001b[0m\u001b[0;34m\u001b[0m\u001b[0;34m\u001b[0m\u001b[0m\n\u001b[1;32m      8\u001b[0m             \u001b[0;32mif\u001b[0m \u001b[0mratio\u001b[0m \u001b[0;34m<\u001b[0m \u001b[0;36m89\u001b[0m\u001b[0;34m:\u001b[0m\u001b[0;34m\u001b[0m\u001b[0;34m\u001b[0m\u001b[0m\n",
      "\u001b[0;32m~/opt/anaconda3/envs/learn-env/lib/python3.8/site-packages/pandas/core/series.py\u001b[0m in \u001b[0;36m__getitem__\u001b[0;34m(self, key)\u001b[0m\n\u001b[1;32m    880\u001b[0m \u001b[0;34m\u001b[0m\u001b[0m\n\u001b[1;32m    881\u001b[0m         \u001b[0;32melif\u001b[0m \u001b[0mkey_is_scalar\u001b[0m\u001b[0;34m:\u001b[0m\u001b[0;34m\u001b[0m\u001b[0;34m\u001b[0m\u001b[0m\n\u001b[0;32m--> 882\u001b[0;31m             \u001b[0;32mreturn\u001b[0m \u001b[0mself\u001b[0m\u001b[0;34m.\u001b[0m\u001b[0m_get_value\u001b[0m\u001b[0;34m(\u001b[0m\u001b[0mkey\u001b[0m\u001b[0;34m)\u001b[0m\u001b[0;34m\u001b[0m\u001b[0;34m\u001b[0m\u001b[0m\n\u001b[0m\u001b[1;32m    883\u001b[0m \u001b[0;34m\u001b[0m\u001b[0m\n\u001b[1;32m    884\u001b[0m         \u001b[0;32mif\u001b[0m \u001b[0mis_hashable\u001b[0m\u001b[0;34m(\u001b[0m\u001b[0mkey\u001b[0m\u001b[0;34m)\u001b[0m\u001b[0;34m:\u001b[0m\u001b[0;34m\u001b[0m\u001b[0;34m\u001b[0m\u001b[0m\n",
      "\u001b[0;32m~/opt/anaconda3/envs/learn-env/lib/python3.8/site-packages/pandas/core/series.py\u001b[0m in \u001b[0;36m_get_value\u001b[0;34m(self, label, takeable)\u001b[0m\n\u001b[1;32m    987\u001b[0m \u001b[0;34m\u001b[0m\u001b[0m\n\u001b[1;32m    988\u001b[0m         \u001b[0;31m# Similar to Index.get_value, but we do not fall back to positional\u001b[0m\u001b[0;34m\u001b[0m\u001b[0;34m\u001b[0m\u001b[0;34m\u001b[0m\u001b[0m\n\u001b[0;32m--> 989\u001b[0;31m         \u001b[0mloc\u001b[0m \u001b[0;34m=\u001b[0m \u001b[0mself\u001b[0m\u001b[0;34m.\u001b[0m\u001b[0mindex\u001b[0m\u001b[0;34m.\u001b[0m\u001b[0mget_loc\u001b[0m\u001b[0;34m(\u001b[0m\u001b[0mlabel\u001b[0m\u001b[0;34m)\u001b[0m\u001b[0;34m\u001b[0m\u001b[0;34m\u001b[0m\u001b[0m\n\u001b[0m\u001b[1;32m    990\u001b[0m         \u001b[0;32mreturn\u001b[0m \u001b[0mself\u001b[0m\u001b[0;34m.\u001b[0m\u001b[0mindex\u001b[0m\u001b[0;34m.\u001b[0m\u001b[0m_get_values_for_loc\u001b[0m\u001b[0;34m(\u001b[0m\u001b[0mself\u001b[0m\u001b[0;34m,\u001b[0m \u001b[0mloc\u001b[0m\u001b[0;34m,\u001b[0m \u001b[0mlabel\u001b[0m\u001b[0;34m)\u001b[0m\u001b[0;34m\u001b[0m\u001b[0;34m\u001b[0m\u001b[0m\n\u001b[1;32m    991\u001b[0m \u001b[0;34m\u001b[0m\u001b[0m\n",
      "\u001b[0;32m~/opt/anaconda3/envs/learn-env/lib/python3.8/site-packages/pandas/core/indexes/range.py\u001b[0m in \u001b[0;36mget_loc\u001b[0;34m(self, key, method, tolerance)\u001b[0m\n\u001b[1;32m    351\u001b[0m         \u001b[0;32mif\u001b[0m \u001b[0mmethod\u001b[0m \u001b[0;32mis\u001b[0m \u001b[0;32mNone\u001b[0m \u001b[0;32mand\u001b[0m \u001b[0mtolerance\u001b[0m \u001b[0;32mis\u001b[0m \u001b[0;32mNone\u001b[0m\u001b[0;34m:\u001b[0m\u001b[0;34m\u001b[0m\u001b[0;34m\u001b[0m\u001b[0m\n\u001b[1;32m    352\u001b[0m             \u001b[0;32mif\u001b[0m \u001b[0mis_integer\u001b[0m\u001b[0;34m(\u001b[0m\u001b[0mkey\u001b[0m\u001b[0;34m)\u001b[0m \u001b[0;32mor\u001b[0m \u001b[0;34m(\u001b[0m\u001b[0mis_float\u001b[0m\u001b[0;34m(\u001b[0m\u001b[0mkey\u001b[0m\u001b[0;34m)\u001b[0m \u001b[0;32mand\u001b[0m \u001b[0mkey\u001b[0m\u001b[0;34m.\u001b[0m\u001b[0mis_integer\u001b[0m\u001b[0;34m(\u001b[0m\u001b[0;34m)\u001b[0m\u001b[0;34m)\u001b[0m\u001b[0;34m:\u001b[0m\u001b[0;34m\u001b[0m\u001b[0;34m\u001b[0m\u001b[0m\n\u001b[0;32m--> 353\u001b[0;31m                 \u001b[0mnew_key\u001b[0m \u001b[0;34m=\u001b[0m \u001b[0mint\u001b[0m\u001b[0;34m(\u001b[0m\u001b[0mkey\u001b[0m\u001b[0;34m)\u001b[0m\u001b[0;34m\u001b[0m\u001b[0;34m\u001b[0m\u001b[0m\n\u001b[0m\u001b[1;32m    354\u001b[0m                 \u001b[0;32mtry\u001b[0m\u001b[0;34m:\u001b[0m\u001b[0;34m\u001b[0m\u001b[0;34m\u001b[0m\u001b[0m\n\u001b[1;32m    355\u001b[0m                     \u001b[0;32mreturn\u001b[0m \u001b[0mself\u001b[0m\u001b[0;34m.\u001b[0m\u001b[0m_range\u001b[0m\u001b[0;34m.\u001b[0m\u001b[0mindex\u001b[0m\u001b[0;34m(\u001b[0m\u001b[0mnew_key\u001b[0m\u001b[0;34m)\u001b[0m\u001b[0;34m\u001b[0m\u001b[0;34m\u001b[0m\u001b[0m\n",
      "\u001b[0;31mKeyboardInterrupt\u001b[0m: "
     ]
    }
   ],
   "source": [
    "# isolating ones with different emotions but high similarity\n",
    "ambig_emo = []\n",
    "for x in range(len(df)-2):\n",
    "        tweet1 = df[\"tokens\"][x]\n",
    "        for y in range(len(df)-1):\n",
    "            tweet2 = df[\"tokens\"][y]\n",
    "            ratio = fuzz.ratio(tweet1, tweet2)\n",
    "            if ratio < 89:\n",
    "                pass\n",
    "            elif df[\"emotion\"][x] == df[\"emotion\"][y]:\n",
    "                pass\n",
    "            elif x==y:\n",
    "                pass\n",
    "            else:\n",
    "                ambig_emo.append(x)\n",
    "                ambig_emo.append(y)"
   ]
  },
  {
   "cell_type": "code",
   "execution_count": null,
   "metadata": {
    "ExecuteTime": {
     "end_time": "2024-04-05T08:24:28.429033Z",
     "start_time": "2024-04-05T08:22:13.250Z"
    },
    "scrolled": false
   },
   "outputs": [],
   "source": [
    "# What fraction of my data is that?\n",
    "print(len(set(ambig_emo)))\n",
    "print(len(set(ambig_emo))/len(df))"
   ]
  },
  {
   "cell_type": "markdown",
   "metadata": {},
   "source": [
    "That's almost 1/6th of my data. This definitely had me speculating that the models would have a pretty sizable difference in their performance, one way or the other."
   ]
  },
  {
   "cell_type": "code",
   "execution_count": null,
   "metadata": {
    "ExecuteTime": {
     "end_time": "2024-04-05T08:24:28.429996Z",
     "start_time": "2024-04-05T08:22:13.251Z"
    }
   },
   "outputs": [],
   "source": [
    "# How many words appear more than once?\n",
    "single_words = 0\n",
    "for i in list(freq.values()):\n",
    "    if i == 1:\n",
    "        single_words += 1\n",
    "\n",
    "#The entire frequency distribution minus the words which only appear once.\n",
    "print(len(freq)-single_words)"
   ]
  },
  {
   "cell_type": "markdown",
   "metadata": {},
   "source": [
    "Intuition tells me that nearly 5000 words should be enough to work with, but I am out of my depth to make that judgment. It might not help that the tweets are so short, but that's a problem for another day."
   ]
  },
  {
   "cell_type": "code",
   "execution_count": null,
   "metadata": {
    "ExecuteTime": {
     "end_time": "2024-04-05T08:24:28.431530Z",
     "start_time": "2024-04-05T08:22:13.252Z"
    }
   },
   "outputs": [],
   "source": [
    "# Collecting the common words so I can filter everything else out\n",
    "common_words = []\n",
    "for item in freq.most_common(4806):\n",
    "    common_words.append(item[0])"
   ]
  },
  {
   "cell_type": "code",
   "execution_count": null,
   "metadata": {
    "ExecuteTime": {
     "end_time": "2024-04-05T08:24:28.433337Z",
     "start_time": "2024-04-05T08:22:13.253Z"
    }
   },
   "outputs": [],
   "source": [
    "# Editing the tokens column to only include those common words\n",
    "for i in range(len(df)):\n",
    "    df[\"tokens\"][i] = [w for w in df[\"tokens\"][i] if w in common_words]\n",
    "    df[\"tokens\"][i] = \" \".join(df[\"tokens\"][i])"
   ]
  },
  {
   "cell_type": "markdown",
   "metadata": {},
   "source": [
    "And here it is, the mitosis event:"
   ]
  },
  {
   "cell_type": "code",
   "execution_count": null,
   "metadata": {
    "ExecuteTime": {
     "end_time": "2024-04-05T08:24:28.435545Z",
     "start_time": "2024-04-05T08:22:13.254Z"
    }
   },
   "outputs": [],
   "source": [
    "# \"sdf\" will be the dataframe with edge cases removed. s = small/secondary\n",
    "sdf = df.copy()\n",
    "\n",
    "# Cutting the \"ambiguous\" ones\n",
    "sdf.drop(sdf.index[ambig_emo], inplace = True)\n",
    "sdf.reset_index(drop = True, inplace=True)"
   ]
  },
  {
   "cell_type": "markdown",
   "metadata": {},
   "source": [
    "##### Note: In the next section, I will be adjusting the df and sdf in parallel, mirroring one another in the same cells. Whenever I am mirroring the code for the two, the duplicate code will be simply labeled with \"#s\""
   ]
  },
  {
   "cell_type": "markdown",
   "metadata": {},
   "source": [
    "# Building the Models"
   ]
  },
  {
   "cell_type": "markdown",
   "metadata": {},
   "source": [
    "It hasn't yet been made explicitly clear to me when a simple Count Vectorizer is ever more effective at this task than a TF-IDF Vectorizer. So I will be testing them both. In addition, and partly to demonstrate to myself that these classifiers are indeed much more powerful than those I learned when I was even newer to the field, I'll also generate a Random Forest model.\n",
    "\n",
    "If anything, having the third set of results can give me perspective into how much the difference there actually is between Count and TF IDF."
   ]
  },
  {
   "cell_type": "code",
   "execution_count": null,
   "metadata": {
    "ExecuteTime": {
     "end_time": "2024-04-05T08:24:28.437042Z",
     "start_time": "2024-04-05T08:22:13.256Z"
    }
   },
   "outputs": [],
   "source": [
    "#The tokens used by my untrimmed dataframe\n",
    "df_tokens = []\n",
    "for i in range(len(df)):\n",
    "    df_tokens.append(df[\"tokens\"][i])\n",
    "\n",
    "#s    \n",
    "sdf_tokens = []\n",
    "for i in range(len(sdf)):\n",
    "     sdf_tokens.append(sdf[\"tokens\"][i])"
   ]
  },
  {
   "cell_type": "code",
   "execution_count": null,
   "metadata": {
    "ExecuteTime": {
     "end_time": "2024-04-05T08:24:28.439727Z",
     "start_time": "2024-04-05T08:22:13.257Z"
    }
   },
   "outputs": [],
   "source": [
    "# Splitting the features in preparation for the train-test split\n",
    "X = df_tokens\n",
    "y = df[['emotion']]\n",
    "#s\n",
    "X_s = sdf_tokens\n",
    "y_s = sdf[[\"emotion\"]]\n",
    "\n",
    "# Training and test sets\n",
    "X_train, X_test, y_train, y_test = train_test_split(X, y, \n",
    "                                                 random_state=42)\n",
    "#s\n",
    "Xs_train, Xs_test, ys_train, ys_test = train_test_split(X_s, y_s,\n",
    "                                                        random_state=4)\n",
    "\n",
    "# Taking the training set and further splitting it into a secondary\n",
    "#training set and a new validation set.\n",
    "\n",
    "X_train2, X_test2, y_train2, y_test2 = train_test_split(X_train, y_train, \n",
    "                                              random_state=42)\n",
    "#s\n",
    "Xs_train2, Xs_test2, ys_train2, ys_test2 = train_test_split(Xs_train, \n",
    "                                                ys_train, random_state=4)"
   ]
  },
  {
   "cell_type": "markdown",
   "metadata": {},
   "source": [
    "### Count Vectorizers"
   ]
  },
  {
   "cell_type": "markdown",
   "metadata": {},
   "source": [
    "If my dataset was extremely large, I would have switched to a Hashing Vectorizer. At this size, performance shouldn't be affected noticeably."
   ]
  },
  {
   "cell_type": "code",
   "execution_count": null,
   "metadata": {
    "ExecuteTime": {
     "end_time": "2024-04-05T08:24:28.441418Z",
     "start_time": "2024-04-05T08:22:13.258Z"
    },
    "scrolled": false
   },
   "outputs": [],
   "source": [
    "cv = CountVectorizer(max_features=4816)\n",
    "#s\n",
    "cvs = CountVectorizer(max_features=4816)\n",
    "\n",
    "# Fit-transforming onto the validation set's training data\n",
    "X_train2_vec = cv.fit_transform(X_train2)\n",
    "#s\n",
    "Xs_train2_vec = cvs.fit_transform(Xs_train2)\n",
    "\n",
    "# Transforming the validation set\n",
    "X_test2_vec = cv.transform(X_test2)\n",
    "#s\n",
    "Xs_test2_vec = cvs.transform(Xs_test2)"
   ]
  },
  {
   "cell_type": "code",
   "execution_count": null,
   "metadata": {
    "ExecuteTime": {
     "end_time": "2024-04-05T08:24:28.443124Z",
     "start_time": "2024-04-05T08:22:13.259Z"
    },
    "scrolled": false
   },
   "outputs": [],
   "source": [
    "#Initializing Naive Bayes classifiers\n",
    "mnb_cv = MultinomialNB()\n",
    "mnb_cv.fit(X_train2_vec, y_train2[\"emotion\"].ravel())\n",
    "#s\n",
    "mnb_cvs = MultinomialNB()\n",
    "mnb_cvs.fit(Xs_train2_vec, ys_train2[\"emotion\"].ravel())"
   ]
  },
  {
   "cell_type": "code",
   "execution_count": null,
   "metadata": {
    "ExecuteTime": {
     "end_time": "2024-04-05T08:24:28.444380Z",
     "start_time": "2024-04-05T08:22:13.260Z"
    }
   },
   "outputs": [],
   "source": [
    "#Getting an accuracy score for the first classifier...\n",
    "y_hat_cv = mnb_cv.predict(X_test2_vec)\n",
    "acc_cv = str(accuracy_score(y_test2, y_hat_cv))\n",
    "print(\"accuracy 'cv' = \" + acc_cv)"
   ]
  },
  {
   "cell_type": "markdown",
   "metadata": {},
   "source": [
    "71.96% accuracy for the Count Vectorizer on the unchanged DF. This doesn't seem like a good result, considering the fact that this is only a little better than blindly guessing the majority class every time. "
   ]
  },
  {
   "cell_type": "code",
   "execution_count": null,
   "metadata": {
    "ExecuteTime": {
     "end_time": "2024-04-05T08:24:28.446539Z",
     "start_time": "2024-04-05T08:22:13.261Z"
    }
   },
   "outputs": [],
   "source": [
    "# The majority class is how big again?\n",
    "y_test2.value_counts()[0]/len(y_test2)"
   ]
  },
  {
   "cell_type": "markdown",
   "metadata": {},
   "source": [
    "Ouch. What does the confusion matrix look like?"
   ]
  },
  {
   "cell_type": "code",
   "execution_count": null,
   "metadata": {
    "ExecuteTime": {
     "end_time": "2024-04-05T08:24:28.447518Z",
     "start_time": "2024-04-05T08:22:13.262Z"
    },
    "scrolled": true
   },
   "outputs": [],
   "source": [
    "cm_cv = confusion_matrix(y_test2, y_hat_cv)\n",
    "ConfusionMatrixDisplay(confusion_matrix=cm_cv, \n",
    "                       display_labels=mnb_cv.classes_).plot()"
   ]
  },
  {
   "cell_type": "markdown",
   "metadata": {},
   "source": [
    "Recall for nonpositives is really good (over 80%!) but it is having a lot of trouble giving me a pool of likely-positive tweets to sift through.\n",
    "\n",
    "Did the secondary DF fare better?"
   ]
  },
  {
   "cell_type": "code",
   "execution_count": null,
   "metadata": {
    "ExecuteTime": {
     "end_time": "2024-04-05T08:24:28.448392Z",
     "start_time": "2024-04-05T08:22:13.263Z"
    }
   },
   "outputs": [],
   "source": [
    "ys_hat_cv = mnb_cvs.predict(Xs_test2_vec)\n",
    "acc_cvs = str(accuracy_score(ys_test2, ys_hat_cv))\n",
    "print(\"accuracy 'cvs'= \" + acc_cvs)"
   ]
  },
  {
   "cell_type": "code",
   "execution_count": null,
   "metadata": {
    "ExecuteTime": {
     "end_time": "2024-04-05T08:24:28.449378Z",
     "start_time": "2024-04-05T08:22:13.264Z"
    },
    "scrolled": true
   },
   "outputs": [],
   "source": [
    "cm_cvs = confusion_matrix(ys_test2, ys_hat_cv)\n",
    "ConfusionMatrixDisplay(confusion_matrix=cm_cvs, \n",
    "                       display_labels=mnb_cvs.classes_).plot()"
   ]
  },
  {
   "cell_type": "markdown",
   "metadata": {},
   "source": [
    "Yes! All that work paid off. 2% is 2%."
   ]
  },
  {
   "cell_type": "markdown",
   "metadata": {},
   "source": [
    "### TF IDF Vectorizer"
   ]
  },
  {
   "cell_type": "markdown",
   "metadata": {},
   "source": [
    "The score to beat is 73.9% accuracy."
   ]
  },
  {
   "cell_type": "code",
   "execution_count": null,
   "metadata": {
    "ExecuteTime": {
     "end_time": "2024-04-05T08:24:28.450321Z",
     "start_time": "2024-04-05T08:22:13.265Z"
    }
   },
   "outputs": [],
   "source": [
    "tf = TfidfVectorizer(max_features=4816, lowercase = False)\n",
    "#s\n",
    "tfs = TfidfVectorizer(max_features=4816, lowercase = False)\n",
    "\n",
    "# Fit-transforming onto the validation set's training data\n",
    "X_train2_tf_vec = tf.fit_transform(X_train2)\n",
    "#s\n",
    "Xs_train2_tf_vec = tfs.fit_transform(Xs_train2)\n",
    "\n",
    "# Transforming the validation set\n",
    "X_test2_tf_vec = tf.transform(X_test2)\n",
    "#s\n",
    "Xs_test2_tf_vec = tfs.transform(Xs_test2)"
   ]
  },
  {
   "cell_type": "code",
   "execution_count": null,
   "metadata": {
    "ExecuteTime": {
     "end_time": "2024-04-05T08:24:28.450984Z",
     "start_time": "2024-04-05T08:22:13.266Z"
    }
   },
   "outputs": [],
   "source": [
    "mnb_tf = MultinomialNB()\n",
    "mnb_tf.fit(X_train2_tf_vec, y_train2[\"emotion\"].ravel())\n",
    "\n",
    "y_hat_tf = mnb_tf.predict(X_test2_tf_vec)\n",
    "acc_df = str(accuracy_score(y_test2, y_hat_tf))\n",
    "print(\"accuracy, TF-IDF for df= \" + acc_df)"
   ]
  },
  {
   "cell_type": "code",
   "execution_count": null,
   "metadata": {
    "ExecuteTime": {
     "end_time": "2024-04-05T08:24:28.452009Z",
     "start_time": "2024-04-05T08:22:13.267Z"
    }
   },
   "outputs": [],
   "source": [
    "cm_tf = confusion_matrix(y_test2, y_hat_tf)\n",
    "ConfusionMatrixDisplay(confusion_matrix=cm_tf, \n",
    "                       display_labels=mnb_tf.classes_).plot()"
   ]
  },
  {
   "cell_type": "markdown",
   "metadata": {},
   "source": [
    "72.15% accuracy. Not quite good enough. Its recall for the minority class is downright horrible, too. I thought for sure the more sophisticated classifier would outperform here. Well, did it do any better with the shorter DF?"
   ]
  },
  {
   "cell_type": "code",
   "execution_count": null,
   "metadata": {
    "ExecuteTime": {
     "end_time": "2024-04-05T08:24:28.453148Z",
     "start_time": "2024-04-05T08:22:13.268Z"
    }
   },
   "outputs": [],
   "source": [
    "mnb_tfs = MultinomialNB()\n",
    "mnb_tfs.fit(Xs_train2_tf_vec, ys_train2[\"emotion\"].ravel())\n",
    "\n",
    "ys_hat_tf = mnb_tfs.predict(Xs_test2_tf_vec)\n",
    "acc_sdf = str(accuracy_score(ys_test2, ys_hat_tf))\n",
    "print(\"accuracy TF-IDF for 'sdf'= \" + acc_sdf)"
   ]
  },
  {
   "cell_type": "code",
   "execution_count": null,
   "metadata": {
    "ExecuteTime": {
     "end_time": "2024-04-05T08:24:28.454089Z",
     "start_time": "2024-04-05T08:22:13.268Z"
    }
   },
   "outputs": [],
   "source": [
    "cm_tfs = confusion_matrix(ys_test2, ys_hat_tf)\n",
    "ConfusionMatrixDisplay(confusion_matrix=cm_tfs, \n",
    "                       display_labels=mnb_tfs.classes_).plot()"
   ]
  },
  {
   "cell_type": "markdown",
   "metadata": {},
   "source": [
    "73.8%. At first this seemed like a virtual tie with the other classifier (73.9) but the TF-IDF vectorizers have been giving me just putrid recall numbers. I think that even if it had a slightly better accuracy score than the CVs, I'd still have to turn it away."
   ]
  },
  {
   "cell_type": "markdown",
   "metadata": {},
   "source": [
    "##### So the Count vectorizer on the secondary DF is the winner."
   ]
  },
  {
   "cell_type": "markdown",
   "metadata": {},
   "source": [
    "### Random Forest (for perspective)"
   ]
  },
  {
   "cell_type": "markdown",
   "metadata": {},
   "source": [
    "As a completely new data scientist, I think it would be useful for my education to try an unrelated estimator so I can see just how much better the nltk estimators are at this job."
   ]
  },
  {
   "cell_type": "code",
   "execution_count": null,
   "metadata": {
    "ExecuteTime": {
     "end_time": "2024-04-05T08:24:28.455325Z",
     "start_time": "2024-04-05T08:22:13.270Z"
    }
   },
   "outputs": [],
   "source": [
    "#I did originally run this cell with a wider and more varied spread of params,\n",
    "#and a cv value of 3. To save time rerunning repeatedly, I pared each down.\n",
    "\n",
    "from sklearn.ensemble import RandomForestClassifier\n",
    "\n",
    "param_grid = {\n",
    "\"n_estimators\": [40, 75, 120],\n",
    "\"max_depth\": [2, 4, 7],\n",
    "\"min_samples_split\": [3, 5, 10],\n",
    "\"random_state\": [1]}\n",
    "\n",
    "\n",
    "rf = RandomForestClassifier()\n",
    "\n",
    "rfs = RandomForestClassifier()\n",
    "\n",
    "rf_grid = GridSearchCV(\n",
    "    rf, param_grid=param_grid, cv = 2, \n",
    "    return_train_score=True).fit(X_train2_vec, y_train2[\"emotion\"].ravel())\n",
    "\n",
    "rfs_grid = GridSearchCV(\n",
    "    rfs, param_grid=param_grid, cv = 2, \n",
    "    return_train_score=True).fit(Xs_train2_vec, ys_train2[\"emotion\"].ravel())\n"
   ]
  },
  {
   "cell_type": "code",
   "execution_count": null,
   "metadata": {
    "ExecuteTime": {
     "end_time": "2024-04-05T08:24:28.456341Z",
     "start_time": "2024-04-05T08:22:13.271Z"
    },
    "scrolled": true
   },
   "outputs": [],
   "source": [
    "print(\"df best features = \" + str(rf_grid.best_params_))\n",
    "print(\"sdf best features = \" + str(rfs_grid.best_params_))"
   ]
  },
  {
   "cell_type": "code",
   "execution_count": null,
   "metadata": {
    "ExecuteTime": {
     "end_time": "2024-04-05T08:24:28.457127Z",
     "start_time": "2024-04-05T08:22:13.272Z"
    },
    "scrolled": true
   },
   "outputs": [],
   "source": [
    "rf = RandomForestClassifier(n_estimators=120, \n",
    "                            max_depth= 7, min_samples_split= 10)\n",
    "\n",
    "rf.fit(X_train2_vec, y_train2[\"emotion\"].ravel())\n",
    "y_hat = rf.predict(X_test2_vec)\n",
    "print(\"original df accuracy score = \" + str(accuracy_score(y_hat, y_test2)))\n",
    "\n",
    "\n",
    "#s\n",
    "rfs = RandomForestClassifier(n_estimators=40, \n",
    "                             max_depth= 7, min_samples_split= 3)\n",
    "\n",
    "rfs.fit(Xs_train2_vec, ys_train2[\"emotion\"].ravel())\n",
    "ys_hat = rfs.predict(Xs_test2_vec)\n",
    "print(\"sdf accuracy score = \" + str(accuracy_score(ys_hat, ys_test2)))"
   ]
  },
  {
   "cell_type": "markdown",
   "metadata": {},
   "source": [
    "As expected, the RF was easily outcompeted by the NLP-specific classifiers."
   ]
  },
  {
   "cell_type": "markdown",
   "metadata": {},
   "source": [
    "# Final Result"
   ]
  },
  {
   "cell_type": "markdown",
   "metadata": {},
   "source": [
    "Here is the TF IDF classifier that we found before."
   ]
  },
  {
   "cell_type": "code",
   "execution_count": null,
   "metadata": {
    "ExecuteTime": {
     "end_time": "2024-04-05T08:24:28.458022Z",
     "start_time": "2024-04-05T08:22:13.273Z"
    }
   },
   "outputs": [],
   "source": [
    "tf_final = CountVectorizer(max_features=4816, lowercase = False)\n",
    "\n",
    "final_train_vectors = tf_final.fit_transform(Xs_train)\n",
    "\n",
    "final_test_vectors = tf_final.transform(Xs_test)\n",
    "\n",
    "final_mnb = MultinomialNB()\n",
    "\n",
    "\n",
    "final_mnb.fit(final_train_vectors, ys_train[\"emotion\"].ravel())\n",
    "\n",
    "y_hat_final = final_mnb.predict(final_test_vectors)\n",
    "acc_final = str(accuracy_score(y_hat_final, ys_test))\n",
    "\n",
    "print(\"final accuracy = \" + acc_final)"
   ]
  },
  {
   "cell_type": "code",
   "execution_count": null,
   "metadata": {
    "ExecuteTime": {
     "end_time": "2024-04-05T08:24:28.458897Z",
     "start_time": "2024-04-05T08:22:13.274Z"
    },
    "scrolled": true
   },
   "outputs": [],
   "source": [
    "cm_final = confusion_matrix(ys_test, y_hat_final)\n",
    "ConfusionMatrixDisplay(confusion_matrix=cm_final, \n",
    "                       display_labels=final_mnb.classes_).plot()"
   ]
  },
  {
   "cell_type": "markdown",
   "metadata": {},
   "source": [
    "73.2% is a near-negligible drop off of only 0.7% compared to the training set. And just like the other CV-built models, this one has \"decent\" recall and precision for finding positive results, but nothing to write home about."
   ]
  },
  {
   "cell_type": "markdown",
   "metadata": {},
   "source": [
    "### Conclusion\n",
    "Thankfully, my final model did almost exactly as well on the unseen data as it did on all of my trails. Still, this is far too close to the about 2/3s baseline that the majority class set for me.\n",
    "\n",
    "I'm pretty sure I understand that a recommendation would be something like \"find out what negative things happened at that year's festival\" and the next steps are advice to the tech team about what could be done to improve the process\n",
    "\n",
    "#### Recommendations: \n",
    "For future marketing, it may be helpful to know what pairs of words were most associated with positive experiences and hype going into the event. Most relevant in my opinion would be 'ipad' + 'app' (showing that people really do respond to platform exclusives) and 'marissa' 'mayer' (showing that she probably brings with her a lot of goodwill. Maybe bring her back for some announcements?)\n",
    "\n",
    "Moving forward you should also broaden your focus to what people disliked about the event.\n",
    "\n",
    "The most telling negatively associated pair of words was \"google\" + \"circle\". New social media enterprises generate more groans than interest.\n",
    "\n",
    "\n",
    "#### The Next Steps:\n",
    "\n",
    "Future processing should iterate to find the most accurate boundary between fuzzy tweets.\n",
    "\n",
    "Tweets might not have enough information to generalize from. That, or they are so volatile thanks to the impact one word can have on so few characters. Either way, one should try to scrape data from social media apps with more long form engagement patterns.\n",
    "\n",
    "I suspect that the data was soured by poor inter-rater reliability. If resources could be put into that I imagine that would be a big help."
   ]
  },
  {
   "cell_type": "code",
   "execution_count": null,
   "metadata": {},
   "outputs": [],
   "source": []
  }
 ],
 "metadata": {
  "kernelspec": {
   "display_name": "Python 3.8.5 64-bit ('learn-env': conda)",
   "language": "python",
   "name": "python385jvsc74a57bd07168de47e55f922642e821276e82e1ba59be8ba89f9afd7a9ad5fcf10172704f"
  },
  "language_info": {
   "codemirror_mode": {
    "name": "ipython",
    "version": 3
   },
   "file_extension": ".py",
   "mimetype": "text/x-python",
   "name": "python",
   "nbconvert_exporter": "python",
   "pygments_lexer": "ipython3",
   "version": "3.8.5"
  },
  "toc": {
   "base_numbering": 1,
   "nav_menu": {},
   "number_sections": true,
   "sideBar": true,
   "skip_h1_title": false,
   "title_cell": "Table of Contents",
   "title_sidebar": "Contents",
   "toc_cell": false,
   "toc_position": {},
   "toc_section_display": true,
   "toc_window_display": false
  },
  "varInspector": {
   "cols": {
    "lenName": 16,
    "lenType": 16,
    "lenVar": 40
   },
   "kernels_config": {
    "python": {
     "delete_cmd_postfix": "",
     "delete_cmd_prefix": "del ",
     "library": "var_list.py",
     "varRefreshCmd": "print(var_dic_list())"
    },
    "r": {
     "delete_cmd_postfix": ") ",
     "delete_cmd_prefix": "rm(",
     "library": "var_list.r",
     "varRefreshCmd": "cat(var_dic_list()) "
    }
   },
   "types_to_exclude": [
    "module",
    "function",
    "builtin_function_or_method",
    "instance",
    "_Feature"
   ],
   "window_display": false
  }
 },
 "nbformat": 4,
 "nbformat_minor": 4
}
