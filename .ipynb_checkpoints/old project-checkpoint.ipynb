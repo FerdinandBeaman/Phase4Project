{
 "cells": [
  {
   "cell_type": "markdown",
   "metadata": {},
   "source": [
    "# Phase 4 project"
   ]
  },
  {
   "cell_type": "markdown",
   "metadata": {},
   "source": [
    "Do we remove stop words or not?\n",
    "Do we stem or lemmatize our text data, or leave the words as is?\n",
    "Is basic tokenization enough, or do we need to support special edge cases through the use of regex?\n",
    "Do we use the entire vocabulary, or just limit the model to a subset of the most frequently used words? If so, how many?\n",
    "Do we engineer other features, such as bigrams, or POS tags, or Mutual Information Scores?\n",
    "What sort of vectorization should we use in our model? Boolean Vectorization? Count Vectorization? TF-IDF? More advanced vectorization strategies such as Word2Vec?"
   ]
  },
  {
   "cell_type": "markdown",
   "metadata": {},
   "source": [
    "Stopword languages? imbalanced dataset with smote?"
   ]
  },
  {
   "cell_type": "markdown",
   "metadata": {},
   "source": [
    "## Exploratory phase"
   ]
  },
  {
   "cell_type": "code",
   "execution_count": 1,
   "metadata": {
    "ExecuteTime": {
     "end_time": "2024-02-19T06:11:08.708532Z",
     "start_time": "2024-02-19T06:11:07.308907Z"
    }
   },
   "outputs": [],
   "source": [
    "import pandas as pd\n",
    "import matplotlib.pyplot as plt\n",
    "import numpy as np\n",
    "%matplotlib inline\n",
    "import nltk\n",
    "from nltk import FreqDist\n",
    "from nltk.corpus import stopwords\n",
    "import string\n",
    "import re\n",
    "import matplotlib.pyplot as plt\n",
    "from sklearn.model_selection import train_test_split"
   ]
  },
  {
   "cell_type": "code",
   "execution_count": 2,
   "metadata": {
    "ExecuteTime": {
     "end_time": "2024-02-19T06:11:08.739460Z",
     "start_time": "2024-02-19T06:11:08.709801Z"
    },
    "scrolled": true
   },
   "outputs": [
    {
     "data": {
      "text/html": [
       "<div>\n",
       "<style scoped>\n",
       "    .dataframe tbody tr th:only-of-type {\n",
       "        vertical-align: middle;\n",
       "    }\n",
       "\n",
       "    .dataframe tbody tr th {\n",
       "        vertical-align: top;\n",
       "    }\n",
       "\n",
       "    .dataframe thead th {\n",
       "        text-align: right;\n",
       "    }\n",
       "</style>\n",
       "<table border=\"1\" class=\"dataframe\">\n",
       "  <thead>\n",
       "    <tr style=\"text-align: right;\">\n",
       "      <th></th>\n",
       "      <th>tweet_text</th>\n",
       "      <th>emotion_in_tweet_is_directed_at</th>\n",
       "      <th>is_there_an_emotion_directed_at_a_brand_or_product</th>\n",
       "    </tr>\n",
       "  </thead>\n",
       "  <tbody>\n",
       "    <tr>\n",
       "      <th>0</th>\n",
       "      <td>.@wesley83 I have a 3G iPhone. After 3 hrs twe...</td>\n",
       "      <td>iPhone</td>\n",
       "      <td>Negative emotion</td>\n",
       "    </tr>\n",
       "    <tr>\n",
       "      <th>1</th>\n",
       "      <td>@jessedee Know about @fludapp ? Awesome iPad/i...</td>\n",
       "      <td>iPad or iPhone App</td>\n",
       "      <td>Positive emotion</td>\n",
       "    </tr>\n",
       "    <tr>\n",
       "      <th>2</th>\n",
       "      <td>@swonderlin Can not wait for #iPad 2 also. The...</td>\n",
       "      <td>iPad</td>\n",
       "      <td>Positive emotion</td>\n",
       "    </tr>\n",
       "    <tr>\n",
       "      <th>3</th>\n",
       "      <td>@sxsw I hope this year's festival isn't as cra...</td>\n",
       "      <td>iPad or iPhone App</td>\n",
       "      <td>Negative emotion</td>\n",
       "    </tr>\n",
       "    <tr>\n",
       "      <th>4</th>\n",
       "      <td>@sxtxstate great stuff on Fri #SXSW: Marissa M...</td>\n",
       "      <td>Google</td>\n",
       "      <td>Positive emotion</td>\n",
       "    </tr>\n",
       "    <tr>\n",
       "      <th>...</th>\n",
       "      <td>...</td>\n",
       "      <td>...</td>\n",
       "      <td>...</td>\n",
       "    </tr>\n",
       "    <tr>\n",
       "      <th>9088</th>\n",
       "      <td>Ipad everywhere. #SXSW {link}</td>\n",
       "      <td>iPad</td>\n",
       "      <td>Positive emotion</td>\n",
       "    </tr>\n",
       "    <tr>\n",
       "      <th>9089</th>\n",
       "      <td>Wave, buzz... RT @mention We interrupt your re...</td>\n",
       "      <td>NaN</td>\n",
       "      <td>No emotion toward brand or product</td>\n",
       "    </tr>\n",
       "    <tr>\n",
       "      <th>9090</th>\n",
       "      <td>Google's Zeiger, a physician never reported po...</td>\n",
       "      <td>NaN</td>\n",
       "      <td>No emotion toward brand or product</td>\n",
       "    </tr>\n",
       "    <tr>\n",
       "      <th>9091</th>\n",
       "      <td>Some Verizon iPhone customers complained their...</td>\n",
       "      <td>NaN</td>\n",
       "      <td>No emotion toward brand or product</td>\n",
       "    </tr>\n",
       "    <tr>\n",
       "      <th>9092</th>\n",
       "      <td>Ï¡Ïàü_ÊÎÒ£Áââ_£â_ÛâRT @...</td>\n",
       "      <td>NaN</td>\n",
       "      <td>No emotion toward brand or product</td>\n",
       "    </tr>\n",
       "  </tbody>\n",
       "</table>\n",
       "<p>9093 rows × 3 columns</p>\n",
       "</div>"
      ],
      "text/plain": [
       "                                             tweet_text  \\\n",
       "0     .@wesley83 I have a 3G iPhone. After 3 hrs twe...   \n",
       "1     @jessedee Know about @fludapp ? Awesome iPad/i...   \n",
       "2     @swonderlin Can not wait for #iPad 2 also. The...   \n",
       "3     @sxsw I hope this year's festival isn't as cra...   \n",
       "4     @sxtxstate great stuff on Fri #SXSW: Marissa M...   \n",
       "...                                                 ...   \n",
       "9088                      Ipad everywhere. #SXSW {link}   \n",
       "9089  Wave, buzz... RT @mention We interrupt your re...   \n",
       "9090  Google's Zeiger, a physician never reported po...   \n",
       "9091  Some Verizon iPhone customers complained their...   \n",
       "9092  Ï¡Ïàü_ÊÎÒ£Áââ_£â_ÛâRT @...   \n",
       "\n",
       "     emotion_in_tweet_is_directed_at  \\\n",
       "0                             iPhone   \n",
       "1                 iPad or iPhone App   \n",
       "2                               iPad   \n",
       "3                 iPad or iPhone App   \n",
       "4                             Google   \n",
       "...                              ...   \n",
       "9088                            iPad   \n",
       "9089                             NaN   \n",
       "9090                             NaN   \n",
       "9091                             NaN   \n",
       "9092                             NaN   \n",
       "\n",
       "     is_there_an_emotion_directed_at_a_brand_or_product  \n",
       "0                                      Negative emotion  \n",
       "1                                      Positive emotion  \n",
       "2                                      Positive emotion  \n",
       "3                                      Negative emotion  \n",
       "4                                      Positive emotion  \n",
       "...                                                 ...  \n",
       "9088                                   Positive emotion  \n",
       "9089                 No emotion toward brand or product  \n",
       "9090                 No emotion toward brand or product  \n",
       "9091                 No emotion toward brand or product  \n",
       "9092                 No emotion toward brand or product  \n",
       "\n",
       "[9093 rows x 3 columns]"
      ]
     },
     "execution_count": 2,
     "metadata": {},
     "output_type": "execute_result"
    }
   ],
   "source": [
    "df = pd.read_csv(\"BrandsAndProductEmotions.csv\", encoding='unicode_escape')\n",
    "df"
   ]
  },
  {
   "cell_type": "markdown",
   "metadata": {},
   "source": [
    "The names following the @ symbol are probably useless, but since they do include terms that might be seen elsewhere (e.g. sxsw) I may leave them in. Any of the ones that only show up once or twice will be taken out by the tokenization process regardless."
   ]
  },
  {
   "cell_type": "markdown",
   "metadata": {},
   "source": [
    "Those column names are a mouthful. And the last row is definitely not made for human eyes so I'll just cut it right away."
   ]
  },
  {
   "cell_type": "code",
   "execution_count": 3,
   "metadata": {
    "ExecuteTime": {
     "end_time": "2024-02-19T06:11:08.750946Z",
     "start_time": "2024-02-19T06:11:08.741891Z"
    }
   },
   "outputs": [],
   "source": [
    "df.columns = [\"text\", \"product\", \"emotion\"]\n",
    "df.drop(9092, inplace = True)"
   ]
  },
  {
   "cell_type": "markdown",
   "metadata": {},
   "source": [
    "Now let's see if there's anything interesting from a macro level."
   ]
  },
  {
   "cell_type": "code",
   "execution_count": 4,
   "metadata": {
    "ExecuteTime": {
     "end_time": "2024-02-19T06:11:08.760016Z",
     "start_time": "2024-02-19T06:11:08.753036Z"
    },
    "scrolled": true
   },
   "outputs": [
    {
     "name": "stdout",
     "output_type": "stream",
     "text": [
      "Emotion\n",
      "No emotion toward brand or product    5388\n",
      "Positive emotion                      2978\n",
      "Negative emotion                       570\n",
      "I can't tell                           156\n",
      "Name: emotion, dtype: int64\n",
      "\n",
      "Products\n",
      "iPad                               946\n",
      "Apple                              661\n",
      "iPad or iPhone App                 470\n",
      "Google                             430\n",
      "iPhone                             297\n",
      "Other Google product or service    293\n",
      "Android App                         81\n",
      "Android                             78\n",
      "Other Apple product or service      35\n",
      "Name: product, dtype: int64\n"
     ]
    }
   ],
   "source": [
    "#Value counts for the two categorical columns\n",
    "print(\"Emotion\")\n",
    "print(df.emotion.value_counts())\n",
    "print(\"\\nProducts\")\n",
    "print(df[\"product\"].value_counts())"
   ]
  },
  {
   "cell_type": "markdown",
   "metadata": {
    "ExecuteTime": {
     "end_time": "2024-02-14T06:41:19.164476Z",
     "start_time": "2024-02-14T06:41:19.157031Z"
    }
   },
   "source": [
    "570 is a little over 6% of the whole dataset. I may need to address this class imbalance later when building my model."
   ]
  },
  {
   "cell_type": "code",
   "execution_count": 5,
   "metadata": {
    "ExecuteTime": {
     "end_time": "2024-02-19T06:11:08.769418Z",
     "start_time": "2024-02-19T06:11:08.761079Z"
    }
   },
   "outputs": [
    {
     "name": "stdout",
     "output_type": "stream",
     "text": [
      "(9092, 3)\n",
      "\n",
      "\n",
      "<class 'pandas.core.frame.DataFrame'>\n",
      "Int64Index: 9092 entries, 0 to 9091\n",
      "Data columns (total 3 columns):\n",
      " #   Column   Non-Null Count  Dtype \n",
      "---  ------   --------------  ----- \n",
      " 0   text     9091 non-null   object\n",
      " 1   product  3291 non-null   object\n",
      " 2   emotion  9092 non-null   object\n",
      "dtypes: object(3)\n",
      "memory usage: 284.1+ KB\n",
      "None\n"
     ]
    }
   ],
   "source": [
    "print(df.shape)\n",
    "print(\"\\n\")\n",
    "print(df.info())"
   ]
  },
  {
   "cell_type": "markdown",
   "metadata": {},
   "source": [
    "Somehow, one of the text entries is null, and nearly 2/3s of the rest of the entries are missing a product label."
   ]
  },
  {
   "cell_type": "code",
   "execution_count": 6,
   "metadata": {
    "ExecuteTime": {
     "end_time": "2024-02-19T06:11:08.776059Z",
     "start_time": "2024-02-19T06:11:08.770482Z"
    },
    "scrolled": true
   },
   "outputs": [
    {
     "data": {
      "text/html": [
       "<div>\n",
       "<style scoped>\n",
       "    .dataframe tbody tr th:only-of-type {\n",
       "        vertical-align: middle;\n",
       "    }\n",
       "\n",
       "    .dataframe tbody tr th {\n",
       "        vertical-align: top;\n",
       "    }\n",
       "\n",
       "    .dataframe thead th {\n",
       "        text-align: right;\n",
       "    }\n",
       "</style>\n",
       "<table border=\"1\" class=\"dataframe\">\n",
       "  <thead>\n",
       "    <tr style=\"text-align: right;\">\n",
       "      <th></th>\n",
       "      <th>text</th>\n",
       "      <th>product</th>\n",
       "      <th>emotion</th>\n",
       "    </tr>\n",
       "  </thead>\n",
       "  <tbody>\n",
       "    <tr>\n",
       "      <th>6</th>\n",
       "      <td>NaN</td>\n",
       "      <td>NaN</td>\n",
       "      <td>No emotion toward brand or product</td>\n",
       "    </tr>\n",
       "  </tbody>\n",
       "</table>\n",
       "</div>"
      ],
      "text/plain": [
       "  text product                             emotion\n",
       "6  NaN     NaN  No emotion toward brand or product"
      ]
     },
     "execution_count": 6,
     "metadata": {},
     "output_type": "execute_result"
    }
   ],
   "source": [
    "#Before I forget, let me look at that null entry\n",
    "df[df[\"text\"].isnull()]"
   ]
  },
  {
   "cell_type": "markdown",
   "metadata": {},
   "source": [
    "Predictably, this was useless."
   ]
  },
  {
   "cell_type": "code",
   "execution_count": 7,
   "metadata": {
    "ExecuteTime": {
     "end_time": "2024-02-19T06:11:08.781519Z",
     "start_time": "2024-02-19T06:11:08.777155Z"
    }
   },
   "outputs": [],
   "source": [
    "df.drop(6, inplace = True)\n",
    "df.reset_index(inplace = True)"
   ]
  },
  {
   "cell_type": "markdown",
   "metadata": {},
   "source": [
    "Now let's look at one of those tweets that's missing a product label."
   ]
  },
  {
   "cell_type": "code",
   "execution_count": 8,
   "metadata": {
    "ExecuteTime": {
     "end_time": "2024-02-19T06:11:08.786507Z",
     "start_time": "2024-02-19T06:11:08.783799Z"
    }
   },
   "outputs": [
    {
     "data": {
      "text/plain": [
       "'Some Verizon iPhone customers complained their time fell back an hour this weekend.  Of course they were the New Yorkers who attended #SXSW.'"
      ]
     },
     "execution_count": 8,
     "metadata": {},
     "output_type": "execute_result"
    }
   ],
   "source": [
    "df.iloc[9090][\"text\"]"
   ]
  },
  {
   "cell_type": "markdown",
   "metadata": {},
   "source": [
    "Yeah, this is just a generic tweet. How did this end up here? It also was labeled as lacking an emotional quality. Is that what all of the null entries in the product column are like?"
   ]
  },
  {
   "cell_type": "code",
   "execution_count": 9,
   "metadata": {
    "ExecuteTime": {
     "end_time": "2024-02-19T06:11:08.793584Z",
     "start_time": "2024-02-19T06:11:08.788189Z"
    }
   },
   "outputs": [
    {
     "data": {
      "text/plain": [
       "No emotion toward brand or product    5296\n",
       "Positive emotion                       306\n",
       "I can't tell                           147\n",
       "Negative emotion                        51\n",
       "Name: emotion, dtype: int64"
      ]
     },
     "execution_count": 9,
     "metadata": {},
     "output_type": "execute_result"
    }
   ],
   "source": [
    "df[df[\"product\"].isnull()][\"emotion\"].value_counts()"
   ]
  },
  {
   "cell_type": "markdown",
   "metadata": {},
   "source": [
    "No, there are emotional statements in here. This seems to be *somewhat* similar to the rest of the dataset except for a big dropoff for positive tweets.\n",
    "\n",
    "Anyway, I have two tasks to start with: seeing if the NaN entries in the \"emotion\" column  are worth keeping, and investigating the \"I can't tell\"s."
   ]
  },
  {
   "cell_type": "markdown",
   "metadata": {},
   "source": [
    "# Investigating Entries"
   ]
  },
  {
   "cell_type": "markdown",
   "metadata": {},
   "source": [
    "### NaNs"
   ]
  },
  {
   "cell_type": "code",
   "execution_count": 10,
   "metadata": {
    "ExecuteTime": {
     "end_time": "2024-02-19T06:11:08.802245Z",
     "start_time": "2024-02-19T06:11:08.794646Z"
    }
   },
   "outputs": [
    {
     "name": "stdout",
     "output_type": "stream",
     "text": [
      "RT Hiring marketers, designers, creatives, social media pros... Come see #Aquent booth 1415 #SXSW trade show. Might win iPad 2\n",
      "\n",
      "\n",
      "RT @mention Full #SXSW #touchingstories presentation: {link}\n",
      "\n",
      "\n",
      "RT @mention #SXSW Interactive Award: Music Category goes to &quot;Wilderness Downtown&quot;. Congrats shared with @mention @mention @mention #winning\n",
      "\n",
      "\n",
      "One guy stakes out the Austin Apple popup shop at #SXSW for his #iPad 2 {link} #SXSWi\n",
      "\n",
      "\n",
      "RT @mention RT @mention Google set to launch new social network #Circles today at #sxsw\n",
      "\n",
      "\n",
      "hey @mention heard you're at #sxsw. Come by to the @mention grille and make your comic into a iPhone case? What do you say? :]\n",
      "\n",
      "\n",
      "Too bad I don't have a _ button!\n",
      "RT @mention I know its #SXSW time when I have an abnormal amount of app updates on my iPhone.\n",
      "\n",
      "\n",
      "RT @mention &quot;my kids will not grow up thinking the New York Times and Google are in separate industries&quot; @mention #bvj #SXSW\n",
      "\n",
      "\n",
      "packing for #sxsw = iPad, iPhone, BlackBerry, laptop, and video camera. Need a stylish belt-clip-gadget-holster. Or is that an oxymoron? #in\n",
      "\n",
      "\n",
      "The line outside the #SXSW Apple pop-up store. #wasteoftimeatsxsw {link}\n",
      "\n",
      "\n"
     ]
    }
   ],
   "source": [
    "null_prod_s = df[df[\"product\"].isnull() == True].sample(n=10, random_state =2)\n",
    "for i in range(10):\n",
    "    print(null_prod_s[\"text\"].iloc[i])\n",
    "    print(\"\\n\")"
   ]
  },
  {
   "cell_type": "markdown",
   "metadata": {},
   "source": [
    "Oh, I get it now: the collection of tweets is just the result of scraping and collecting any tweets that have tech-company keywords in them. Since this sounds like a realistic version of what would happen in the real world, I think I should leave these in and hope my model can accurately toss them aside."
   ]
  },
  {
   "cell_type": "markdown",
   "metadata": {},
   "source": [
    "### \"I can't tell\""
   ]
  },
  {
   "cell_type": "code",
   "execution_count": 11,
   "metadata": {
    "ExecuteTime": {
     "end_time": "2024-02-19T06:11:08.807787Z",
     "start_time": "2024-02-19T06:11:08.803129Z"
    }
   },
   "outputs": [
    {
     "name": "stdout",
     "output_type": "stream",
     "text": [
      "Comprando mi iPad 2 en el #SXSW (@mention Apple Store, SXSW w/ 62 others) {link}\n",
      "\n",
      "\n",
      "The queue at the Apple Store in Austin is FOUR blocks long. Crazy stuff! #sxsw\n",
      "\n",
      "\n",
      "RT @mention Demo of Google Hotpot at #bettersearch panel: still pull search, but personalized. Not yet serendipitous? #SXSW\n",
      "\n",
      "\n",
      "Why Barry Diller thinks iPad only content is nuts @mention #SXSW {link}\n",
      "\n",
      "\n",
      "Like @mention I've now seen most of Austin in Google Streetview checking out apartments for #sxsw. Austin is not easy on the click.\n",
      "\n",
      "\n",
      "Anyone know status of iPad 2s in Austin pop-up store? Sold out? Getting more? #ipad2 #sxsw\n",
      "\n",
      "\n",
      "Reports of @mention introducing a new social media platform at #SXSW were premature, but hopefully not overly optimistic {link}\n",
      "\n",
      "\n",
      "DANG RT @mention Confirmed! Apple store 2 week popup in Austin for #SXSW {link} (via @mention who gave us no credit! )\n",
      "\n",
      "\n",
      "At the Team Android party. Can't find it on Gowalla or Foursquare, so um, there you go. #sxsw\n",
      "\n",
      "\n",
      "Line for Source Code is even longer than for iPad 2. Take that, Apple. #sxsw\n",
      "\n",
      "\n"
     ]
    }
   ],
   "source": [
    "ict_emo_s = df[df[\"emotion\"] == \"I can't tell\"].sample(n=10, random_state =2)\n",
    "for i in range(10):\n",
    "    print(ict_emo_s[\"text\"].iloc[i])\n",
    "    print(\"\\n\")"
   ]
  },
  {
   "cell_type": "markdown",
   "metadata": {},
   "source": [
    "Oh hey, Spanish. This possibility didn't cross my mind at all. Looking at sample tweets by hand I didn't see any other languages, but I think I can find a way to filter out non-english tweets a little later.\n",
    "\n",
    "Many of the others in this sample are unemotional, but a couple... could be? I'll try a few more."
   ]
  },
  {
   "cell_type": "code",
   "execution_count": 12,
   "metadata": {
    "ExecuteTime": {
     "end_time": "2024-02-19T06:11:08.818689Z",
     "start_time": "2024-02-19T06:11:08.808837Z"
    }
   },
   "outputs": [
    {
     "data": {
      "text/html": [
       "<div>\n",
       "<style scoped>\n",
       "    .dataframe tbody tr th:only-of-type {\n",
       "        vertical-align: middle;\n",
       "    }\n",
       "\n",
       "    .dataframe tbody tr th {\n",
       "        vertical-align: top;\n",
       "    }\n",
       "\n",
       "    .dataframe thead th {\n",
       "        text-align: right;\n",
       "    }\n",
       "</style>\n",
       "<table border=\"1\" class=\"dataframe\">\n",
       "  <thead>\n",
       "    <tr style=\"text-align: right;\">\n",
       "      <th></th>\n",
       "      <th>index</th>\n",
       "      <th>text</th>\n",
       "      <th>product</th>\n",
       "      <th>emotion</th>\n",
       "    </tr>\n",
       "  </thead>\n",
       "  <tbody>\n",
       "    <tr>\n",
       "      <th>881</th>\n",
       "      <td>882</td>\n",
       "      <td>Comprando mi iPad 2 en el #SXSW (@mention Appl...</td>\n",
       "      <td>NaN</td>\n",
       "      <td>I can't tell</td>\n",
       "    </tr>\n",
       "  </tbody>\n",
       "</table>\n",
       "</div>"
      ],
      "text/plain": [
       "     index                                               text product  \\\n",
       "881    882  Comprando mi iPad 2 en el #SXSW (@mention Appl...     NaN   \n",
       "\n",
       "          emotion  \n",
       "881  I can't tell  "
      ]
     },
     "execution_count": 12,
     "metadata": {},
     "output_type": "execute_result"
    }
   ],
   "source": [
    "df[df['text'].str.contains('Compr')]"
   ]
  },
  {
   "cell_type": "code",
   "execution_count": 13,
   "metadata": {
    "ExecuteTime": {
     "end_time": "2024-02-19T06:11:08.824167Z",
     "start_time": "2024-02-19T06:11:08.819635Z"
    },
    "scrolled": true
   },
   "outputs": [
    {
     "name": "stdout",
     "output_type": "stream",
     "text": [
      "I really think that most of the iPad 2 stock went down to #SXSW.\n",
      "\n",
      "\n",
      "The queue at the Apple Store in Austin is FOUR blocks long. Crazy stuff! #sxsw\n",
      "\n",
      "\n",
      "I'd take #sxsw hashtags over scheen, ipad/ipad2, tv or sports tweets any day, but for those needing a filterÛ_ {link}\n",
      "\n",
      "\n",
      "TR @mention Google (tries again) to launch a new social network called Circles: {link} #sxsw {link}\n",
      "\n",
      "\n",
      "Walked by the mobile Apple store in austin.  Line was insane. #sxsw\n",
      "\n",
      "\n",
      "#sxsw: @mention We think we control our identities on Facebook, but as Google becomes an AI our profile will be built of what we do\n",
      "\n",
      "\n",
      "RT never use mine on the go RT @mention &quot;You're probably using your iPad on the go.&quot; #disagree #SXSW #uxdes\n",
      "\n",
      "\n",
      "Why Barry Diller thinks iPad only content is nuts @mention #SXSW {link}\n",
      "\n",
      "\n",
      "Next up: designing interfaces for iPad. Or should I hit up &quot;Your Brand is Obsolete&quot;? #SXSW\n",
      "\n",
      "\n",
      "@mention is biyt.ly for email, like google voice for email #loveit #sxsw #startupbus\n",
      "\n",
      "\n"
     ]
    }
   ],
   "source": [
    "ict_emo_s2 = df[df[\"emotion\"] == \"I can't tell\"].sample(n=12, random_state =3)\n",
    "for i in range(10):\n",
    "    print(ict_emo_s2[\"text\"].iloc[i])\n",
    "    print(\"\\n\")"
   ]
  },
  {
   "cell_type": "markdown",
   "metadata": {},
   "source": [
    "There's a lot of ambiguity in some of these, and the dabbling in emotionally charged language is sure to make things a little difficult in the future. My original plan was to include these in the \"no emotion\" pile but after thinking more about it I think that'd be a mistake. Thankfully, these are only about 1% of the possible entries so I'll remove them."
   ]
  },
  {
   "cell_type": "code",
   "execution_count": 14,
   "metadata": {
    "ExecuteTime": {
     "end_time": "2024-02-19T06:11:08.829792Z",
     "start_time": "2024-02-19T06:11:08.825077Z"
    }
   },
   "outputs": [],
   "source": [
    "df = df.drop(df[\"emotion\"].loc[df[\"emotion\"]==\"I can't tell\"].index)\n",
    "df.reset_index(inplace = True)\n",
    "#https://stackoverflow.com/questions/53182464/pandas-delete-a-row-in-a-dataframe-based-on-a-value"
   ]
  },
  {
   "cell_type": "code",
   "execution_count": 15,
   "metadata": {
    "ExecuteTime": {
     "end_time": "2024-02-19T06:11:08.850901Z",
     "start_time": "2024-02-19T06:11:08.830660Z"
    },
    "scrolled": false
   },
   "outputs": [
    {
     "data": {
      "text/plain": [
       "No emotion toward brand or product    5387\n",
       "Positive emotion                      2978\n",
       "Negative emotion                       570\n",
       "Name: emotion, dtype: int64"
      ]
     },
     "execution_count": 15,
     "metadata": {},
     "output_type": "execute_result"
    }
   ],
   "source": [
    "df.emotion.value_counts()"
   ]
  },
  {
   "cell_type": "markdown",
   "metadata": {},
   "source": [
    "# Preprocessing"
   ]
  },
  {
   "cell_type": "markdown",
   "metadata": {},
   "source": [
    "In addition to the Flatiron Approved preprocessing steps (lower case, remove punctuation, lemmatize), I'll also expand the contractions."
   ]
  },
  {
   "cell_type": "code",
   "execution_count": 16,
   "metadata": {
    "ExecuteTime": {
     "end_time": "2024-02-19T06:11:08.870176Z",
     "start_time": "2024-02-19T06:11:08.858013Z"
    },
    "scrolled": true
   },
   "outputs": [],
   "source": [
    "import contractions"
   ]
  },
  {
   "cell_type": "code",
   "execution_count": 17,
   "metadata": {
    "ExecuteTime": {
     "end_time": "2024-02-19T06:11:09.970698Z",
     "start_time": "2024-02-19T06:11:08.871089Z"
    },
    "scrolled": true
   },
   "outputs": [
    {
     "name": "stderr",
     "output_type": "stream",
     "text": [
      "/Users/ferdi/opt/anaconda3/envs/learn-env/lib/python3.8/site-packages/pandas/core/indexing.py:670: SettingWithCopyWarning: \n",
      "A value is trying to be set on a copy of a slice from a DataFrame\n",
      "\n",
      "See the caveats in the documentation: https://pandas.pydata.org/pandas-docs/stable/user_guide/indexing.html#returning-a-view-versus-a-copy\n",
      "  iloc._setitem_with_indexer(indexer, value)\n"
     ]
    }
   ],
   "source": [
    "df[\"processed_text\"] = \"\"\n",
    "for i in range(len(df)):\n",
    "    exp_text = []\n",
    "    for word in df[\"text\"].iloc[i].split():\n",
    "        exp_text.append(contractions.fix(word))\n",
    "    exp_text = \" \".join(exp_text)\n",
    "    df[\"processed_text\"].iloc[i] = exp_text\n",
    "    \n",
    "df.drop(\"text\", axis = 1, inplace = True)"
   ]
  },
  {
   "cell_type": "code",
   "execution_count": 18,
   "metadata": {
    "ExecuteTime": {
     "end_time": "2024-02-19T06:11:09.973783Z",
     "start_time": "2024-02-19T06:11:09.971575Z"
    }
   },
   "outputs": [
    {
     "data": {
      "text/plain": [
       "'@jessedee Know about @fludapp ? Awesome iPad/iPhone app that you will likely appreciate for its design. Also, they are giving free Ts at #SXSW'"
      ]
     },
     "execution_count": 18,
     "metadata": {},
     "output_type": "execute_result"
    }
   ],
   "source": [
    "df.processed_text[1]"
   ]
  },
  {
   "cell_type": "code",
   "execution_count": 19,
   "metadata": {
    "ExecuteTime": {
     "end_time": "2024-02-19T06:11:10.705037Z",
     "start_time": "2024-02-19T06:11:09.974542Z"
    },
    "scrolled": true
   },
   "outputs": [],
   "source": [
    "from nltk.tokenize import RegexpTokenizer\n",
    "\n",
    "basic_token_pattern = r\"(?u)\\b\\w\\w+\\b\"\n",
    "\n",
    "tokenizer = RegexpTokenizer(basic_token_pattern)\n",
    "for i in range(len(df)):\n",
    "    df.processed_text.iloc[i] = \" \".join(tokenizer.tokenize(df.processed_text.iloc[i]))"
   ]
  },
  {
   "cell_type": "code",
   "execution_count": 20,
   "metadata": {
    "ExecuteTime": {
     "end_time": "2024-02-19T06:11:10.711994Z",
     "start_time": "2024-02-19T06:11:10.705988Z"
    }
   },
   "outputs": [],
   "source": [
    "df[\"processed_text\"] = df[\"processed_text\"].str.lower()"
   ]
  },
  {
   "cell_type": "code",
   "execution_count": 21,
   "metadata": {
    "ExecuteTime": {
     "end_time": "2024-02-19T06:11:10.718208Z",
     "start_time": "2024-02-19T06:11:10.713128Z"
    },
    "scrolled": false
   },
   "outputs": [
    {
     "data": {
      "text/html": [
       "<div>\n",
       "<style scoped>\n",
       "    .dataframe tbody tr th:only-of-type {\n",
       "        vertical-align: middle;\n",
       "    }\n",
       "\n",
       "    .dataframe tbody tr th {\n",
       "        vertical-align: top;\n",
       "    }\n",
       "\n",
       "    .dataframe thead th {\n",
       "        text-align: right;\n",
       "    }\n",
       "</style>\n",
       "<table border=\"1\" class=\"dataframe\">\n",
       "  <thead>\n",
       "    <tr style=\"text-align: right;\">\n",
       "      <th></th>\n",
       "      <th>level_0</th>\n",
       "      <th>index</th>\n",
       "      <th>product</th>\n",
       "      <th>emotion</th>\n",
       "      <th>processed_text</th>\n",
       "    </tr>\n",
       "  </thead>\n",
       "  <tbody>\n",
       "    <tr>\n",
       "      <th>0</th>\n",
       "      <td>0</td>\n",
       "      <td>0</td>\n",
       "      <td>iPhone</td>\n",
       "      <td>Negative emotion</td>\n",
       "      <td>wesley83 have 3g iphone after hrs tweeting at ...</td>\n",
       "    </tr>\n",
       "    <tr>\n",
       "      <th>1</th>\n",
       "      <td>1</td>\n",
       "      <td>1</td>\n",
       "      <td>iPad or iPhone App</td>\n",
       "      <td>Positive emotion</td>\n",
       "      <td>jessedee know about fludapp awesome ipad iphon...</td>\n",
       "    </tr>\n",
       "    <tr>\n",
       "      <th>2</th>\n",
       "      <td>2</td>\n",
       "      <td>2</td>\n",
       "      <td>iPad</td>\n",
       "      <td>Positive emotion</td>\n",
       "      <td>swonderlin can not wait for ipad also they sho...</td>\n",
       "    </tr>\n",
       "    <tr>\n",
       "      <th>3</th>\n",
       "      <td>3</td>\n",
       "      <td>3</td>\n",
       "      <td>iPad or iPhone App</td>\n",
       "      <td>Negative emotion</td>\n",
       "      <td>sxsw hope this year festival is not as crashy ...</td>\n",
       "    </tr>\n",
       "    <tr>\n",
       "      <th>4</th>\n",
       "      <td>4</td>\n",
       "      <td>4</td>\n",
       "      <td>Google</td>\n",
       "      <td>Positive emotion</td>\n",
       "      <td>sxtxstate great stuff on fri sxsw marissa maye...</td>\n",
       "    </tr>\n",
       "  </tbody>\n",
       "</table>\n",
       "</div>"
      ],
      "text/plain": [
       "   level_0  index             product           emotion  \\\n",
       "0        0      0              iPhone  Negative emotion   \n",
       "1        1      1  iPad or iPhone App  Positive emotion   \n",
       "2        2      2                iPad  Positive emotion   \n",
       "3        3      3  iPad or iPhone App  Negative emotion   \n",
       "4        4      4              Google  Positive emotion   \n",
       "\n",
       "                                      processed_text  \n",
       "0  wesley83 have 3g iphone after hrs tweeting at ...  \n",
       "1  jessedee know about fludapp awesome ipad iphon...  \n",
       "2  swonderlin can not wait for ipad also they sho...  \n",
       "3  sxsw hope this year festival is not as crashy ...  \n",
       "4  sxtxstate great stuff on fri sxsw marissa maye...  "
      ]
     },
     "execution_count": 21,
     "metadata": {},
     "output_type": "execute_result"
    }
   ],
   "source": [
    "df.head()"
   ]
  },
  {
   "cell_type": "markdown",
   "metadata": {},
   "source": [
    "I don't know how much it will help, but I figured I may as well create a column which identifies the company each tweet refers to."
   ]
  },
  {
   "cell_type": "code",
   "execution_count": 22,
   "metadata": {
    "ExecuteTime": {
     "end_time": "2024-02-19T06:11:10.723028Z",
     "start_time": "2024-02-19T06:11:10.719177Z"
    },
    "scrolled": false
   },
   "outputs": [
    {
     "data": {
      "text/plain": [
       "iPad                               942\n",
       "Apple                              659\n",
       "iPad or iPhone App                 470\n",
       "Google                             429\n",
       "iPhone                             296\n",
       "Other Google product or service    292\n",
       "Android App                         81\n",
       "Android                             78\n",
       "Other Apple product or service      35\n",
       "Name: product, dtype: int64"
      ]
     },
     "execution_count": 22,
     "metadata": {},
     "output_type": "execute_result"
    }
   ],
   "source": [
    "df[\"product\"].value_counts()"
   ]
  },
  {
   "cell_type": "code",
   "execution_count": 23,
   "metadata": {
    "ExecuteTime": {
     "end_time": "2024-02-19T06:11:11.616588Z",
     "start_time": "2024-02-19T06:11:10.727503Z"
    },
    "scrolled": false
   },
   "outputs": [
    {
     "name": "stderr",
     "output_type": "stream",
     "text": [
      "/Users/ferdi/opt/anaconda3/envs/learn-env/lib/python3.8/site-packages/pandas/core/indexing.py:670: SettingWithCopyWarning: \n",
      "A value is trying to be set on a copy of a slice from a DataFrame\n",
      "\n",
      "See the caveats in the documentation: https://pandas.pydata.org/pandas-docs/stable/user_guide/indexing.html#returning-a-view-versus-a-copy\n",
      "  iloc._setitem_with_indexer(indexer, value)\n"
     ]
    },
    {
     "data": {
      "text/html": [
       "<div>\n",
       "<style scoped>\n",
       "    .dataframe tbody tr th:only-of-type {\n",
       "        vertical-align: middle;\n",
       "    }\n",
       "\n",
       "    .dataframe tbody tr th {\n",
       "        vertical-align: top;\n",
       "    }\n",
       "\n",
       "    .dataframe thead th {\n",
       "        text-align: right;\n",
       "    }\n",
       "</style>\n",
       "<table border=\"1\" class=\"dataframe\">\n",
       "  <thead>\n",
       "    <tr style=\"text-align: right;\">\n",
       "      <th></th>\n",
       "      <th>level_0</th>\n",
       "      <th>index</th>\n",
       "      <th>product</th>\n",
       "      <th>emotion</th>\n",
       "      <th>processed_text</th>\n",
       "      <th>company</th>\n",
       "    </tr>\n",
       "  </thead>\n",
       "  <tbody>\n",
       "    <tr>\n",
       "      <th>0</th>\n",
       "      <td>0</td>\n",
       "      <td>0</td>\n",
       "      <td>iPhone</td>\n",
       "      <td>Negative emotion</td>\n",
       "      <td>wesley83 have 3g iphone after hrs tweeting at ...</td>\n",
       "      <td>Apple</td>\n",
       "    </tr>\n",
       "    <tr>\n",
       "      <th>1</th>\n",
       "      <td>1</td>\n",
       "      <td>1</td>\n",
       "      <td>iPad or iPhone App</td>\n",
       "      <td>Positive emotion</td>\n",
       "      <td>jessedee know about fludapp awesome ipad iphon...</td>\n",
       "      <td>Apple</td>\n",
       "    </tr>\n",
       "    <tr>\n",
       "      <th>2</th>\n",
       "      <td>2</td>\n",
       "      <td>2</td>\n",
       "      <td>iPad</td>\n",
       "      <td>Positive emotion</td>\n",
       "      <td>swonderlin can not wait for ipad also they sho...</td>\n",
       "      <td>Apple</td>\n",
       "    </tr>\n",
       "    <tr>\n",
       "      <th>3</th>\n",
       "      <td>3</td>\n",
       "      <td>3</td>\n",
       "      <td>iPad or iPhone App</td>\n",
       "      <td>Negative emotion</td>\n",
       "      <td>sxsw hope this year festival is not as crashy ...</td>\n",
       "      <td>Apple</td>\n",
       "    </tr>\n",
       "    <tr>\n",
       "      <th>4</th>\n",
       "      <td>4</td>\n",
       "      <td>4</td>\n",
       "      <td>Google</td>\n",
       "      <td>Positive emotion</td>\n",
       "      <td>sxtxstate great stuff on fri sxsw marissa maye...</td>\n",
       "      <td>Google</td>\n",
       "    </tr>\n",
       "  </tbody>\n",
       "</table>\n",
       "</div>"
      ],
      "text/plain": [
       "   level_0  index             product           emotion  \\\n",
       "0        0      0              iPhone  Negative emotion   \n",
       "1        1      1  iPad or iPhone App  Positive emotion   \n",
       "2        2      2                iPad  Positive emotion   \n",
       "3        3      3  iPad or iPhone App  Negative emotion   \n",
       "4        4      4              Google  Positive emotion   \n",
       "\n",
       "                                      processed_text company  \n",
       "0  wesley83 have 3g iphone after hrs tweeting at ...   Apple  \n",
       "1  jessedee know about fludapp awesome ipad iphon...   Apple  \n",
       "2  swonderlin can not wait for ipad also they sho...   Apple  \n",
       "3  sxsw hope this year festival is not as crashy ...   Apple  \n",
       "4  sxtxstate great stuff on fri sxsw marissa maye...  Google  "
      ]
     },
     "execution_count": 23,
     "metadata": {},
     "output_type": "execute_result"
    }
   ],
   "source": [
    "df[\"company\"] = \"\"\n",
    "for i in range(len(df)):\n",
    "    if \"Google\" in str(df[\"product\"].iloc[i]):\n",
    "        df[\"company\"].iloc[i] = \"Google\"\n",
    "    elif \"Android\" in str(df[\"product\"].iloc[i]):\n",
    "        df[\"company\"].iloc[i] = \"Android\"\n",
    "    else:\n",
    "        df[\"company\"].iloc[i] = \"Apple\"\n",
    "df.head()"
   ]
  },
  {
   "cell_type": "code",
   "execution_count": 24,
   "metadata": {
    "ExecuteTime": {
     "end_time": "2024-02-19T06:11:11.622443Z",
     "start_time": "2024-02-19T06:11:11.619233Z"
    }
   },
   "outputs": [
    {
     "data": {
      "text/plain": [
       "Apple      8055\n",
       "Google      721\n",
       "Android     159\n",
       "Name: company, dtype: int64"
      ]
     },
     "execution_count": 24,
     "metadata": {},
     "output_type": "execute_result"
    }
   ],
   "source": [
    "df[\"company\"].value_counts()"
   ]
  },
  {
   "cell_type": "markdown",
   "metadata": {},
   "source": [
    "WOW that is an imbalanced dataset. Google and android combined are only about 9 and a half percent of the data. I am not currently aware of whether or not I can use something like SMOTE on more than one feature without something breaking..."
   ]
  },
  {
   "cell_type": "markdown",
   "metadata": {},
   "source": [
    "## Foreign language identification\n",
    "\n",
    "I think I can safely speculate that nearly all of the tweets are in English, but only nearly. There is basically no way that the model can learn a non_English language so they are just injecting noise into my dataset. Can I remove them?\n",
    "\n",
    "My plan to identify those messages is to collect and inspect the ones that don't include at least one word in the English stopwords list. Of course, languages share spellings (e.g. \"me\" in Spanish/English) so I will exclude cognates from the two most spoken languages that share our alphabet: Spanish and... Portuguese? Really? Learn something new every day.\n",
    "\n",
    "Then, I'll look at tweets filtered in the opposite way: just those that include Spanish/Portuguese stopwords outside of the stopwords shared with English."
   ]
  },
  {
   "cell_type": "code",
   "execution_count": 25,
   "metadata": {
    "ExecuteTime": {
     "end_time": "2024-02-19T06:11:11.627349Z",
     "start_time": "2024-02-19T06:11:11.623367Z"
    }
   },
   "outputs": [],
   "source": [
    "english_stop = stopwords.words(\"english\")\n",
    "spanish_stop = stopwords.words(\"spanish\")\n",
    "port_stop = stopwords.words(\"portuguese\")"
   ]
  },
  {
   "cell_type": "code",
   "execution_count": 29,
   "metadata": {
    "ExecuteTime": {
     "end_time": "2024-02-19T06:11:41.907950Z",
     "start_time": "2024-02-19T06:11:41.897965Z"
    }
   },
   "outputs": [
    {
     "data": {
      "text/plain": [
       "['me', 'he', 'has', 'a', 'no', 'o', 'y']"
      ]
     },
     "execution_count": 29,
     "metadata": {},
     "output_type": "execute_result"
    }
   ],
   "source": [
    "s_bilinguals = [word for word in english_stop if word in spanish_stop]\n",
    "s_bilinguals"
   ]
  },
  {
   "cell_type": "code",
   "execution_count": 30,
   "metadata": {
    "ExecuteTime": {
     "end_time": "2024-02-19T06:11:46.829671Z",
     "start_time": "2024-02-19T06:11:46.820166Z"
    }
   },
   "outputs": [
    {
     "data": {
      "text/plain": [
       "['me', 'do', 'a', 'as', 'for', 'no', 'o']"
      ]
     },
     "execution_count": 30,
     "metadata": {},
     "output_type": "execute_result"
    }
   ],
   "source": [
    "p_bilinguals = [word for word in english_stop if word in port_stop]\n",
    "p_bilinguals"
   ]
  },
  {
   "cell_type": "code",
   "execution_count": 31,
   "metadata": {
    "ExecuteTime": {
     "end_time": "2024-02-19T06:11:48.631947Z",
     "start_time": "2024-02-19T06:11:48.629928Z"
    }
   },
   "outputs": [],
   "source": [
    "shared_words = list(set(p_bilinguals+s_bilinguals))\n",
    "english_filter = [word for word in english_stop if word not in shared_words]"
   ]
  },
  {
   "cell_type": "code",
   "execution_count": 32,
   "metadata": {
    "ExecuteTime": {
     "end_time": "2024-02-19T06:11:50.504753Z",
     "start_time": "2024-02-19T06:11:50.395488Z"
    }
   },
   "outputs": [
    {
     "name": "stdout",
     "output_type": "stream",
     "text": [
      "wooooo ûï mention apple store downtown austin open til midnight sxsw\n",
      "48\n",
      "attending mention ipad design headaches sxsw link\n",
      "66\n",
      "worship mention link sxsw\n",
      "76\n",
      "stay tune mention showcase h4ckers link sxsw\n",
      "84\n",
      "unboxing apple sxsw mention apple store sxsw link\n",
      "110\n",
      "samsung sony follow apple hp lead mention link austin atx sxsw\n",
      "130\n",
      "samsung sony follow apple hp lead mention link austin atx sxsw via mention rg\n",
      "131\n",
      "beautiful sxsw mention apple store sxsw pic link\n",
      "133\n",
      "essential sxsw tools link\n",
      "159\n",
      "arduino android flaming skulls link refrigerator speaks salon 30pm mention mention sxsw smartthings\n",
      "248\n",
      "breaking apple announces partnership porn industry for new ipad2 video chat app called quot facetime quot sxsw\n",
      "263\n",
      "temporary apple store opens mention 6th amp congress tomorrow ipad2 sxsw\n",
      "295\n",
      "base camp apple sxsw link\n",
      "299\n",
      "hootsuite blog ûò social media dashboard åè hootsuite mobile for sxsw updates for iphone blackberry amp android link\n",
      "370\n",
      "hootsuite blog ûò social media dashboard åè hootsuite mobile for sxsw updates for iphone blackberry amp android link\n",
      "371\n",
      "hoot new blog post hootsuite mobile for sxsw updates for iphone blackberry amp android link\n",
      "372\n",
      "tools for collaboration across boundaries google webex dropbox whiteboarding basecamp join me ipad sxsw evolvingworkplace\n",
      "396\n",
      "best ipad design big chunky elements generous space clarity trumps density tap quality trumps tap quantity tapworthy sxsw\n",
      "422\n",
      "gear list for sxsw music iphone vzw blackberry sprint ipad jambox hp elitebook lacking good portable headphones suggestions\n",
      "501\n",
      "good news for austin bound apple fanboys link sxsw ipad2\n",
      "503\n",
      "attending google keynote seeing google maps for mobile features sxsw\n",
      "555\n",
      "technews ipad gets temporary apple store for sxsw link tech_news apple apple_store ipad_2 sxsw tech\n",
      "672\n",
      "awesome ipad jailbreak link grateful dead fab5 sxsw\n",
      "673\n",
      "designing ipad interfaces new navigation schemas sxsw uxdes\n",
      "683\n",
      "disliking iphone twitter auto shortening links for me sxsw\n",
      "697\n",
      "mention iphone clearly positively happily sxsw\n",
      "698\n",
      "rt hiring marketers designers creatives social media pros come see aquent booth 1415 sxsw trade show might win ipad\n",
      "855\n",
      "n2 first meetings link codes valid 12 00 59 59p 03 11 11 infektd sxsw necro\n",
      "864\n",
      "great for meetings haha hollergram link sxsw\n",
      "865\n",
      "hootsuite mobile for sxsw updates for iphone blackberry amp android link\n",
      "874\n",
      "hootsuite mobile for sxsw updates for iphone blackberry amp android link via mention\n",
      "875\n",
      "hootsuite mobile for sxsw updates for iphone blackberry amp android link android blackberry keitai\n",
      "876\n",
      "hootsuite mobile for sxsw updates for iphone blackberry amp android link hootsuite\n",
      "877\n",
      "hootsuite mobile for sxsw updates for iphone blackberry amp android link via mention\n",
      "878\n",
      "hootsuite news hootsuite mobile for sxsw updates for iphone blackberry amp android link\n",
      "907\n",
      "ûï mention official sxsw app sxsw go ûª link android iphone ipad lt thanks installed\n",
      "943\n",
      "technews omg jk kiss for ipad slap for xoom link tech_news ipad_2 jk omg sxsw tech\n",
      "945\n",
      "grown men playing legos google party sxsw mention speakeasy link\n",
      "992\n",
      "technews privacy could headline google circles social link tech_news aclu google_circles social_network sxsw tech\n",
      "1011\n",
      "mention rt mention apple store downtown austin open til midnight sxsw\n",
      "1033\n",
      "c40 nice shot link codes valid 00 11 59 59p 03 14 11 infektd sxsw cvdc\n",
      "1066\n",
      "z8 first zlf assignment link codes valid 00 11 59 59a 03 12 11 infektd sxsw zlf\n",
      "1333\n",
      "lynn teo new nav schemas for ipad link sxsw uxdes\n",
      "1345\n",
      "overcome provide social proof apple white earbuds via mention sxsw\n",
      "1346\n",
      "new kicks clif bars amp 3g ipad sxsw link\n",
      "1368\n",
      "no fear no envy no meanness no lies no hypocrisy û_ link ã_ edchat musedchat sxsw sxswi classical newtwitter\n",
      "1374\n",
      "sxsw gamification ipad design mobile banking amp marketing link artikelen dossiers events mediapers\n",
      "1394\n",
      "anonymity zuckerberg quot wrong quot says 4chan moot sxsw link\n",
      "1415\n",
      "link ã_ edchat musedchat sxsw sxswi classical newtwitter\n",
      "1448\n",
      "link ã_ edchat musedchat sxsw sxswi classical newtwitter rt mention\n",
      "1449\n",
      "craziness ipad2 sxsw mention apple store sxsw link\n",
      "1463\n",
      "new www divasanddorks com apple ipad invades sxsw link\n",
      "1470\n",
      "google 80 party sxsw mention maggie mae 64 others link\n",
      "1494\n",
      "mention mention mention thanks for making great products great for making sxsw party podcasts link\n",
      "1531\n",
      "mention mention tweethouse ipad sxsw dotco\n",
      "1538\n",
      "google mention envisions location based future link sxsw location\n",
      "1559\n",
      "google mention envisions location based future link sxsw location link\n",
      "1560\n",
      "woot rt mention first android mention disc link market version coming soon sxsw\n",
      "1563\n",
      "hoot rt mention new blog post hootsuite mobile for sxsw updates for iphone\n",
      "1591\n",
      "monster ipad jobsearch app video for sxsw video wall link\n",
      "1659\n",
      "mention sxsw apple ipad2 link\n",
      "1674\n",
      "official sxsw app sxsw go ûª link android iphone ipad\n",
      "1682\n",
      "mention sxsw ipad rocks\n",
      "1691\n",
      "sxswnui sxsw laptop denotes work ipad denotes fun\n",
      "1694\n",
      "free for sxsw fluffertrax radio iphone app link\n",
      "1713\n",
      "great idea behind circles rt mention amp mention google launching secret new social network called circles link sxsw\n",
      "1784\n",
      "fucking mac users link sxsw cwebb ipad grant hill\n",
      "1837\n",
      "sxsw ûò rackspace startup program cloud ipad app launched link via mention\n",
      "1843\n",
      "gettin ready for sxsw mention apple store link\n",
      "1874\n",
      "essential business collaboration apps for ipad link bpm sxsw sxswi\n",
      "1899\n",
      "new socialnetwork for google facebook twitter sxsw link via mention\n",
      "1918\n",
      "google analytics rocks view512 sxsw\n",
      "1929\n",
      "mention android dev sxsw mention link\n",
      "1964\n",
      "mention announces windowsphone app today sxsw link wp7\n",
      "1984\n",
      "mention another google social failure sxsw\n",
      "1985\n",
      "hello gigantic line outside google bing seo session sxsw sxswi\n",
      "1992\n",
      "android app review sxsw go link pls ª¼\n",
      "2003\n",
      "mention apple store nyc one day sxsw\n",
      "2022\n",
      "iphone sharing sxsw shareable\n",
      "2059\n",
      "android party sxsw mention lustre pearl bar 63 others link\n",
      "2069\n",
      "android party sxsw mention lustre pearl bar 19 others link\n",
      "2070\n",
      "android party sxsw mention lustre pearl bar 36 others link\n",
      "2071\n",
      "chimpit party plutopia google maybe movie sxsw starts today for me\n",
      "2073\n",
      "google heat map for global searches sxsw hotpot link\n",
      "2107\n",
      "5th ave austin sxsw ipad2 lines link\n",
      "2142\n",
      "google web fonts pretty sxsw tradeshow link\n",
      "2208\n",
      "aol mobile launch play android app link via mention sxsw\n",
      "2231\n",
      "google labs fusion tables made election day foursquare visualization possible sxsw pr\n",
      "2258\n",
      "optimistic ohio sxsw google pay per click management link\n",
      "2269\n",
      "liquidspace launches iphone app mobile marketplace for workspace sxsw mention link\n",
      "2291\n",
      "google circles sxsw shice via mention link\n",
      "2330\n",
      "pretty excited for mention ipad session uxdes sxsw\n",
      "2335\n",
      "fedex truck unloading outside apple popup store sxsw ipad2\n",
      "2340\n",
      "sxsw rackspace startup program cloud ipad app launched link seo sem cloudcomputing topnews\n",
      "2343\n",
      "sxsw ûò rackspace startup program cloud ipad app launched link rackspace sxsw top_news\n",
      "2344\n",
      "sosososo cuteeeeee link thingsthatdontgotogether jalen rose sxsw ipad\n",
      "2385\n",
      "unimitated fingerprint security scan link itunes ipad2 1990style sxsw\n",
      "2387\n",
      "tech ipad gets temporary apple_store for sxsw link\n",
      "2392\n",
      "mobile updates rt mention hoot new blog post hootsuite mobile for sxsw updates for iphone blackberry amp android link\n",
      "2458\n",
      "dumb blonde link evelyn sxsw juwan howard ipad\n",
      "2465\n",
      "bands needed for sx podcast link sxsw\n",
      "2471\n",
      "mention discussing salsa ingredients mention mention industry party sxsw welivehere gsdm\n",
      "2497\n",
      "mention discussing salsa ingredients mention mention industry party sxsw welivehere gsdm link\n",
      "2498\n",
      "sxsw hardware ipad rickshaw bag lunatik incase iphone4 battery pak flip nike bose buds sprint mifi û_ link\n",
      "2534\n",
      "google body beta uber sxsw health2dev cool\n",
      "2536\n",
      "sxsw 500 cesar chavez st austin texas link sxsw\n",
      "2592\n",
      "new update hootsuite mobile for sxsw updates for iphone blackberry amp android link\n",
      "2616\n",
      "cover time sxsw mention apple store sxsw others link\n",
      "2717\n",
      "foursquare ûªs extra special revamped fully automated merchant platform link denniscrowley iphone sxsw\n",
      "2725\n",
      "getting ready for quot ipad design headaches quot sxsw\n",
      "2730\n",
      "getting ready for designing ipad interfaces sxsw mention acc ballroom 39 others pic link\n",
      "2733\n",
      "sxsw panel delayed as speakers wait for next apple product release notatsxsw\n",
      "2821\n",
      "wish mention amp mention would make whispergram hollergram for iphone size screen sxsw\n",
      "2884\n",
      "sxsw mention designing ipad interfaces new navigation schemas link\n",
      "2892\n",
      "cool ûï mention hoot hootsuite mobile for sxsw updates for iphone blackberry android link\n",
      "2899\n",
      "scoping venue mention cloudcamp austin valhalla lounge great whiskey amp beer plus demolition man pinball link sxsw\n",
      "2927\n",
      "google deep eddy sweet tea vodka gsdm cool factor sxsw mention gsd amp 120 others link\n",
      "2932\n",
      "gary vaynerchuck lì_gger ner winelibrary tv och slì_pper stì_llet iphone appen daily grape thankyoueconomy sxsw swesxsw\n",
      "2952\n",
      "apple offers original ipad donation program link entry friends house sxsw\n",
      "2966\n",
      "free itunes sxsw quot featured artists quot sampler link free music sxsw\n",
      "2989\n",
      "google presenting hotpot sxsw sxswi mention austin convention center mention link\n",
      "2999\n",
      "awesome restaurant week app for iphone link austinites sxsw\n",
      "3016\n",
      "amazing new app for mobil workers link mention iphone app telework sxsw\n",
      "3052\n",
      "mention explaining using chartbeat _and_ google analytics sxsw mitharvard\n",
      "3064\n",
      "session next designing ipad interfaces new navigation schemas sxsw uxdes\n",
      "3067\n",
      "google offering rewards for sxsw check ins link\n",
      "3091\n",
      "z20 verification link codes valid 00 11 59 59a 03 13 11 infektd sxsw zlf\n",
      "3103\n",
      "crossing fingers today seems hopeful sxsw mention apple store sxsw 23 others link\n",
      "3107\n",
      "mention gets tattoo for free ipad link heard for mini cooper he would let go kidney sxsw\n",
      "3196\n",
      "quit fighting sxsw ipad2 mention apple store sxsw 59 others link\n",
      "3209\n",
      "quot google circles quot social network idea sound like plan link sxsw\n",
      "3224\n",
      "keynote google sxsw mention austin convention center 812 others pic link\n",
      "3264\n",
      "mention hmmmm link sxsw apple\n",
      "3430\n",
      "hipstamatic free sxsw pack march 11 20 sxsw austin iphone photo link\n",
      "3524\n",
      "free music compilation sxsw featured artists link itunes amplifiedlife sxsw\n",
      "3526\n",
      "lady alice apple siggi skyr epic sxsw snack\n",
      "3527\n",
      "sxsw find love mention sxswi link itunes\n",
      "3620\n",
      "block lineup for ipad sxsw\n",
      "3630\n",
      "added linkedin hootsuite mobile for sxsw updates for iphone blackberry amp android link\n",
      "3676\n",
      "presentation touchingstories zinio online link sxsw\n",
      "3694\n",
      "hey mention cool iphone cases zazzlesxsw sxsw sxswi fastcompanygrill link\n",
      "3699\n",
      "rt ûï mention hoot new blog post hootsuite mobile for sxsw updates for iphone blackberry amp android link\n",
      "3709\n",
      "last session today left brain search google right brain search sxsw bettersearch\n",
      "3725\n",
      "heart ipad link sxsw\n",
      "3750\n",
      "feel like badass mention gave me free drink sxsw\n",
      "3923\n",
      "awaiting keynote speaker chris poole sxsw iphone twitpict link\n",
      "3941\n",
      "mint goal for iphone app top finance app sxsw\n",
      "3961\n",
      "sxsw panel google envisions search without searches link sxsw sxswi\n",
      "3978\n",
      "iphone blackberry amp android hootsuite app updated for sxsw link via hootsuite\n",
      "3983\n",
      "lovin apple amp ipad2 apple austin sxsw\n",
      "4003\n",
      "google soll noch heute social network google circles starten link sxsw via mention mention\n",
      "4113\n",
      "google marissa mayer rechristening augmented reality as quot contextual discovery quot definitely less phillip dickish sxsw mention\n",
      "4199\n",
      "yay rt mention hoot new blog post hootsuite mobile for sxsw updates for iphone blackberry amp android link\n",
      "4238\n",
      "nope seems no google circles launch today link sxsw\n",
      "4295\n",
      "innovation amp creativity keeps mention moving 90 jobs available via sxsw hiring hub link sxswmonster\n",
      "4323\n",
      "mike tyson launched iphone game mention sxsw link tech news link\n",
      "4357\n",
      "mention party has good college party feel sxsw\n",
      "4364\n",
      "go beyond borders link ã_ edchat musedchat sxsw sxswi classical newtwitter\n",
      "4411\n",
      "hey vufinders awesome new update for mention iphone app link 3x speedup for object tagging outside sxsw conf hours\n",
      "4427\n",
      "linkedin nelson medina hootsuite news hootsuite mobile for sxsw updates for iphone blackberry amp android link\n",
      "4483\n"
     ]
    },
    {
     "name": "stdout",
     "output_type": "stream",
     "text": [
      "covet new ipad link sxsw\n",
      "4497\n",
      "downloading sxsw featured artists link itunes\n",
      "4516\n",
      "z16 saving grace link codes valid 00 59 59p 03 12 11 infektd sxsw zlf\n",
      "4524\n",
      "child using ipad for first time link uxdes sxsw\n",
      "4527\n",
      "interesting rt mention google launching secret new social network called quot circles quot link sxsw\n",
      "4553\n",
      "sxsw keynote marissa mayers 12 billion miles driven google maps navigation yr route around traffic saving users yrs total wow\n",
      "4623\n",
      "google announces check ins sxsw location based geo fencing applications link ireport wssxsw sxsw scrm sm marketing\n",
      "4628\n",
      "sxsw mint talks mobile app development challenges teases new ipad app link\n",
      "4658\n",
      "quot mention hoot new blog post hootsuite mobile for sxsw updates for iphone bberry android link mention\n",
      "4691\n",
      "sxsw mention talk demo ing google places hotpot integrated rating recommendation system for android iphone cool stuff\n",
      "4713\n",
      "team android choice awards finalists announced link sxsw\n",
      "4890\n",
      "two year old shows us howmto use ipad usdes sxsw\n",
      "4910\n",
      "google competition for task management solutions paper mention sxsw sxswdad\n",
      "4933\n",
      "rt mention\n",
      "4934\n",
      "rt mention free music compilation sxsw featured artists link itunes amplifiedlife sxsw\n",
      "4987\n",
      "rt mention mention announces windowsphone app today sxsw link wp7\n",
      "5022\n",
      "rt mention android app review sxsw go link pls ª¼\n",
      "5111\n",
      "rt mention samsung sony follow apple hp lead mention link austin atx sxsw\n",
      "5156\n",
      "rt mention sxsw mention talk demo ing google places hotpot integrated rating recommendation system for android iphone cool stuff\n",
      "5170\n",
      "rt mention sxsw lbseverywhere finkelstein quot 206k location aware apps ios amp android quot\n",
      "5181\n",
      "rt mention sxsw crowd swarms for ipad2 launch link via mention sxsw2011 apple\n",
      "5193\n",
      "rt mention sxsw crowd swarms for ipad launch link via mention\n",
      "5194\n",
      "rt mention sxsw party podcasts link mention mention mention designerdrugs iampaintedface h0u5t0n\n",
      "5216\n",
      "rt mention link ã_ edchat musedchat sxsw sxswi classical newtwitter\n",
      "5237\n",
      "rt mention link ã_ edchat musedchat sxsw sxswi classical newtwitter rt mention\n",
      "5238\n",
      "rt mention as right as rain link ã_ edchat musedchat sxsw sxswi classical newtwitter\n",
      "5240\n",
      "rt mention go beyond borders link ã_ edchat musedchat sxsw sxswi classical newtwitter\n",
      "5241\n",
      "rt mention go beyond borders link edchat musedchat sxsw sxswi classical newtwitter\n",
      "5242\n",
      "rt mention go beyond borders link ã_ edchat musedchat sxsw sxswi classical newtwitter\n",
      "5243\n",
      "rt mention no fear no envy no meanness no lies no hypocrisy û_ link ã_ edchat musedchat sxsw sxswi classical newtwitter\n",
      "5247\n",
      "rt mention apple store downtown austin open til midnight sxsw\n",
      "5374\n",
      "rt mention arduino android flaming skulls link refrigerator speaks salon 30pm mention mention sxsw smartthings\n",
      "5388\n",
      "rt mention best ipad design big chunky elements generous space clarity trumps density tap quality trumps tap quantity tapworthy sxsw\n",
      "5457\n",
      "rt mention fantasy bracket challenge amp ipad giveaway link via constantcontact sxsw marchmadness selectionsunday\n",
      "5611\n",
      "rt mention full sxsw touchingstories presentation link\n",
      "5653\n",
      "rt mention full sxsw touchingstories presentation link\n",
      "5654\n",
      "rt mention good news for austin bound apple fanboys link sxsw ipad2\n",
      "5691\n",
      "rt mention google 80 party sxsw mention maggie mae 64 others link\n",
      "5700\n",
      "rt mention google announces check ins coupons deals mention link sxsw\n",
      "5703\n",
      "rt mention google announces check ins sxsw location based geo fencing applications link ireport wssxsw sxsw scrm sm marketing\n",
      "5704\n",
      "rt mention google could search engines google instead useful information savebrands sxsw\n",
      "5712\n",
      "rt mention google launching secret new social network called quot circles quot link sxsw\n",
      "5738\n",
      "rt mention google launching secret new social network called quot circles quot link sxsw\n",
      "5739\n",
      "rt mention google launching secret new social network called quot circles quot sxsw\n",
      "5740\n",
      "rt mention google maps for mobile looks awesome sxsw\n",
      "5742\n",
      "rt mention great for meetings haha hollergram link sxsw\n",
      "5843\n",
      "rt mention hey vufinders awesome new update for mention iphone app link 3x speedup for object tagging outside sxsw conf hours\n",
      "5900\n",
      "rt mention hoot new blog post hootsuite mobile for sxsw updates for iphone blackberry android link\n",
      "5924\n",
      "rt mention hoot new blog post hootsuite mobile for sxsw updates for iphone blackberry amp android link\n",
      "5925\n",
      "rt mention hootsuite mobile for sxsw updates for iphone blackberry amp android link via mention\n",
      "5926\n",
      "rt mention added linkedin hootsuite mobile for sxsw updates for iphone blackberry amp android link\n",
      "5939\n",
      "rt mention wish mention amp mention would make whispergram hollergram for iphone size screen sxsw\n",
      "5961\n",
      "rt mention ipad for sale cc sxsw sxswi theinternet link\n",
      "6037\n",
      "rt mention ipad gets temporary mention store for sxsw link\n",
      "6038\n",
      "rt mention ipad hipster austincrowd sxsw link\n",
      "6051\n",
      "rt mention official sxsw app sxsw go ûª link android iphone ipad\n",
      "6290\n",
      "rt mention presentation touchingstories zinio online link sxsw\n",
      "6346\n",
      "rt mention rt mention ipad lounge recharge coffee h2o ipad art show free daily for sxsw 106 cont link\n",
      "6384\n",
      "rt mention rt mention go beyond borders link edchat musedchat sxsw sxswi classical newtwitter\n",
      "6391\n",
      "rt mention rt mention google launch major new social network called circles possibly today link sxsw\n",
      "6424\n",
      "rt mention rt mention news google may launch quot social circles quot social network today link soccomp sxsw\n",
      "6484\n",
      "rt mention rt mention rt mention news google may launch quot social circles quot social network today link soccomp sxsw\n",
      "6495\n",
      "rt mention rt mention yes updated iphone app has song info mention 24 stream others also live video streaming for sxsw link\n",
      "6520\n",
      "rt mention scoping venue mention cloudcamp austin valhalla lounge great whiskey amp beer plus demolition man pinball link sxsw\n",
      "6533\n",
      "rt mention yes updated iphone app has song info mention 24 stream others also live video streaming for sxsw link\n",
      "6869\n",
      "rt mention yes updated iphone app has song info mention 24 stream others also live video streaming for sxsw link\n",
      "6870\n",
      "rt mention yes updated iphone app has song info mention 24 stream others also live video streaming for sxsw link\n",
      "6871\n",
      "1st session designing ipad interfaces link sxsw uxdes\n",
      "6881\n",
      "mayer people drive 12bn miles year using google maps navigation whither sat nav sxsw\n",
      "6994\n",
      "apple store atx link sxsw\n",
      "7030\n",
      "privacy could headline google circles social network reveal later today social networks link aclu googlecircles sxsw\n",
      "7090\n",
      "sxsw japan sendai prayforjapan beforetwitter ipad tiesto hotel airplane food\n",
      "7221\n",
      "mention party photobooth sxsw donthate link mention\n",
      "7232\n",
      "link iphone kneejockey ftw sxsw\n",
      "7244\n",
      "sxsw applestore mention apple store sxsw link\n",
      "7299\n",
      "new blog post ipad2 giveaway link actors diet sxsw\n",
      "7309\n",
      "google maps for mobile looks awesome sxsw\n",
      "7355\n",
      "google maps street view car sighting sxsw link\n",
      "7364\n",
      "google maps street view car sighting sxsw link\n",
      "7365\n",
      "ipad for sale cc sxsw sxswi theinternet link\n",
      "7420\n",
      "quot frabjous day callooh callay û_ baaah quot ûólewis carroll crowd swarms for ipad launch link via mention sxsw\n",
      "7426\n",
      "fantasy bracket challenge amp ipad giveaway link via constantcontact sxsw marchmadness selectionsunday\n",
      "7429\n",
      "google circles preview link sxsw\n",
      "7450\n",
      "google circles social network link sxsw\n",
      "7451\n",
      "google circles new social network no sxsw link\n",
      "7457\n",
      "google circles sxsw orly\n",
      "7461\n",
      "popup store de gadgets da apple no sxsw link\n",
      "7486\n",
      "apple store downtown austin open til midnight sxsw\n",
      "7489\n",
      "apple store gets another mention link rt mention sxsw downtown austin apple store congress amp west 6th street\n",
      "7491\n",
      "making sure packed everything need for sxsw iphone ipad chargers business cards pants missing anything\n",
      "7495\n",
      "special promo for sxsw attendees link meetchu quick contact capture lykwxhpyterh tt66h9tjn4ye rt6n79xp37ff typ63mmam7w3\n",
      "7588\n",
      "sxsw personalcloud google create great design principles for great tips\n",
      "7609\n",
      "mention rt mention hoot new blog post hootsuite mobile for sxsw updates for iphone blackberry amp android link\n",
      "7620\n",
      "n22 opportunity knocks link codes valid 12 00 59 59p 03 13 11 infektd sxsw necro\n",
      "7661\n",
      "google party sxsw mention gsd amp 157 others link\n",
      "7666\n",
      "google party photo booth fun sxsw link\n",
      "7667\n",
      "thanks bryan rt mention official sxsw app sxsw go ûª link android iphone ipad\n",
      "7684\n",
      "sxsw lbseverywhere finkelstein quot 206k location aware apps ios amp android quot\n",
      "7869\n",
      "itunes music store has free sxsw music sampler sxsw featured artists link itunes sxsw\n",
      "7879\n",
      "final session today left brain search google right brain search sxsw bettersearch\n",
      "7888\n",
      "as right as rain link ã_ edchat musedchat sxsw sxswi classical newtwitter\n",
      "8076\n",
      "sxsw mint talks mobile app development challenges teases new ipad app link sxsw mobile\n",
      "8141\n",
      "mint com talks mobile app development challenges teases new ipad app link via mention sxsw\n",
      "8207\n",
      "yes updated iphone app has song info mention 24 stream others also live video streaming for sxsw link\n",
      "8235\n",
      "ipad hipster austincrowd sxsw link\n",
      "8247\n",
      "hipstamatic giving away sxsw hipstapaks link channels news apps ios iphone\n",
      "8341\n",
      "music artist duckett song name another girl instrumental source creative commons via ipad sxsw gadgets link\n",
      "8381\n",
      "apple rents retail space downtown austin for sxsw link must avoid block radius tomorrow via mention\n",
      "8454\n",
      "ipad gets temporary apple store for sxsw link apple applestore ipad2 sxsw verizon\n",
      "8455\n",
      "sxsw featured artist playlist available for free link via mention free music\n",
      "8473\n",
      "sxsw party podcasts link mention mention mention mention iampaintedface h0u5t0n\n",
      "8486\n",
      "google could search engines google instead useful information savebrands sxsw\n",
      "8509\n",
      "google launching new social network today sxsw link\n",
      "8518\n",
      "google launching secret new social network called quot circles quot link sxsw\n",
      "8520\n",
      "google launching secret new social network called quot circles quot sxsw\n",
      "8521\n",
      "google launching social network quot google circles quot mention sxsw\n",
      "8522\n",
      "apple popup store sxsw mention apple store sxsw link photo\n",
      "8543\n",
      "c5 precautions link codes valid 00 59 59p 03 11 11 infektd sxsw cvdc\n",
      "8592\n",
      "twitter buzz for apple store link rt mention temporary apple store opens mention 6th amp congress tomorrow ipad2 sxsw\n",
      "8600\n",
      "mention via mention apple store downtown austin open til midnight sxsw\n",
      "8634\n",
      "websites visited 73 google 66 microsoft 50 facebook 48 yahoo 31 wikimedia mention diversity sxsw\n",
      "8647\n",
      "cheese ftw link unlv pearl harbor sxsw ipad\n",
      "8654\n",
      "full sxsw touchingstories presentation link\n",
      "8658\n",
      "free sxsw cd download various artists sxsw featured artists link itunes\n",
      "8664\n",
      "free sxsw playlist enjoy link\n",
      "8681\n",
      "sxsw crowd swarms for ipad2 launch link via mention sxsw2011 apple\n",
      "8714\n",
      "sxsw crowd swarms for ipad launch mention link\n",
      "8715\n",
      "sxsw crowd swarms for ipad launch link via mention\n",
      "8716\n",
      "sxsw crowd swarms for ipad launch link via mention\n",
      "8717\n",
      "sxsw crowds for ipad launch cnn link sxsw\n",
      "8719\n",
      "mention well put totally agree apple sxsw\n",
      "8733\n",
      "ummmm awesome party rt djroe apple store downtown austin open til midnight sxsw\n",
      "8737\n",
      "google arwords arsense anyone arsxsw sxsw darknet\n",
      "8771\n",
      "client news mention releases quot dope melodies amp heavy bass quot amp invades sxsw gt link\n",
      "8784\n",
      "festivalexplorer iphone app finally solves sxsw link music musica musiek musique musik app sxsw ù_¾ ù_¾\n",
      "8793\n",
      "officially ipad ed sxsw mention apple store sxsw 16 others link\n",
      "8843\n",
      "mobile mayhem rt mention hoot new blog post hootsuite mobile for sxsw updates for iphone blackberry amp android link\n",
      "8883\n",
      "ipad everywhere sxsw link\n",
      "8931\n"
     ]
    }
   ],
   "source": [
    "num_filtered = 0\n",
    "for i in range(len(df)):\n",
    "    if not any(x in english_filter for x in df[\"processed_text\"][i].split()):\n",
    "        num_filtered += 1\n",
    "        print(df[\"processed_text\"][i])\n",
    "        print(i) #including the row number so I can perhaps remove them"
   ]
  },
  {
   "cell_type": "code",
   "execution_count": null,
   "metadata": {
    "ExecuteTime": {
     "end_time": "2024-02-19T06:11:12.040777Z",
     "start_time": "2024-02-19T06:11:07.451Z"
    }
   },
   "outputs": [],
   "source": [
    "num_filtered"
   ]
  },
  {
   "cell_type": "markdown",
   "metadata": {},
   "source": [
    "303 tweets to look through is a bit daunting. But scrolling through the first couple dozen, I don't see any yet.\n",
    "\n",
    "Let's try the other filter."
   ]
  },
  {
   "cell_type": "code",
   "execution_count": 33,
   "metadata": {
    "ExecuteTime": {
     "end_time": "2024-02-19T06:11:54.952451Z",
     "start_time": "2024-02-19T06:11:54.945921Z"
    }
   },
   "outputs": [],
   "source": [
    "p_s_stop = list(set(port_stop+spanish_stop))\n",
    "p_s_filter = [palabra for palabra in p_s_stop if palabra not in shared_words]"
   ]
  },
  {
   "cell_type": "code",
   "execution_count": 34,
   "metadata": {
    "ExecuteTime": {
     "end_time": "2024-02-19T06:11:57.632668Z",
     "start_time": "2024-02-19T06:11:56.758580Z"
    }
   },
   "outputs": [
    {
     "name": "stdout",
     "output_type": "stream",
     "text": [
      "great sxsw ipad app from madebymany http tinyurl com 4nqv92l\n",
      "13\n",
      "photo just installed the sxsw iphone app which is really nice http tumblr com x6t1pi6av7\n",
      "22\n",
      "you must have this app for your ipad if you are going to sxsw http itunes apple com us app holler gram id420666439 mt hollergram\n",
      "30\n",
      "the best rt mention ha first in line for ipad2 at sxsw quot pop up quot apple store was an event planner eventprofs pcma engage365\n",
      "35\n",
      "spin play new concept in music discovery for your ipad from mention amp spin com link itunes sxsw mention\n",
      "36\n",
      "ha ha rt mention sxsw news yahoo com is loosing search traffic to new site google com doubt it will last though that weird name\n",
      "73\n",
      "the sxsw app on the iphone is live rsvp for events from your phone amp check out sundayswagger eventbrite com 20 scoremore\n",
      "258\n",
      "special apple store opening at 6th and congress for sxsw amp ipad launch www apple com retail thedomain apple ipad2 sxsw fb\n",
      "289\n",
      "10 austin classics not to be missed at sxsw m4blog com twitter for iphone 12 11 12 40 pm\n",
      "395\n",
      "jeez guys do not know about an apple pop up over gold gym do you realize how un jobs aesthetic that is sxsw apple\n",
      "448\n",
      "badgeless event free drinks ûï mention heading to free google sponsored happy hour for semantic web austin mention fogo de chìáo sxsw\n",
      "474\n",
      "il ceo di flipboard annuncia la versione iphone ûï mention mention next platform for flipboard is the iphone team started working on it sxsw\n",
      "495\n",
      "hey sxsw folks free lunch from la condesa at the pepsi max lot map link\n",
      "498\n",
      "hitlantis for the ipad cool song explorer app hitlantis com sxsw musicviz\n",
      "507\n",
      "quot win free ipad from webdoc com sxsw rt quot\n",
      "514\n",
      "have my golden tickets 4sq party day after the real party redbullbpm with felix da housecat playing on ipad sxsw link\n",
      "546\n",
      "ûï mention google to launch major new social network called circles possibly today link sxsw te dije wey mention\n",
      "572\n",
      "holy cow just got hooked by paolo and alex with backup charger for my iphone facebook com powermat powermatteam sxsw thanks\n",
      "628\n",
      "holy cow just got hooked by paolo and alex with backup charger for my iphone facebook com powermat powermattteam sxsw thanks\n",
      "629\n",
      "check out lightbox com at the team android choice awards finalists announced at sxsw mention and team rock\n",
      "821\n",
      "ha seems like it gt ûï mention the only news at sxswi was apple temporary ipad store sxsw wth\n",
      "824\n",
      "quot all of sxsw is nothing but teeming sea of iphone addicts too busy twittering to ever engage with one anoth û_ cont link\n",
      "925\n",
      "third era of google logos an interactive play space get ready googledoodle sxsw gsdm\n",
      "932\n",
      "love you rt mention en route to austin tx for sxsw accompanied by fedoras instruments weird haircuts apple products\n",
      "1043\n",
      "check out the mention route link rsvp here gt https www facebook com event php eid 141164002609303 sxswi sxsw\n",
      "1117\n",
      "it is like the ipoo app for iphone mention ha rt mention 4chan is the internet bathroom wall sxswmoot sxsw\n",
      "1146\n",
      "of course they are ha rt mention mention apple opening temporary store in austin for sxsw amp ipad launch link\n",
      "1166\n",
      "apple set to open popup shop in austin 6th amp con for sxsw link via mention sxsw sxswprsa prsa\n",
      "1217\n",
      "dense una vuelta por socialfuel sxsw para ver la gran diferencia rt mention quot the revolution will be clumsily translated by google quot\n",
      "1280\n",
      "mint com confines of coding for iphone app luxury did not have to worry about learning different phone versions sxsw gsdm sxswmobileapps\n",
      "1338\n",
      "hey sxsw there is some offers out there for ya link\n",
      "1379\n",
      "get on it join actsofsharing com starting tonight the person with the most friends in their city by end of sxsw wins an ipad local\n",
      "1424\n",
      "ragtube com my way link japan sxsw earthquake redcross chuck greenberg tokyo hurricane katrina crescent city ipad\n",
      "1469\n",
      "new www divasanddorks com apple ipad invades sxsw link\n",
      "1470\n",
      "new www divasanddorks com best of both worlds apple pop up store invades sxsw link sxsw\n",
      "1471\n",
      "estoy en quot designing ipad interfaces new navigation schemas at sxsw quot link sxsw uxdes\n",
      "1639\n",
      "will pay 681 00 for new unopened ipad 16gb with 3g for verizon black visit www zaarly com to claim the cash willpay sxsw\n",
      "1731\n",
      "aos ipad giveaway is picking up steam sxswi sxsw mention mashable mashbash sxswi link photo\n",
      "1749\n",
      "essential apps for sxsw and beyond underwire wired com link socialmedia iphone android\n",
      "1898\n",
      "style amp mention brethren sxsw pop ups theatlantic com technology archive 2011 03 apple sets up temporary megastore at sxsw 72296\n",
      "1935\n",
      "google saving drivers time and fuel link seo sem googlemaps mobile topnews sxsw\n",
      "2150\n",
      "giving away an ipad to sharers who invite the most friends to join aos this sxsw mention the ginger man link\n",
      "2163\n",
      "sxsw rackspace startup program cloud ipad app launched link seo sem cloudcomputing topnews\n",
      "2343\n",
      "google and bing page rank panel is ridiculously crowded is al franken or justin timberlake here sxsw link\n",
      "2402\n",
      "all packed few too many apple devices alarm set for 15am see ya ll at sxsw psyched to meet finally many of you guys\n",
      "2449\n",
      "was intending to bring my trusty backpack for this upcoming trip to sxsw with the number of ipad 2s am helping buy back no es posible\n",
      "2493\n",
      "mention download the mention for iphone to reserve your space to meet mingle or escape during sxsw go to sxsw myturnstone com\n",
      "2517\n",
      "for anyone going to sxsw for the first time free lonely planet austin guide for iphone tinyurl com 6gjmypj\n",
      "2604\n",
      "and for de ipad rt mention new ubersocial for iphone now in the app store includes uberguide to sxsw link\n",
      "2624\n",
      "win free ipad from webdoc com sxsw rt\n",
      "2625\n",
      "win free ipad from webdoc com sxsw rt awesome tech right here\n",
      "2626\n",
      "the google party line starts behind me ha the germ has put her towel down early sxsw\n",
      "2654\n",
      "temp apple store set up in downtown austin via ûï mention before it even begins apple wins sxsw link dtph com\n",
      "2677\n",
      "hmm the sxsw com interactive live stream is not ipad mobile compatible maybe next year sxsw\n",
      "2680\n",
      "front gate tickets present the morning after party 18 https sites google com site frontgatesxsw11 sxsw music\n",
      "2688\n",
      "all iphone users kill yo self if you hated on ubertwitter new ubersocial for iphone now in the app store includes uberguide to sxsw\n",
      "2698\n",
      "are iphone users really this clueless about the android os ui or does this presentation seem basic for everyone else too sxsw\n",
      "2699\n",
      "nice to hear that mint com is working on an ipad app ftw sxswi sxsw\n",
      "2746\n",
      "ha rt mention ûï mention at sxsw quot apple comes up with cool technology no one ever heard of because they do not go to conferences quot\n",
      "2881\n",
      "ha rt mention google guy at sxsw talk is explaining how he made realistic twitter bots as an experiment gee thanks for doing that\n",
      "2895\n",
      "ha rt mention it is not rumor apple is opening up temporary store in downtown austin for sxsw amp the ipad launch link\n",
      "2903\n",
      "lol rt mention the google party line starts behind me ha the germ has put her towel down early sxsw\n",
      "2919\n",
      "ha another mention for apple store link rt mention temporary apple store on 6th and congress for sxsw along\n",
      "2943\n",
      "quoi de neuf sur blogger what ûªs new with blogger official google blog link sxsw\n",
      "3040\n",
      "showing off an ipad at sxsw is pretty much like showing off puppy anywhere else gets the same fawning attention and no do not ha\n",
      "3095\n",
      "could be fun to provide some sxsw mis direction fictitious parties amp giveaways wtf apple is giving away ipad2 at ihop\n",
      "3150\n",
      "food4thought juxtaposed on my ipad sxsw is rocking lybian rebels are thwarted it is gorgeous day in la amp japan is reeling\n",
      "3206\n",
      "quot google to launch major new social network called circles possibly today link sxsw mention creo que serìás el primero\n",
      "3241\n",
      "so who is going to be getting an ipad2 from the apple store today bet the que is getting bigger sxsw ipad2 bet mention will\n",
      "3260\n",
      "mention ha feel like the only person at sxsw with non mac ipad\n",
      "3338\n",
      "mention hey mark no sleep for you at sxsw bring me home shiny new ipad would ya mention\n",
      "3408\n",
      "mention hi josh do yo have an iphone do you have beluga do you get text for dms sxsw sxswi contact plans\n",
      "3414\n",
      "win free ipad from webdoc com sxsw rt\n",
      "3741\n",
      "win free ipad from webdoc com sxsw rt\n",
      "3742\n",
      "win free ipad from webdoc com sxsw rt\n",
      "3743\n",
      "win free ipad from webdoc com sxsw rt\n",
      "3744\n",
      "win free ipad from webdoc com sxsw rt\n",
      "3745\n",
      "win free ipad from webdoc com sxsw rt\n",
      "3746\n",
      "ha the first guy in line for ipad2 at sxsw quot pop up quot apple store was an event planner eventprofs\n",
      "3779\n",
      "you know it is bad with you have to un rsvp just to see use your calendar iphone sxsw fml\n",
      "3842\n",
      "hollrback is being released at sxsw iphone users can grab the app at hollrback com mention\n",
      "3905\n",
      "google takes the mantra of do not be evil to heart yet their pride in their products make them guilty of the 7th deadly sin superbia sxsw\n",
      "3937\n",
      "apple will open popup store friday at 6th and congress sxsw via satesman com\n",
      "3970\n",
      "barry diller talks daily beast newsweek the daily and the ipad at sxsw link seo sem thedaily barrydiller topnews\n",
      "4064\n"
     ]
    },
    {
     "name": "stdout",
     "output_type": "stream",
     "text": [
      "most valuable apple ipad apps top critical tasks managed uber la lt all ipad all day sxsw link\n",
      "4159\n",
      "mr heavenly aka the band michael cera ready to rock the bat bar at sxsw iphone cameras de rigeur\n",
      "4164\n",
      "hey pick me up one too will ya rt mention omg still in line for the new ipad dieing of hunger sxsw who else is in line\n",
      "4215\n",
      "zomg rt mention special apple store at sxsw just for ipad line is block long plixi com 83323324 plixi com 83323414\n",
      "4256\n",
      "doodle competition invite kids to create own doodles winners are put on google com to celebrate their awesomeness googledoodle sxsw\n",
      "4289\n",
      "mike tyson appears at sxsw to promote iphone ipad game link seo sem games miketyson topnews\n",
      "4329\n",
      "thewildernessdowntown com best of show at sxsw google thomas gayno quot it is like choreography of browser windows quot sxsw\n",
      "4487\n",
      "interesting post re seo rt mention how to improve website rankings advice from google amp bing at sxsw link se\n",
      "4530\n",
      "fascinating talk on health data from gov to private on the verge of something good see patientslikeme com amp google body sxsw fb\n",
      "4534\n",
      "apple opening pop up store in austin for sxsw link lt ya got to hand it to apple always innovating apple sxsw\n",
      "4581\n",
      "am listening to congo by os ipanemas via the discovr app on my iphone link live from sxsw\n",
      "4586\n",
      "mention no worries man just glad got to run into ya in the ipad line sxsw\n",
      "4608\n",
      "ipad contest in full swing great seeing so many of you on actsofsharing com still plenty of time to join the fun sxsw\n",
      "4661\n",
      "ipad contest join actsofsharing com and start getting your friends connected user with most friends in their city by end of sxsw wins\n",
      "4662\n",
      "sxsw mention das verpixelungsrecht ûóthe right for your house to be pixelated in google street view ûó is theft from the public\n",
      "4683\n",
      "todo mention amp with google mention amp bing mention on ranking sxsw mon 12 30pm link\n",
      "4709\n",
      "google to announce google circles social network at sxsw link seo sem googlecircles topnews\n",
      "4744\n",
      "heading to free google sponsored happy hour for semantic web austin mention fogo de chìáo sxsw\n",
      "4758\n",
      "decided to go to la instead of sxsw because my at amp iphone would be about as useful as brick in austin\n",
      "4762\n",
      "this app of themostist com is made for mobile ios android it will also work in safari or google chrome sxsw\n",
      "4834\n",
      "for many of you that asked last night about the free android phone sign up for urthots com then visit urthots com promo sxswi sxsw\n",
      "4838\n",
      "join actsofsharing com tonight the person with the most friends in their city by end of sxsw wins an ipad\n",
      "4841\n",
      "all in google era mention google looks to the future with mobile location based devices link sxsw\n",
      "4850\n",
      "off to google party with mention then mention mention mention at www getdown com msusxsw sxsw tweet me if you are there jeremie\n",
      "4871\n",
      "sxsw google saving drivers time and fuel link seo sem googlemaps mobile topnews\n",
      "4873\n",
      "mass google zation ranking indexing of educational assets vs the lost sea of uncatalogued materials at present futureofed gsdm sxsw\n",
      "4878\n",
      "will be going to the wordpress sxsw bbq instead of standing in line for an ipad wondering if apple com will deliver to non billing addr\n",
      "4898\n",
      "urthots com announces android promotion available to first 25 000 new users link sxsw sxswi\n",
      "4918\n",
      "rt mention sxsw mention das verpixelungsrecht ûóthe right for your house to be pixelated in google street view ûó is theft from the public\n",
      "5165\n",
      "rt mention special apple store opening at 6th and congress for sxsw amp ipad launch www apple com retail thedomain apple ipad2 sxsw fb\n",
      "5274\n",
      "rt mention apple set to open popup shop in austin 6th amp con for sxsw link via mention sxsw sxswprsa prsa\n",
      "5364\n",
      "rt mention are you at sxsw check out tokii in the the maple leaf digital lounge link www tokii com\n",
      "5390\n",
      "rt mention badgeless event free drinks ûï mention heading to free google sponsored happy hour for semantic web austin mention fogo de chìáo sxsw\n",
      "5444\n",
      "rt mention check out lightbox com at the team android choice awards finalists announced at sxsw mention and team rock\n",
      "5506\n",
      "rt mention check out the mention route link rsvp here gt https www facebook com event php eid 141164002609303 sxswi sxsw\n",
      "5509\n",
      "rt mention come by aquent booth 1413 at sxsw to learn about internetonlinewebsite com meet us amp enter to win an ipad\n",
      "5527\n",
      "rt mention decided to go to la instead of sxsw because my at amp iphone would be about as useful as brick in austin\n",
      "5560\n",
      "rt mention for many of you that asked last night about the free android phone sign up for urthots com then visit urthots com promo sxswi sxsw\n",
      "5633\n",
      "rt mention front gate tickets present the morning after party 18 https sites google com site frontgatesxsw11 sxsw music\n",
      "5652\n",
      "rt mention google desmiente el lanzamiento hoy de circles rt mention we are not launching any products at sxsw but we are doing plenty else\n",
      "5715\n",
      "rt mention google developer hackathon at mention discussion web fonts google gets 32000 font request day sxsw gsdm google com webfonts\n",
      "5716\n",
      "rt mention google hotpot rate restaurants and get personalized recos on where to eat um think foursquare yelp etc have this covered already sxsw\n",
      "5723\n",
      "rt mention heading to free google sponsored happy hour for semantic web austin mention fogo de chìáo sxsw\n",
      "5871\n",
      "rt mention here it is join actsofsharing com and starting tonight the person with the most friends in their city by end of sxsw wins an ipad\n",
      "5884\n",
      "rt mention hey sxsw folks free lunch from la condesa at the pepsi max lot map link\n",
      "5894\n",
      "rt mention hey sxsw there is some offers out there for ya link\n",
      "5899\n",
      "rt mention hitlantis for the ipad cool song explorer app hitlantis com sxsw musicviz\n",
      "5916\n",
      "rt mention hmm the sxsw com interactive live stream is not ipad mobile compatible maybe next year sxsw\n",
      "5918\n",
      "rt mention il ceo di flipboard annuncia la versione iphone ûï mention mention next platform for flipboard is the iphone team started working on it sxsw\n",
      "6011\n",
      "rt mention ipad contest join actsofsharing com and start getting your friends connected user with most friends in their city by end of sxsw wins\n",
      "6036\n",
      "rt mention join actsofsharing com amp starting tonight the person with the most friends in their city by end of sxsw wins an ipad\n",
      "6088\n",
      "rt mention join actsofsharing com tonight the person with the most friends in their city by end of sxsw wins an ipad\n",
      "6089\n",
      "rt mention mr heavenly aka the band michael cera ready to rock the bat bar at sxsw iphone cameras de rigeur\n",
      "6219\n",
      "rt mention one of my fav photos of sxsw so far mention amp mention google sxsw plixi com 83881586\n",
      "6307\n",
      "rt mention retrollect is now also in android market sxsw https market android com details id com borderstylo retrollect\n",
      "6369\n",
      "rt mention rt mention join actsofsharing com amp starting tonight the person with the most friends in their city by end of sxsw wins an ipad\n",
      "6469\n",
      "rt mention spin play new concept in music discovery for your ipad from mention amp spin com link itunes sxsw mention\n",
      "6570\n",
      "rt mention style amp mention brethren sxsw pop ups theatlantic com technology archive 2011 03 apple sets up temporary megastore at sxsw 72296\n",
      "6581\n",
      "rt mention text quot sxsw quot to 24587 for chance to win ipad drawing 17 at friends sxsw must be present to win see ya there link\n",
      "6602\n",
      "rt mention time to wakeuplaughing mention for iphone is on the appstore itun es ifr3dw sxsw\n",
      "6688\n",
      "rt mention we are not launching any products at sxsw but we are doing plenty else pensei que iriam lanì ar google circles\n",
      "6786\n",
      "rt mention win free ipad from webdoc com sxsw rt\n",
      "6835\n",
      "rt mention win free ipad from webdoc com sxsw rt\n",
      "6836\n",
      "fuzzy iphone picture of jake gyllenhaal and duncan jones more pictures soon bigdplace com sxsw link\n",
      "6893\n",
      "6th and congress dude is creatively saving up for an ipad www socialmediabum tumblr com sxsw link\n",
      "6904\n",
      "apple is opening up temporary store in downtown austin for sxsw amp ipad launch link source statesman com\n",
      "6984\n",
      "que porque google to launch major new social network called circles possibly today link sxsw socialmedia\n",
      "7037\n",
      "checking out ipad design headaches schedule sxsw com events event_iap5507 sxsw tapworthy\n",
      "7113\n",
      "setting up for the google gsdm sxsw party it is going to be ma zing check out events at sxsurrogates com and come on out\n",
      "7178\n",
      "saw company today ready to launch sounds lot like google circles but with actual personal privacy www mycube com sxsw\n",
      "7225\n"
     ]
    },
    {
     "name": "stdout",
     "output_type": "stream",
     "text": [
      "think apple us winning sxsw just sea of silver white and glass\n",
      "7329\n",
      "how to improve website rankings google bing advice at sxsw link get com or pk but be content rich deep\n",
      "7345\n",
      "come by aquent booth 1413 at sxsw to learn about internetonlinewebsite com meet us amp enter to win an ipad\n",
      "7379\n",
      "funniest question at google marissa mayer talk at sxsw quot hi marissa um are you guys hiring quot\n",
      "7380\n",
      "popup store de gadgets da apple no sxsw link\n",
      "7486\n",
      "miami horror tacos and bloody marys am there https sites google com site frontgatesxsw11 sxsw\n",
      "7591\n",
      "happily drowning in sea of apple macs and monster energy drink sxsw\n",
      "7601\n",
      "google coming location dominance at sxsw pcmag com link\n",
      "7716\n",
      "ha that is one way to track your contacts rt mention mention and john android sxsw mention link\n",
      "7759\n",
      "sxsw news yahoo com is loosing search traffic to new site google com doubt it will last though that weird name\n",
      "7804\n",
      "here it is join actsofsharing com and starting tonight the person with the most friends in their city by end of sxsw wins an ipad\n",
      "7808\n",
      "google desmiente el lanzamiento hoy de circles rt mention we are not launching any products at sxsw but we are doing plenty else\n",
      "7893\n",
      "adloopz social media advertising done the easy way visit www adloopz com sxsw sxswi ipad\n",
      "7912\n",
      "google social network launch parcelgenie com at sxswi and hears rumours that google google circles will launch today sxsw\n",
      "7913\n",
      "about to start google doodles burning man to pac man and beyond let us ser if get new ideas for sapo sxsw\n",
      "7963\n",
      "yo this sxsw iphone app is illa def go\n",
      "8018\n",
      "ha wow rt mention apple opening temporary ipad store to handle sxsw demand link\n",
      "8035\n",
      "are you at sxsw check out tokii in the the maple leaf digital lounge link www tokii com\n",
      "8064\n",
      "retrollect is now also in android market sxsw https market android com details id com borderstylo retrollect\n",
      "8112\n",
      "text quot sxsw quot to 24587 for chance to win ipad drawing 17 at friends sxsw must be present to win see ya there link\n",
      "8179\n",
      "mint com talks mobile app development challenges teases new ipad app link via mention sxsw\n",
      "8207\n",
      "mention tell mention to give out gummy worms ya know early bird gets the worm or free ipad 2s that will work sxsw\n",
      "8239\n",
      "aaron forth mint com pick platform carefully iphone device adoption direct to consumers sxsw sxswmobileapps mention\n",
      "8255\n",
      "en route to austin for sxsw will bet new iphone that is 90 of the flight\n",
      "8392\n",
      "en route to austin tx for sxsw accompanied by fedoras instruments weird haircuts apple products\n",
      "8393\n",
      "google hotpot rate restaurants and get personalized recos on where to eat um think foursquare yelp etc have this covered already sxsw\n",
      "8442\n",
      "sxsw metricsdrivendesign wrote response exactly in regards to the speakers google reference uidesignguide com search blog response\n",
      "8446\n",
      "google developer hackathon at mention discussion web fonts google gets 32000 font request day sxsw gsdm google com webfonts\n",
      "8617\n",
      "preso express pass per the city dark road to nowhere visto il primo ipad quot in the wild quot ora panel con il cast di source code sxsw\n",
      "8794\n",
      "google says want to give lightning talk to h4ckers audience at sxsw tonight email ben mcgraw mention gmail com for spot on stage\n",
      "8929\n"
     ]
    }
   ],
   "source": [
    "num_filtered = 0\n",
    "for i in range(len(df)):\n",
    "    if any(x in p_s_filter for x in df[\"processed_text\"][i].split()):\n",
    "        num_filtered += 1\n",
    "        print(df[\"processed_text\"][i])\n",
    "        print(i)"
   ]
  },
  {
   "cell_type": "code",
   "execution_count": 35,
   "metadata": {
    "ExecuteTime": {
     "end_time": "2024-02-19T06:11:59.365577Z",
     "start_time": "2024-02-19T06:11:59.363209Z"
    },
    "scrolled": true
   },
   "outputs": [
    {
     "data": {
      "text/plain": [
       "184"
      ]
     },
     "execution_count": 35,
     "metadata": {},
     "output_type": "execute_result"
    }
   ],
   "source": [
    "num_filtered"
   ]
  },
  {
   "cell_type": "markdown",
   "metadata": {},
   "source": [
    "Scrolling through these, I see a couple of non-english tweets, but not much. There may not be even 10 in the nearly 10,000. This might not be as big of a deal as I was worried about.\n",
    "\n",
    "On the other hand, there's a new problem to consider: a LOT of these tweets are near-duplicates of one another. Perhaps this would be more of a familiar phenomenon to someone familiar with Twitter, but that wasn't me. So that's the next thing to fix."
   ]
  },
  {
   "cell_type": "markdown",
   "metadata": {},
   "source": [
    "## Duplicates"
   ]
  },
  {
   "cell_type": "code",
   "execution_count": 36,
   "metadata": {
    "ExecuteTime": {
     "end_time": "2024-02-19T06:12:04.220395Z",
     "start_time": "2024-02-19T06:12:03.087615Z"
    }
   },
   "outputs": [
    {
     "name": "stdout",
     "output_type": "stream",
     "text": [
      "Requirement already satisfied: thefuzz in /Users/ferdi/opt/anaconda3/envs/learn-env/lib/python3.8/site-packages (0.22.1)\r\n",
      "Requirement already satisfied: rapidfuzz<4.0.0,>=3.0.0 in /Users/ferdi/opt/anaconda3/envs/learn-env/lib/python3.8/site-packages (from thefuzz) (3.6.1)\r\n"
     ]
    }
   ],
   "source": [
    "!pip install thefuzz"
   ]
  },
  {
   "cell_type": "code",
   "execution_count": 37,
   "metadata": {
    "ExecuteTime": {
     "end_time": "2024-02-19T06:12:06.822300Z",
     "start_time": "2024-02-19T06:12:05.938826Z"
    }
   },
   "outputs": [
    {
     "name": "stdout",
     "output_type": "stream",
     "text": [
      "Requirement already satisfied: rapidfuzz in /Users/ferdi/opt/anaconda3/envs/learn-env/lib/python3.8/site-packages (3.6.1)\n",
      "Note: you may need to restart the kernel to use updated packages.\n"
     ]
    }
   ],
   "source": [
    "pip install rapidfuzz"
   ]
  },
  {
   "cell_type": "code",
   "execution_count": 39,
   "metadata": {
    "ExecuteTime": {
     "end_time": "2024-02-19T06:15:27.525867Z",
     "start_time": "2024-02-19T06:15:26.952978Z"
    }
   },
   "outputs": [
    {
     "name": "stdout",
     "output_type": "stream",
     "text": [
      "\u001b[31mERROR: Could not open requirements file: [Errno 2] No such file or directory: 'requirements.txt'\u001b[0m\n",
      "Note: you may need to restart the kernel to use updated packages.\n"
     ]
    }
   ],
   "source": [
    "pip install -r requirements.txt"
   ]
  },
  {
   "cell_type": "code",
   "execution_count": null,
   "metadata": {
    "ExecuteTime": {
     "end_time": "2024-02-17T23:56:12.416246Z",
     "start_time": "2024-02-17T23:56:12.376546Z"
    }
   },
   "outputs": [],
   "source": [
    "def is_retweet(cell_1, cell_2):\n",
    "    return thefuzz.partial_ratio(cell_1, cell_2) >= 60"
   ]
  },
  {
   "cell_type": "markdown",
   "metadata": {},
   "source": [
    "# "
   ]
  },
  {
   "cell_type": "code",
   "execution_count": null,
   "metadata": {
    "ExecuteTime": {
     "end_time": "2024-02-13T19:51:01.125987Z",
     "start_time": "2024-02-13T19:51:01.121730Z"
    }
   },
   "outputs": [],
   "source": [
    "# Features to build the model\n",
    "features = ['product', \"company\", 'processed_text']\n",
    "\n",
    "X = df[features]\n",
    "y = df[['emotion']]\n",
    "\n",
    "# Split the data into training and test sets\n",
    "X_train, X_test, y_train, y_test = train_test_split(X, y, random_state=42)"
   ]
  },
  {
   "cell_type": "code",
   "execution_count": null,
   "metadata": {},
   "outputs": [],
   "source": []
  }
 ],
 "metadata": {
  "kernelspec": {
   "display_name": "Python (learn-env)",
   "language": "python",
   "name": "learn-env"
  },
  "language_info": {
   "codemirror_mode": {
    "name": "ipython",
    "version": 3
   },
   "file_extension": ".py",
   "mimetype": "text/x-python",
   "name": "python",
   "nbconvert_exporter": "python",
   "pygments_lexer": "ipython3",
   "version": "3.8.5"
  },
  "toc": {
   "base_numbering": 1,
   "nav_menu": {},
   "number_sections": true,
   "sideBar": true,
   "skip_h1_title": false,
   "title_cell": "Table of Contents",
   "title_sidebar": "Contents",
   "toc_cell": false,
   "toc_position": {},
   "toc_section_display": true,
   "toc_window_display": false
  },
  "varInspector": {
   "cols": {
    "lenName": 16,
    "lenType": 16,
    "lenVar": 40
   },
   "kernels_config": {
    "python": {
     "delete_cmd_postfix": "",
     "delete_cmd_prefix": "del ",
     "library": "var_list.py",
     "varRefreshCmd": "print(var_dic_list())"
    },
    "r": {
     "delete_cmd_postfix": ") ",
     "delete_cmd_prefix": "rm(",
     "library": "var_list.r",
     "varRefreshCmd": "cat(var_dic_list()) "
    }
   },
   "types_to_exclude": [
    "module",
    "function",
    "builtin_function_or_method",
    "instance",
    "_Feature"
   ],
   "window_display": false
  }
 },
 "nbformat": 4,
 "nbformat_minor": 4
}
